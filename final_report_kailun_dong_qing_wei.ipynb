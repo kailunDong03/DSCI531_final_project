{
 "cells": [
  {
   "cell_type": "code",
   "execution_count": 1,
   "id": "2642ac93",
   "metadata": {},
   "outputs": [
    {
     "name": "stderr",
     "output_type": "stream",
     "text": [
      "/Users/cullen/opt/anaconda3/lib/python3.8/site-packages/fuzzywuzzy/fuzz.py:11: UserWarning: Using slow pure-python SequenceMatcher. Install python-Levenshtein to remove this warning\n",
      "  warnings.warn('Using slow pure-python SequenceMatcher. Install python-Levenshtein to remove this warning')\n"
     ]
    }
   ],
   "source": [
    "import pandas as pd\n",
    "from collections import Counter\n",
    "from uszipcode import SearchEngine\n",
    "from datetime import datetime\n",
    "import numpy as np\n",
    "import random\n",
    "from sklearn.utils import shuffle\n",
    "from sklearn.linear_model import LogisticRegression\n",
    "import numpy as np\n",
    "import pandas as pd\n",
    "import matplotlib.pyplot as plt\n",
    "import glob\n",
    "import csv\n",
    "import scipy.stats\n",
    "import os\n",
    "import seaborn as sns\n",
    "from sklearn.linear_model import LogisticRegression,LogisticRegressionCV\n",
    "from sklearn.model_selection import StratifiedKFold,cross_val_score,GridSearchCV\n",
    "from sklearn.feature_selection import RFECV\n",
    "import statsmodels.api as sm\n",
    "import statsmodels.formula.api as smf\n",
    "from sklearn.metrics import auc,roc_curve,confusion_matrix,classification_report\n",
    "from sklearn.utils import resample\n",
    "from sklearn.preprocessing import StandardScaler\n",
    "from sklearn.naive_bayes import GaussianNB,MultinomialNB\n",
    "from imblearn.over_sampling import SMOTE\n",
    "from imblearn.pipeline import Pipeline as imbpipeline\n",
    "engine = SearchEngine()"
   ]
  },
  {
   "cell_type": "markdown",
   "id": "20d6f0a2",
   "metadata": {},
   "source": [
    "### Import data Part"
   ]
  },
  {
   "cell_type": "markdown",
   "id": "c078a5b8",
   "metadata": {},
   "source": [
    "#### Data from Santarosa, mostly from western of united states"
   ]
  },
  {
   "cell_type": "code",
   "execution_count": 2,
   "id": "2a3bc934",
   "metadata": {},
   "outputs": [],
   "source": [
    "from sklearn.model_selection import train_test_split"
   ]
  },
  {
   "cell_type": "code",
   "execution_count": 3,
   "id": "ee0f306a",
   "metadata": {},
   "outputs": [],
   "source": [
    "santarosa=pd.read_csv('Animal_Shelter_Intake_and_Outcome.csv')"
   ]
  },
  {
   "cell_type": "code",
   "execution_count": 4,
   "id": "0ad3765c",
   "metadata": {},
   "outputs": [],
   "source": [
    "santarosa=santarosa.loc[:,['Type', 'Breed', 'Color', 'Sex', 'Size', 'Date Of Birth','Intake Date',\n",
    "       'Outcome Date', 'Days in Shelter', 'Intake Type', 'Intake Subtype',\n",
    "       'Outcome Type', 'Outcome Subtype', 'Intake Condition','Outcome Zip Code']]\n",
    "santarosa=santarosa.loc[santarosa.Type=='DOG']\n",
    "santarosa=santarosa.reset_index(drop=True)\n",
    "santarosa=santarosa.rename(columns={'Outcome Zip Code':'zipcode','Date Of Birth':'DOB','Intake Date':'IntakeDate',\n",
    "       'Outcome Date':'OutcomeDate', 'Days in Shelter':'DaysinShelter', 'Intake Type':'IntakeType', 'Intake Subtype':'IntakeSubtype',\n",
    "       'Outcome Type':'OutcomeType', 'Outcome Subtype':'OutcomeSubtype', 'Intake Condition':'IntakeCondition'})\n",
    "\n",
    "for i in range (len(santarosa)):\n",
    "    try:\n",
    "        zipcode = engine.by_zipcode(int(santarosa.loc[i,'zipcode']))\n",
    "        santarosa.loc[i,'County']=zipcode.county\n",
    "    except:\n",
    "        pass\n",
    "santarosa=santarosa.drop(columns=['zipcode'])"
   ]
  },
  {
   "cell_type": "code",
   "execution_count": 5,
   "id": "b1eaf083",
   "metadata": {},
   "outputs": [],
   "source": [
    "county=dict(Counter(santarosa[santarosa['County'].notna()].County))\n",
    "county_lst=[]\n",
    "for k,v in county.items():\n",
    "    if v>20:\n",
    "        county_lst.append(k)"
   ]
  },
  {
   "cell_type": "code",
   "execution_count": 6,
   "id": "c77d2643",
   "metadata": {},
   "outputs": [],
   "source": [
    "for i in range(len(santarosa)):\n",
    "    if santarosa.loc[i,'County'] not in county_lst:\n",
    "        santarosa=santarosa.drop(i)\n",
    "santarosa=santarosa.reset_index(drop=True)"
   ]
  },
  {
   "cell_type": "code",
   "execution_count": 7,
   "id": "389a0515",
   "metadata": {},
   "outputs": [
    {
     "name": "stdout",
     "output_type": "stream",
     "text": [
      "santarosa (10978, 15)\n"
     ]
    }
   ],
   "source": [
    "print('santarosa',santarosa.shape)"
   ]
  },
  {
   "cell_type": "code",
   "execution_count": 8,
   "id": "37977ceb",
   "metadata": {},
   "outputs": [],
   "source": [
    "from collections import Counter"
   ]
  },
  {
   "cell_type": "markdown",
   "id": "5a38c7e0",
   "metadata": {},
   "source": [
    "#### check missing value and remove"
   ]
  },
  {
   "cell_type": "code",
   "execution_count": 9,
   "id": "9a79d8ad",
   "metadata": {
    "scrolled": true
   },
   "outputs": [
    {
     "data": {
      "text/plain": [
       "Counter({False: 10951, True: 27})"
      ]
     },
     "execution_count": 9,
     "metadata": {},
     "output_type": "execute_result"
    }
   ],
   "source": [
    "Counter(santarosa[\"Size\"].isna())"
   ]
  },
  {
   "cell_type": "code",
   "execution_count": 10,
   "id": "4fe12c94",
   "metadata": {
    "scrolled": true
   },
   "outputs": [
    {
     "data": {
      "text/plain": [
       "Counter({'MED': 3240,\n",
       "         'LARGE': 3124,\n",
       "         'SMALL': 2759,\n",
       "         'PUPPY': 710,\n",
       "         'TOY': 959,\n",
       "         'X-LRG': 159,\n",
       "         nan: 27})"
      ]
     },
     "execution_count": 10,
     "metadata": {},
     "output_type": "execute_result"
    }
   ],
   "source": [
    "Counter(santarosa[\"Size\"])"
   ]
  },
  {
   "cell_type": "code",
   "execution_count": 11,
   "id": "6926c118",
   "metadata": {},
   "outputs": [],
   "source": [
    "santarosa = santarosa[santarosa['Size'].notna()]"
   ]
  },
  {
   "cell_type": "code",
   "execution_count": 12,
   "id": "4f9fd8e0",
   "metadata": {},
   "outputs": [
    {
     "data": {
      "text/plain": [
       "10951"
      ]
     },
     "execution_count": 12,
     "metadata": {},
     "output_type": "execute_result"
    }
   ],
   "source": [
    "len(santarosa)"
   ]
  },
  {
   "cell_type": "code",
   "execution_count": 13,
   "id": "a6b90d3e",
   "metadata": {},
   "outputs": [
    {
     "data": {
      "text/plain": [
       "Counter({'TRANSFER': 1625,\n",
       "         'ADOPTION': 2922,\n",
       "         'RETURN TO OWNER': 5943,\n",
       "         'EUTHANIZE': 381,\n",
       "         'DIED': 5,\n",
       "         'RTOS': 28,\n",
       "         nan: 28,\n",
       "         'APPT': 3,\n",
       "         'DISPOSAL': 14,\n",
       "         'ESCAPED/STOLEN': 2})"
      ]
     },
     "execution_count": 13,
     "metadata": {},
     "output_type": "execute_result"
    }
   ],
   "source": [
    "Counter(santarosa[\"OutcomeType\"])"
   ]
  },
  {
   "cell_type": "code",
   "execution_count": 14,
   "id": "585fdfe7",
   "metadata": {},
   "outputs": [],
   "source": [
    "color_label = [None]*len(santarosa)\n",
    "for i in range(len(santarosa)):\n",
    "    if (\"BLACK\" not in santarosa[\"Color\"].iloc[i]): #color is not black\n",
    "        color_label[i] = 0\n",
    "    if (\"BLACK\" in santarosa[\"Color\"].iloc[i] and santarosa[\"Color\"].iloc[i]!=\"BLACK\"): #contain black color but not black\n",
    "        color_label[i] = 1\n",
    "    if (santarosa[\"Color\"].iloc[i] == \"BLACK\"):#black color\n",
    "        color_label[i] = 2"
   ]
  },
  {
   "cell_type": "code",
   "execution_count": 15,
   "id": "de734961",
   "metadata": {},
   "outputs": [],
   "source": [
    "#santarosa"
   ]
  },
  {
   "cell_type": "code",
   "execution_count": 16,
   "id": "a44eda0e",
   "metadata": {},
   "outputs": [],
   "source": [
    "santarosa = santarosa[santarosa['Size'].notna()]\n",
    "santarosa = santarosa[santarosa['OutcomeType'].notna()]\n",
    "santarosa = santarosa[santarosa['Sex'].notna()]\n",
    "santarosa = santarosa[santarosa['Color'].notna()]\n",
    "santarosa = santarosa[santarosa['Breed'].notna()]\n",
    "santarosa = santarosa[santarosa['DaysinShelter'].notna()]\n",
    "santarosa=santarosa.reset_index(drop=True)"
   ]
  },
  {
   "cell_type": "code",
   "execution_count": 17,
   "id": "f64da8b6",
   "metadata": {},
   "outputs": [
    {
     "data": {
      "text/plain": [
       "Counter({'Sonoma County': 9456,\n",
       "         'Contra Costa County': 218,\n",
       "         'Marin County': 155,\n",
       "         'Mendocino County': 145,\n",
       "         'Lake County': 132,\n",
       "         'San Francisco County': 254,\n",
       "         'Sacramento County': 48,\n",
       "         'Santa Clara County': 67,\n",
       "         'Napa County': 106,\n",
       "         'San Mateo County': 23,\n",
       "         'Alameda County': 97,\n",
       "         'Ada County': 37,\n",
       "         'Humboldt County': 43,\n",
       "         'Placer County': 46,\n",
       "         'Solano County': 49,\n",
       "         'Nevada County': 21,\n",
       "         'Los Angeles County': 26})"
      ]
     },
     "execution_count": 17,
     "metadata": {},
     "output_type": "execute_result"
    }
   ],
   "source": [
    "Counter(santarosa['County'])"
   ]
  },
  {
   "cell_type": "code",
   "execution_count": 18,
   "id": "8642c4fc",
   "metadata": {},
   "outputs": [],
   "source": [
    "county_label=dict()\n",
    "i=0\n",
    "for k in county_lst:\n",
    "    county_label[k]=i\n",
    "    i=i+1"
   ]
  },
  {
   "cell_type": "code",
   "execution_count": 19,
   "id": "8ad57772",
   "metadata": {},
   "outputs": [
    {
     "data": {
      "text/plain": [
       "{'Sonoma County': 0,\n",
       " 'Contra Costa County': 1,\n",
       " 'Marin County': 2,\n",
       " 'Mendocino County': 3,\n",
       " 'Lake County': 4,\n",
       " 'San Francisco County': 5,\n",
       " 'Sacramento County': 6,\n",
       " 'Santa Clara County': 7,\n",
       " 'Napa County': 8,\n",
       " 'San Mateo County': 9,\n",
       " 'Alameda County': 10,\n",
       " 'Ada County': 11,\n",
       " 'Humboldt County': 12,\n",
       " 'Placer County': 13,\n",
       " 'Solano County': 14,\n",
       " 'Nevada County': 15,\n",
       " 'Los Angeles County': 16}"
      ]
     },
     "execution_count": 19,
     "metadata": {},
     "output_type": "execute_result"
    }
   ],
   "source": [
    "county_label"
   ]
  },
  {
   "cell_type": "code",
   "execution_count": 20,
   "id": "dd64910d",
   "metadata": {},
   "outputs": [],
   "source": [
    "for i in range(len(santarosa)):\n",
    "    santarosa.loc[i,'Location_label']=county_label[santarosa.loc[i,'County']]"
   ]
  },
  {
   "cell_type": "markdown",
   "id": "4fa9f050",
   "metadata": {},
   "source": [
    "#### Data from louisvilleky, most from eastern part of united states. Do the same data cleaning process"
   ]
  },
  {
   "cell_type": "code",
   "execution_count": 21,
   "id": "2dfeffee",
   "metadata": {},
   "outputs": [],
   "source": [
    "louisvilleky=pd.read_csv('Animal_IO_Data_louisvilleky.csv')"
   ]
  },
  {
   "cell_type": "code",
   "execution_count": 22,
   "id": "3751853b",
   "metadata": {},
   "outputs": [],
   "source": [
    "louisvilleky=louisvilleky.loc[:,['jurisdiction', 'intype', 'insubtype', 'indate',\n",
    "        'outtype', 'outsubtype', 'outdate', 'animaltype', 'sex',\n",
    "        'petsize', 'color', 'breed']]\n",
    "louisvilleky=louisvilleky.loc[louisvilleky.animaltype=='DOG']\n",
    "louisvilleky=louisvilleky.reset_index(drop=True)\n",
    "louisvilleky=louisvilleky.rename(columns={'animaltype':'Type',\n",
    "                                          'jurisdiction':'zipcode',\n",
    "                                          'intype':'IntakeType', \n",
    "                                          'insubtype':'IntakeSubtype',\n",
    "                                          'indate':'IntakeDate',\n",
    "                                          'outtype':'OutcomeType', \n",
    "                                          'outsubtype':'OutcomeSubtype',\n",
    "                                          'outdate':'OutcomeDate',\n",
    "                                          'sex':'Sex',\n",
    "                                          'petsize':'Size',\n",
    "                                          'color':'Color', \n",
    "                                          'breed':'Breed'})\n",
    "date_format = \"%Y-%m-%d\"\n",
    "for i in range(len(louisvilleky)):\n",
    "    try:\n",
    "        a = datetime.strptime(louisvilleky.loc[i,'OutcomeDate'][:10], date_format)\n",
    "        b = datetime.strptime(louisvilleky.loc[i,'IntakeDate'][:10], date_format)\n",
    "        louisvilleky.loc[i,'DaysinShelter']=(a-b).days\n",
    "    except:\n",
    "        pass\n",
    "for i in range (len(louisvilleky)):\n",
    "    try:\n",
    "        zipcode = engine.by_zipcode(int(louisvilleky.loc[i,'zipcode']))\n",
    "        louisvilleky.loc[i,'County']=zipcode.county\n",
    "    except:\n",
    "        pass\n",
    "louisvilleky=louisvilleky.drop(columns=['zipcode'])"
   ]
  },
  {
   "cell_type": "code",
   "execution_count": 23,
   "id": "d2aca559",
   "metadata": {},
   "outputs": [],
   "source": [
    "louisvilleky = louisvilleky[louisvilleky['Size'].notna()]\n",
    "\n",
    "louisvilleky = louisvilleky[louisvilleky['OutcomeType'].notna()]\n",
    "\n",
    "louisvilleky = louisvilleky[louisvilleky['Sex'].notna()]\n",
    "\n",
    "louisvilleky = louisvilleky[louisvilleky['Color'].notna()]\n",
    "\n",
    "louisvilleky = louisvilleky[louisvilleky['Breed'].notna()]\n",
    "\n",
    "louisvilleky = louisvilleky[louisvilleky['DaysinShelter'].notna()]"
   ]
  },
  {
   "cell_type": "code",
   "execution_count": 24,
   "id": "25339a53",
   "metadata": {},
   "outputs": [],
   "source": [
    "louisvilleky=louisvilleky.sort_values(by='IntakeDate',ascending=False).reset_index(drop=True)[0:15000]"
   ]
  },
  {
   "cell_type": "code",
   "execution_count": 25,
   "id": "ba3cee0f",
   "metadata": {},
   "outputs": [],
   "source": [
    "location_label = [17]*len(louisvilleky)\n",
    "county_label[louisvilleky.loc[0,'County']]=17"
   ]
  },
  {
   "cell_type": "code",
   "execution_count": 26,
   "id": "6a194837",
   "metadata": {},
   "outputs": [],
   "source": [
    "louisvilleky[\"Location_label\"] = location_label"
   ]
  },
  {
   "cell_type": "markdown",
   "id": "44fb407c",
   "metadata": {},
   "source": [
    "### Combine two dataframe"
   ]
  },
  {
   "cell_type": "code",
   "execution_count": 28,
   "id": "d2f80099",
   "metadata": {},
   "outputs": [],
   "source": [
    "final_data=pd.concat([santarosa,louisvilleky])\n"
   ]
  },
  {
   "cell_type": "code",
   "execution_count": 29,
   "id": "13d117cf",
   "metadata": {
    "scrolled": true
   },
   "outputs": [
    {
     "data": {
      "text/plain": [
       "Counter({'LARGE': 4814,\n",
       "         'PUPPY': 1549,\n",
       "         'MED': 5222,\n",
       "         'SMALL': 2597,\n",
       "         'X-LRG': 271,\n",
       "         'TOY': 547})"
      ]
     },
     "execution_count": 29,
     "metadata": {},
     "output_type": "execute_result"
    }
   ],
   "source": [
    "Counter(louisvilleky.Size)"
   ]
  },
  {
   "cell_type": "markdown",
   "id": "19e8ecb1",
   "metadata": {},
   "source": [
    "### Label encoding part"
   ]
  },
  {
   "cell_type": "markdown",
   "id": "29792c50",
   "metadata": {},
   "source": [
    "#### intake subtype"
   ]
  },
  {
   "cell_type": "code",
   "execution_count": 30,
   "id": "c0d136cd",
   "metadata": {},
   "outputs": [],
   "source": [
    "from sklearn import preprocessing\n",
    "le = preprocessing.LabelEncoder()\n",
    "le.fit(['STRAY', 'ADOPTION RETURN', 'OWNER SURRENDER', 'CONFISCATE', 'TRANSFER', 'QUARANTINE', 'OS APPT', 'DISPOSAL', 'RETURN', 'FOSTER', 'OWNER SUR', 'FOUND', 'LOST', 'FOR TRANSP', 'EVACUEE'])\n",
    "intake_type_label = le.transform(final_data[\"IntakeType\"])\n",
    "final_data.loc[:,'IntakeTypeLabel']=intake_type_label"
   ]
  },
  {
   "cell_type": "code",
   "execution_count": 31,
   "id": "fe6d8d47",
   "metadata": {},
   "outputs": [],
   "source": [
    "final_data=final_data[final_data['IntakeSubtype'].notna()]"
   ]
  },
  {
   "cell_type": "code",
   "execution_count": 32,
   "id": "b0d9727f",
   "metadata": {},
   "outputs": [],
   "source": [
    "subtype=dict(Counter(final_data['IntakeSubtype']))"
   ]
  },
  {
   "cell_type": "code",
   "execution_count": 33,
   "id": "f8c6fc26",
   "metadata": {},
   "outputs": [],
   "source": [
    "le = preprocessing.LabelEncoder()\n",
    "le.fit(list(subtype.keys()))\n",
    "subtype_label = le.transform(final_data[\"IntakeSubtype\"])\n",
    "final_data.loc[:,'IntakeSubtypeLabel']=subtype_label"
   ]
  },
  {
   "cell_type": "markdown",
   "id": "d25ec0d6",
   "metadata": {},
   "source": [
    "### Sex label"
   ]
  },
  {
   "cell_type": "code",
   "execution_count": 34,
   "id": "1d467056",
   "metadata": {},
   "outputs": [],
   "source": [
    "final_data=final_data.loc[(final_data.Sex!='Unknown')]\n",
    "final_data=final_data.loc[final_data.Sex!='U'].reset_index(drop=True)"
   ]
  },
  {
   "cell_type": "code",
   "execution_count": 35,
   "id": "911a1b00",
   "metadata": {},
   "outputs": [],
   "source": [
    "#sex encoding to label\n",
    "sex_label = [None]*len(final_data)\n",
    "for i in range(len(final_data)):\n",
    "    if (final_data[\"Sex\"].iloc[i] in [\"Male\",\"M\"]): #sex is male\n",
    "        sex_label[i] = 0\n",
    "    if (final_data[\"Sex\"].iloc[i] in [\"Female\",\"F\"]): #female\n",
    "        sex_label[i] = 1\n",
    "    if (final_data[\"Sex\"].iloc[i] in [\"Spayed\",\"S\"]):#spayed\n",
    "        sex_label[i] = 2\n",
    "    if (final_data[\"Sex\"].iloc[i] in [\"Neutered\",\"N\"]):#Neutered\n",
    "        sex_label[i] = 3\n"
   ]
  },
  {
   "cell_type": "markdown",
   "id": "7fcf6239",
   "metadata": {},
   "source": [
    "### Color label"
   ]
  },
  {
   "cell_type": "code",
   "execution_count": 36,
   "id": "99459bd6",
   "metadata": {},
   "outputs": [],
   "source": [
    "color_label = [None]*len(final_data)\n",
    "for i in range(len(final_data)):\n",
    "    if (\"BLACK\" not in final_data[\"Color\"].iloc[i]): #color is not black\n",
    "        color_label[i] = 0\n",
    "    if (\"BLACK\" in final_data[\"Color\"].iloc[i] and final_data[\"Color\"].iloc[i]!=\"BLACK\"): #contain black color but not black\n",
    "        color_label[i] = 1\n",
    "    if (final_data[\"Color\"].iloc[i] == \"BLACK\"):#black color\n",
    "        color_label[i] = 1"
   ]
  },
  {
   "cell_type": "markdown",
   "id": "941ed8ee",
   "metadata": {},
   "source": [
    "### Size label"
   ]
  },
  {
   "cell_type": "code",
   "execution_count": 37,
   "id": "c5e14eff",
   "metadata": {},
   "outputs": [],
   "source": [
    "size_label = [None]*len(final_data)\n",
    "for i in range(len(final_data)):\n",
    "    if(final_data[\"Size\"].iloc[i] in [\"SMALL\",\"TOY\",\"PUPPY\"]):\n",
    "        size_label[i] = 0\n",
    "    if(final_data[\"Size\"].iloc[i] in [\"MED\",'67.5']):\n",
    "        size_label[i] = 1\n",
    "    if(final_data[\"Size\"].iloc[i] in [\"LARGE\",\"X-LRG\"]):\n",
    "        size_label[i] = 2\n",
    "    if(final_data[\"Size\"].iloc[i] == None):\n",
    "        size_label[i] = 1"
   ]
  },
  {
   "cell_type": "markdown",
   "id": "0d4a63d2",
   "metadata": {},
   "source": [
    "### Breed label"
   ]
  },
  {
   "cell_type": "code",
   "execution_count": 38,
   "id": "0a5fec57",
   "metadata": {},
   "outputs": [
    {
     "data": {
      "text/plain": [
       "['GERM SHEPHERD',\n",
       " 'PIT BULL',\n",
       " 'CHIHUAHUA SH',\n",
       " 'AMERICAN STAFF',\n",
       " 'BOXER',\n",
       " 'ITAL GREYHOUND',\n",
       " 'PARSON RUSS TER',\n",
       " 'DACHSHUND',\n",
       " 'ALASK MALAMUTE',\n",
       " 'SIBERIAN HUSKY',\n",
       " 'BORDER COLLIE',\n",
       " 'DOBERMAN PINSCH',\n",
       " 'CAIRN TERRIER',\n",
       " 'ENG COONHOUND',\n",
       " 'ENG BULLDOG',\n",
       " 'MASTIFF',\n",
       " 'MALTESE',\n",
       " 'BOSTON TERRIER',\n",
       " 'FOX TERR SMOOTH',\n",
       " 'POMERANIAN',\n",
       " 'POODLE MIN',\n",
       " 'AMER FOXHOUND',\n",
       " 'AMER BULLDOG',\n",
       " 'MIN PINSCHER',\n",
       " 'GREAT PYRENEES',\n",
       " 'CHIHUAHUA LH',\n",
       " 'AUST CATTLE DOG',\n",
       " 'BEAGLE',\n",
       " 'YORKSHIRE TERR',\n",
       " 'ALASKAN HUSKY',\n",
       " 'LABRADOR RETR',\n",
       " 'ROTTWEILER',\n",
       " 'BELG MALINOIS',\n",
       " 'BULLDOG',\n",
       " 'ENG FOXHOUND',\n",
       " 'RAT TERRIER',\n",
       " 'POODLE TOY',\n",
       " 'BULLMASTIFF',\n",
       " 'AUST SHEPHERD',\n",
       " 'ANATOL SHEPHERD',\n",
       " 'CATAHOULA',\n",
       " 'FOX TERR WIRE',\n",
       " 'AKBASH',\n",
       " 'FRENCH BULLDOG',\n",
       " 'AKITA',\n",
       " 'TOY FOX TERRIER',\n",
       " 'CHOW CHOW',\n",
       " 'AM PIT BULL TER',\n",
       " 'AMER ESKIMO',\n",
       " 'COCKER SPAN',\n",
       " 'PLOTT HOUND',\n",
       " 'SHIH TZU',\n",
       " 'GREAT DANE',\n",
       " 'PUG',\n",
       " 'BLUETICK HOUND',\n",
       " 'LHASA APSO',\n",
       " 'TIBETAN TERR',\n",
       " 'WELSH CORGI CAR',\n",
       " 'ENG POINTER',\n",
       " 'ST BERNARD SMTH',\n",
       " 'GERM WH POINT',\n",
       " 'BASSET HOUND',\n",
       " 'AUST KELPIE',\n",
       " 'HAVANESE',\n",
       " 'VIZSLA',\n",
       " 'GOLDEN RETR',\n",
       " 'CAROLINA DOG',\n",
       " 'BICHON FRISE',\n",
       " 'WELSH CORGI PEM',\n",
       " 'IRISH TERRIER',\n",
       " 'BULL TERRIER',\n",
       " 'COLLIE ROUGH',\n",
       " 'SC WHEAT TERR',\n",
       " 'TR WALKER HOUND',\n",
       " 'OLD ENG BULLDOG',\n",
       " 'GREYHOUND',\n",
       " 'BORDER TERRIER',\n",
       " 'BELG TERVUREN',\n",
       " 'POINTER',\n",
       " 'COTON DE TULEAR',\n",
       " 'GERM SH POINT',\n",
       " 'SKYE TERRIER',\n",
       " 'IRISH WOLFHOUND',\n",
       " 'BOUV FLANDRES',\n",
       " 'POODLE STND',\n",
       " 'STAFFORDSHIRE',\n",
       " 'REDBONE HOUND',\n",
       " 'CANE CORSO',\n",
       " 'PORT WATER DOG',\n",
       " 'CHESA BAY RETR',\n",
       " 'RHOD RIDGEBACK',\n",
       " 'ST BERNARD RGH',\n",
       " 'AUST TERRIER',\n",
       " 'PAPILLON',\n",
       " 'CAVALIER SPAN',\n",
       " 'DOGO ARGENTINO',\n",
       " 'WEIMARANER',\n",
       " 'QUEENSLAND HEEL',\n",
       " 'DACHSHUND LH',\n",
       " 'BASENJI',\n",
       " 'NORW ELKHOUND',\n",
       " 'BRITTANY',\n",
       " 'CHINESE SHARPEI',\n",
       " 'SHETLD SHEEPDOG',\n",
       " 'SCHNAUZER MIN',\n",
       " 'ENG SPRNGR SPAN',\n",
       " 'ENG SETTER',\n",
       " 'TIBETAN MASTIFF',\n",
       " 'SCHNAUZER STAND',\n",
       " 'WEST HIGHLAND',\n",
       " 'PEKINGESE',\n",
       " 'BLOODHOUND',\n",
       " 'AFFENPINSCHER',\n",
       " 'KOMONDOR',\n",
       " 'CHINESE CRESTED',\n",
       " 'PODENGO PEQUENO',\n",
       " 'AIREDALE TERR',\n",
       " 'SCHIPPERKE',\n",
       " 'NEWFOUNDLAND',\n",
       " 'DACHSHUND WH',\n",
       " 'SCOT TERRIER',\n",
       " 'DOGUE DE BORDX',\n",
       " 'NORW BUHUND',\n",
       " 'KANGAL',\n",
       " 'DALMATIAN',\n",
       " 'SAMOYED',\n",
       " 'BOERBOEL',\n",
       " 'SHIBA INU',\n",
       " 'FLAT COAT RETR',\n",
       " 'RHODESIAN RIDGE',\n",
       " 'MANCHESTER TERR',\n",
       " 'IRISH SETTER',\n",
       " 'SPANISH MASTIFF',\n",
       " 'WELSH TERRIER',\n",
       " 'MAREMMA SHEEPDG',\n",
       " 'ALASKAN MALAMUT',\n",
       " 'SCHNAUZER GIANT',\n",
       " 'BORDER COLLIE X',\n",
       " 'PATTERDALE TERR',\n",
       " 'SALUKI',\n",
       " 'BLACK MOUTH CUR',\n",
       " 'SILKY TERRIER',\n",
       " 'DUTCH SHEPHERD',\n",
       " 'ENG TOY SPANIEL',\n",
       " 'BRUSS GRIFFON',\n",
       " 'COLLIE SMOOTH',\n",
       " 'PRESA CANARIO',\n",
       " 'JACK RUSS TER',\n",
       " 'BEAUCERON',\n",
       " 'WH PT GRIFFON',\n",
       " 'WHIPPET',\n",
       " 'NORFOLK TERRIER',\n",
       " 'ALASK KLEE KAI',\n",
       " 'FEIST',\n",
       " 'LAKELAND TERR',\n",
       " 'MEX HAIRLESS',\n",
       " 'LEONBERGER',\n",
       " 'NS DUCK TOLLING',\n",
       " 'NORWICH TERRIER',\n",
       " 'PHARAOH HOUND',\n",
       " 'NEAPOLITAN MAST',\n",
       " 'CAVALIER KING CHARLES',\n",
       " 'TERRIER',\n",
       " 'AFGHAN HOUND',\n",
       " 'ENG COCKER SPAN',\n",
       " 'OLDENG SHEEPDOG',\n",
       " 'JACK RUSS TERR',\n",
       " 'ENG SHEPHERD',\n",
       " 'TREEING CUR',\n",
       " 'IBIZAN HOUND',\n",
       " 'JAPANESE CHIN',\n",
       " 'BULL TERR MIN',\n",
       " 'BLUE LACY',\n",
       " 'TENN TR BRINDLE',\n",
       " 'FIELD SPANIEL',\n",
       " 'BEARDED COLLIE',\n",
       " 'GORDON SETTER',\n",
       " 'SUSSEX SPAN']"
      ]
     },
     "execution_count": 38,
     "metadata": {},
     "output_type": "execute_result"
    }
   ],
   "source": [
    "breed_type_lst = list(Counter(final_data[\"Breed\"]).keys())\n",
    "pure_lst = []\n",
    "for i in range(len(breed_type_lst)):\n",
    "    if (\"/\" not in breed_type_lst[i] and \"MIX\" not in breed_type_lst[i] and \"&\" not in breed_type_lst[i] and \",\" not in breed_type_lst[i]):\n",
    "        pure_lst.append(breed_type_lst[i])\n",
    "pure_lst"
   ]
  },
  {
   "cell_type": "code",
   "execution_count": 39,
   "id": "587a9abe",
   "metadata": {},
   "outputs": [
    {
     "data": {
      "text/plain": [
       "<bound method Counter.most_common of Counter({'PIT BULL': 4234, 'CHIHUAHUA SH': 1369, 'GERM SHEPHERD': 1222, 'LABRADOR RETR': 1029, 'PIT BULL / MIX': 886, 'LABRADOR RETR / MIX': 708, 'PIT BULL/MIX': 622, 'SIBERIAN HUSKY': 489, 'CHIHUAHUA SH/MIX': 439, 'BEAGLE': 429, 'SHIH TZU': 381, 'GERM SHEPHERD / MIX': 317, 'LABRADOR RETR/MIX': 289, 'ROTTWEILER': 287, 'GERM SHEPHERD/MIX': 283, 'BOXER / MIX': 248, 'BOXER': 244, 'BEAGLE / MIX': 244, 'YORKSHIRE TERR': 221, 'ALASKAN HUSKY': 221, 'PARSON RUSS TER/MIX': 187, 'BORDER COLLIE': 186, 'POODLE MIN': 179, 'CANE CORSO': 154, 'CHIHUAHUA SH / MIX': 148, 'CHIHUAHUA LH': 147, 'BORDER COLLIE/MIX': 144, 'AUST CATTLE DOG': 134, 'PARSON RUSS TER': 125, 'AUST SHEPHERD': 125, 'POMERANIAN': 120, 'MIN PINSCHER': 117, 'GREAT PYRENEES': 117, 'AMER BULLDOG': 112, 'JACK RUSS TER / MIX': 110, 'BORDER COLLIE / MIX': 110, 'CAIRN TERRIER/MIX': 106, 'JACK RUSS TER': 104, 'AM PIT BULL TER': 101, 'AMERICAN STAFF': 99, 'GOLDEN RETR': 97, 'DACHSHUND': 96, 'POODLE MIN/MIX': 93, 'MALTESE': 93, 'STAFFORDSHIRE': 93, 'MASTIFF': 92, 'DOBERMAN PINSCH': 79, 'PUG': 78, 'AUST SHEPHERD/MIX': 75, 'BOSTON TERRIER': 73, 'LABRADOR RETR / PIT BULL': 73, 'AUST CATTLE DOG / MIX': 68, 'STAFFORDSHIRE / MIX': 67, 'AUST SHEPHERD / MIX': 66, 'YORKSHIRE TERR / MIX': 65, 'SHIH TZU / MIX': 65, 'AMER BULLDOG / MIX': 63, 'BOXER / LABRADOR RETR': 63, 'CHIHUAHUA LH/MIX': 62, 'AUST CATTLE DOG/MIX': 61, 'SIBERIAN HUSKY/MIX': 61, 'SCHNAUZER MIN': 61, 'MASTIFF / MIX': 61, 'PIT BULL / LABRADOR RETR': 60, 'BELG MALINOIS': 59, 'DACHSHUND/MIX': 56, 'RAT TERRIER': 55, 'SIBERIAN HUSKY / MIX': 54, 'CAIRN TERRIER': 50, 'POMERANIAN/MIX': 50, 'ROTTWEILER / MIX': 50, 'YORKSHIRE TERR/MIX': 47, 'POODLE TOY': 46, 'COCKER SPAN': 46, 'BULL TERRIER': 45, 'GERM SH POINT': 45, 'CANE CORSO / MIX': 45, 'PLOTT HOUND / MIX': 45, 'PIT BULL/LABRADOR RETR': 44, 'AKITA': 44, 'CATAHOULA/MIX': 43, 'BEAGLE/MIX': 41, 'FRENCH BULLDOG': 41, 'GREAT DANE': 41, 'CAIRN TERRIER / MIX': 41, 'LABRADOR RETR / BOXER': 40, 'SCHNAUZER MIN/MIX': 38, 'ALASKAN HUSKY / MIX': 38, 'GERM SHEPHERD/SIBERIAN HUSKY': 37, 'MALTESE/MIX': 37, 'LABRADOR RETR / GERM SHEPHERD': 37, 'ENG BULLDOG': 36, 'ROTTWEILER/MIX': 36, 'AUST KELPIE/MIX': 36, 'BLACK/TAN HOUND': 36, 'DACHSHUND / MIX': 36, 'RAT TERRIER/MIX': 34, 'SHIH TZU/MIX': 34, 'BOXER / PIT BULL': 34, 'TR WALKER HOUND': 33, 'POODLE STND': 32, 'CATAHOULA / MIX': 32, 'MIN PINSCHER / MIX': 32, 'QUEENSLAND HEEL/MIX': 31, 'BASSET HOUND': 31, 'BICHON FRISE': 31, 'SCHNAUZER MIN / MIX': 31, 'POMERANIAN / MIX': 31, 'FOX TERR SMOOTH': 30, 'ANATOL SHEPHERD': 30, 'CHIHUAHUA SH/PARSON RUSS TER': 30, 'LHASA APSO': 30, 'LABRADOR RETR/PIT BULL': 29, 'RHOD RIDGEBACK/MIX': 29, 'JACK RUSS TERR': 29, 'ENG COONHOUND': 28, 'POODLE MIN / MIX': 28, 'CATAHOULA': 27, 'BULLMASTIFF': 26, 'BLUETICK HOUND': 26, 'GERM SHEPHERD / LABRADOR RETR': 26, 'MIN PINSCHER/MIX': 25, 'DOBERMAN PINSCH/MIX': 25, 'BOXER/MIX': 25, 'AMERICAN STAFF / MIX': 25, 'PIT BULL / BOXER': 24, 'BLACK MOUTH CUR / MIX': 24, 'MALTESE / MIX': 24, 'LHASA APSO/MIX': 23, 'FOX TERR SMOOTH/MIX': 23, 'WELSH CORGI CAR/MIX': 23, 'PLOTT HOUND': 23, 'PUG / BEAGLE': 23, 'NEAPOLITAN MAST': 23, 'LABRADOR RETR/BORDER COLLIE': 22, 'BULLDOG': 22, 'RAT TERRIER / MIX': 22, 'GOLDEN RETR / MIX': 22, 'COCKER SPAN/MIX': 21, 'CHIHUAHUA SH/DACHSHUND': 21, 'CHOW CHOW': 21, 'CHINESE SHARPEI': 21, 'FRENCH BULLDOG/MIX': 21, 'GREAT PYRENEES / MIX': 21, 'PARSON RUSS TER/CHIHUAHUA SH': 20, 'ALASK MALAMUTE': 20, 'REDBONE HOUND': 20, 'LABRADOR RETR / BEAGLE': 20, 'COLLIE SMOOTH / MIX': 20, 'LABRADOR RETR/SIBERIAN HUSKY': 19, 'AMER ESKIMO': 19, 'AMER BULLDOG/MIX': 19, 'WELSH CORGI PEM': 19, 'PEKINGESE': 19, 'BLACK MOUTH CUR': 19, 'PATTERDALE TERR / MIX': 19, 'DOBERMAN PINSCH / MIX': 19, 'MASTIFF/MIX': 18, 'CHINESE SHARPEI/MIX': 18, 'GREAT DANE/MIX': 18, 'PUG/BEAGLE': 18, 'AMER FOXHOUND / MIX': 18, 'GREAT DANE / MIX': 18, 'BULLDOG / MIX': 18, 'LABRADOR RETR/GERM SHEPHERD': 17, 'PUG/MIX': 17, 'BELG MALINOIS/MIX': 17, 'WEIMARANER': 17, 'PUG / MIX': 17, 'BEAGLE / JACK RUSS TER': 17, 'LABRADOR RETR / BORDER COLLIE': 17, 'CHIHUAHUA LH / MIX': 17, 'ENG COONHOUND / GERM SHEPHERD': 17, 'REDBONE HOUND / MIX': 17, 'ALASKAN HUSKY/MIX': 16, 'QUEENSLAND HEEL': 16, 'BEAGLE / LABRADOR RETR': 16, 'POINTER / MIX': 16, 'WEST HIGHLAND': 15, 'BLOODHOUND': 15, 'PRESA CANARIO': 15, 'PIT BULL / AMER BULLDOG': 15, 'DUTCH SHEPHERD / MIX': 15, 'CHOW CHOW / MIX': 15, 'CHINESE SHARPEI / MIX': 15, 'BOXER / BEAGLE': 15, 'TR WALKER HOUND/MIX': 14, 'PIT BULL/BOXER': 14, 'BORDER COLLIE/LABRADOR RETR': 14, 'ROTTWEILER/GERM SHEPHERD': 14, 'GOLDEN RETR/MIX': 14, 'AMERICAN STAFF/PIT BULL': 14, 'DACHSHUND LH': 14, 'GERM SHEPHERD / SIBERIAN HUSKY': 14, 'GERM SHEPHERD / PIT BULL': 14, 'DACHSHUND/CHIHUAHUA SH': 13, 'MALTESE/POODLE MIN': 13, 'FOX TERR WIRE': 13, 'GERM SHEPHERD/PIT BULL': 13, 'WELSH CORGI CAR': 13, 'AUST KELPIE': 13, 'BICHON FRISE/MIX': 13, 'RHOD RIDGEBACK': 13, 'DALMATIAN': 13, 'ANATOL SHEPHERD / MIX': 13, 'BORDER COLLIE / LABRADOR RETR': 13, 'DACHSHUND / CHIHUAHUA SH': 13, 'SCHNAUZER STAND / MIX': 13, 'BORDER COLLIE / BEAGLE': 13, 'WHIPPET / MIX': 13, 'AMERICAN STAFF / AMER BULLDOG': 13, 'CHIHUAHUA SH / DACHSHUND': 13, 'GERM SHEPHERD/LABRADOR RETR': 12, 'GREAT PYRENEES/MIX': 12, 'LABRADOR RETR/ROTTWEILER': 12, 'POMERANIAN/ITAL GREYHOUND': 12, 'DUTCH SHEPHERD/MIX': 12, 'TIBETAN TERR/MIX': 12, 'SIBERIAN HUSKY/GERM SHEPHERD': 12, 'HAVANESE': 12, 'POINTER': 12, 'ST BERNARD RGH': 12, 'BRITTANY': 12, 'SCHNAUZER STAND': 12, 'BLACK/TAN HOUND / MIX': 12, 'TR WALKER HOUND / MIX': 12, 'BASENJI / MIX': 12, 'BEAGLE / PUG': 12, 'BOXER/PIT BULL': 11, 'PAPILLON/MIX': 11, 'LABRADOR RETR/DOBERMAN PINSCH': 11, 'ST BERNARD SMTH': 11, 'ROTTWEILER/LABRADOR RETR': 11, 'DOGUE DE BORDX': 11, 'SHIBA INU': 11, 'SILKY TERRIER': 11, 'LABRADOR RETR / GOLDEN RETR': 11, 'BELG MALINOIS / MIX': 11, 'BOXER / AMER BULLDOG': 11, 'JACK RUSS TER / BEAGLE': 11, 'GERM SHEPHERD/POINTER': 10, 'GERM SHEPHERD/ALASKAN HUSKY': 10, 'CHIHUAHUA SH/MIN PINSCHER': 10, 'FOX TERR WIRE/MIX': 10, 'GREAT PYRENEES/CATAHOULA': 10, 'BASENJI': 10, 'COLLIE SMOOTH': 10, 'PIT BULL / BULLDOG': 10, 'ROTTWEILER / LABRADOR RETR': 10, 'LABRADOR RETR / CHOW CHOW': 10, 'BOSTON TERRIER / MIX': 10, 'FOX TERR WIRE / MIX': 10, 'BOXER / MASTIFF': 10, 'AUST SHEPHERD / BEAGLE': 10, 'ANATOL SHEPHERD/MIX': 9, 'PIT BULL/CHINESE SHARPEI': 9, 'CHIHUAHUA SH/PUG': 9, 'LABRADOR RETR/POODLE STND': 9, 'ALASKAN HUSKY/GERM SHEPHERD': 9, 'PAPILLON': 9, 'SHETLD SHEEPDOG': 9, 'NEWFOUNDLAND': 9, 'FLAT COAT RETR': 9, 'GERM SHEPHERD / BOXER': 9, 'AKITA / MIX': 9, 'SIBERIAN HUSKY / GERM SHEPHERD': 9, 'POODLE TOY / MIX': 9, 'MANCHESTER TERR / MIX': 9, 'GERM SH POINT / MIX': 9, 'BEAGLE / DACHSHUND': 9, 'BEAGLE / AUST CATTLE DOG': 9, 'TOY FOX TERRIER/MIX': 8, 'GERM SH POINT/MIX': 8, 'ITAL GREYHOUND': 8, 'POINTER/MIX': 8, 'BULLMASTIFF/MIX': 8, 'AKITA/LABRADOR RETR': 8, 'AKBASH': 8, 'POODLE TOY/MIX': 8, 'ENG FOXHOUND/MIX': 8, 'BOSTON TERRIER/MIX': 8, 'CAVALIER SPAN/MIX': 8, 'GERM WH POINT': 8, 'WELSH CORGI PEM/MIX': 8, 'CATAHOULA/LABRADOR RETR': 8, 'BLACK MOUTH CUR/MIX': 8, 'CAVALIER SPAN': 8, 'WELSH CORGI PEM/BORDER COLLIE': 8, 'WEST HIGHLAND/MIX': 8, 'CHOW CHOW/MIX': 8, 'MALTESE/SHIH TZU': 8, 'ROTTWEILER/PIT BULL': 8, 'BEAGLE / CHIHUAHUA SH': 8, 'COCKER SPAN / MIX': 8, 'LABRADOR RETR / GREAT DANE': 8, 'LABRADOR RETR / AMER BULLDOG': 8, 'LABRADOR RETR / MASTIFF': 8, 'SCHNAUZER MIN / POODLE MIN': 8, 'DALMATIAN / MIX': 8, 'BOXER / BULLDOG': 8, 'MALTESE / POODLE MIN': 8, 'GERM SHEPHERD / ENG COONHOUND': 8, 'WELSH CORGI PEM / MIX': 8, 'GERM SHEPHERD / ALASKAN HUSKY': 8, 'YORKSHIRE TERR / SHIH TZU': 8, 'ROTTWEILER / GERM SHEPHERD': 8, 'LABRADOR RETR / ROTTWEILER': 8, 'ENG COONHOUND / MIX': 8, 'AKITA / GERM SHEPHERD': 8, 'LABRADOR RETR / WEIMARANER': 8, 'BULLMASTIFF / MIX': 8, 'REDBONE HOUND/MIX': 7, 'BEAGLE/WELSH CORGI PEM': 7, 'SHETLD SHEEPDOG/MIX': 7, 'AMER FOXHOUND': 7, 'COCKER SPAN/POODLE MIN': 7, 'MIN PINSCHER/CHIHUAHUA SH': 7, 'TOY FOX TERRIER': 7, 'SCHNAUZER STAND/MIX': 7, 'PIT BULL/BORDER COLLIE': 7, 'BORDER TERRIER': 7, 'BLACK/TAN HOUND/MIX': 7, 'AUST TERRIER': 7, 'ENG SPRNGR SPAN': 7, 'BEAGLE/FOX TERR SMOOTH': 7, 'PATTERDALE TERR': 7, 'BRUSS GRIFFON': 7, 'LABRADOR RETR/CANE CORSO': 7, 'NEWFOUNDLAND / MIX': 7, 'IBIZAN HOUND / MIX': 7, 'SIBERIAN HUSKY / PIT BULL': 7, 'LABRADOR RETR / JACK RUSS TER': 7, 'CHIHUAHUA SH / BEAGLE': 7, 'DACHSHUND WH / MIX': 7, 'CHIHUAHUA SH / PUG': 7, 'GERM SHEPHERD / BEAGLE': 7, 'WHIPPET': 7, 'YORKSHIRE TERR / POODLE MIN': 7, 'AMER BULLDOG / BOXER': 7, 'LABRADOR RETR / BASSET HOUND': 7, 'CANE CORSO / LABRADOR RETR': 7, 'LABRADOR RETR / CHINESE SHARPEI': 7, 'SCOT TERRIER / MIX': 7, 'PEKINGESE / MIX': 7, 'ENG BULLDOG / PIT BULL': 7, 'AMER ESKIMO / MIX': 7, 'GERM SHEPHERD / BORDER COLLIE': 7, 'CATAHOULA/BORDER COLLIE': 6, 'AKITA/MIX': 6, 'VIZSLA/MIX': 6, 'BULL TERRIER/MIX': 6, 'AUST CATTLE DOG/LABRADOR RETR': 6, 'VIZSLA': 6, 'IRISH TERRIER': 6, 'COLLIE ROUGH': 6, 'SC WHEAT TERR': 6, 'GREYHOUND': 6, 'GERM SHEPHERD/WELSH CORGI CAR': 6, 'CHESA BAY RETR': 6, 'POMERANIAN/CHIHUAHUA SH': 6, 'PIT BULL/CATAHOULA': 6, 'NORW ELKHOUND': 6, 'ENG SETTER': 6, 'GERM SHEPHERD/BELG MALINOIS': 6, 'AFFENPINSCHER': 6, 'BASSET HOUND/MIX': 6, 'SCOT TERRIER': 6, 'POMERANIAN/PAPILLON': 6, 'WELSH TERRIER': 6, 'DUTCH SHEPHERD': 6, 'SHETLD SHEEPDOG / MIX': 6, 'GERM SHEPHERD / ROTTWEILER': 6, 'DACHSHUND / BEAGLE': 6, 'ST BERNARD SMTH / MIX': 6, 'POODLE STND / LABRADOR RETR': 6, 'BULLDOG / PIT BULL': 6, 'NORFOLK TERRIER': 6, 'LABRADOR RETR / POODLE STND': 6, 'BEAGLE / BOXER': 6, 'AUST KELPIE / MIX': 6, 'FEIST': 6, 'GERM SHEPHERD / CHOW CHOW': 6, 'FOX TERR SMOOTH / MIX': 6, 'ALASKAN HUSKY / LABRADOR RETR': 6, 'GERM SHEPHERD / DOBERMAN PINSCH': 6, 'POMERANIAN / CHIHUAHUA LH': 6, 'BOXER / GREAT DANE': 6, 'CHIHUAHUA SH/RAT TERRIER': 5, 'PARSON RUSS TER/BEAGLE': 5, 'SHIBA INU/MIX': 5, 'ROTTWEILER/ALASKAN HUSKY': 5, 'PEKINGESE/MIX': 5, 'DACHSHUND/PARSON RUSS TER': 5, 'PIT BULL/GERM SHEPHERD': 5, 'AM PIT BULL TER/MIX': 5, 'GERM SHEPHERD/ROTTWEILER': 5, 'ENG POINTER': 5, 'COLLIE ROUGH/MIX': 5, 'AUST SHEPHERD/BORDER COLLIE': 5, 'BORDER TERRIER/MIX': 5, 'BORDER COLLIE/PIT BULL': 5, 'BASENJI/MIX': 5, 'SIBERIAN HUSKY/LABRADOR RETR': 5, 'GREAT DANE/LABRADOR RETR': 5, 'PIT BULL/ROTTWEILER': 5, 'DACHSHUND WH': 5, 'MANCHESTER TERR': 5, 'MAREMMA SHEEPDG': 5, 'ENG POINTER / MIX': 5, 'AMER BULLDOG / STAFFORDSHIRE': 5, 'FLAT COAT RETR / MIX': 5, 'GOLDEN RETR / LABRADOR RETR': 5, 'BRUSS GRIFFON / MIX': 5, 'BEAGLE / BOSTON TERRIER': 5, 'BOXER / STAFFORDSHIRE': 5, 'ENG SETTER / MIX': 5, 'MIN PINSCHER / DACHSHUND': 5, 'PIT BULL / BOSTON TERRIER': 5, 'BLOODHOUND / MIX': 5, 'LHASA APSO / MIX': 5, 'CHIHUAHUA SH / RAT TERRIER': 5, 'BOXER / GERM SHEPHERD': 5, 'SHIH TZU / YORKSHIRE TERR': 5, 'WEST HIGHLAND / MIX': 5, 'MIN PINSCHER / CHIHUAHUA SH': 5, 'CHIHUAHUA SH / LABRADOR RETR': 5, 'AUST CATTLE DOG / AUST SHEPHERD': 5, 'AUST SHEPHERD / LABRADOR RETR': 5, 'PIT BULL / BASSET HOUND': 5, 'ALASKAN HUSKY / AUST CATTLE DOG': 5, 'JACK RUSS TER / CHIHUAHUA SH': 5, 'GERM SHEPHERD / BLACK/TAN HOUND': 5, 'BEAGLE / GERM SHEPHERD': 5, 'BOSTON TERRIER / BEAGLE': 5, 'POODLE MIN / SCHNAUZER MIN': 5, 'ST BERNARD RGH / MIX': 5, 'GERM SHEPHERD / IRISH WOLFHOUND': 5, 'FEIST / MIX': 5, 'BOSTON TERRIER / BULLDOG': 5, 'CHESA BAY RETR / PIT BULL': 5, 'NEWFOUNDLAND/MIX': 4, 'DACHSHUND LH/MIX': 4, 'SC WHEAT TERR/MIX': 4, 'GERM SHEPHERD/BORDER COLLIE': 4, 'NORFOLK TERRIER/MIX': 4, 'MASTIFF/PIT BULL': 4, 'PARSON RUSS TER/PIT BULL': 4, 'RHOD RIDGEBACK/LABRADOR RETR': 4, 'PIT BULL/AUST CATTLE DOG': 4, 'POODLE MIN/MALTESE': 4, 'CHINESE SHARPEI/PIT BULL': 4, 'CHIHUAHUA SH/BEAGLE': 4, 'LABRADOR RETR/CHOW CHOW': 4, 'GREAT PYRENEES/ANATOL SHEPHERD': 4, 'CHIHUAHUA SH/MALTESE': 4, 'CAIRN TERRIER/POODLE MIN': 4, 'COTON DE TULEAR': 4, 'AUST CATTLE DOG/PIT BULL': 4, 'CHIHUAHUA LH/PAPILLON': 4, 'MALTESE/YORKSHIRE TERR': 4, 'FLAT COAT RETR/MIX': 4, 'MALTESE/POODLE TOY': 4, 'LABRADOR RETR/FLAT COAT RETR': 4, 'YORKSHIRE TERR/CAVALIER SPAN': 4, 'AKBASH/MIX': 4, 'AMER BULLDOG/PIT BULL': 4, 'MIX': 4, 'BORDER COLLIE/PARSON RUSS TER': 4, 'SAMOYED': 4, 'SIBERIAN HUSKY/PIT BULL': 4, 'IRISH SETTER': 4, 'GOLDEN RETR/GERM SHEPHERD': 4, 'PARSON RUSS TER/COCKER SPAN': 4, 'SCHNAUZER GIANT': 4, 'BRITTANY/MIX': 4, 'AMER BULLDOG / LABRADOR RETR': 4, 'PIT BULL / GERM SHEPHERD': 4, 'CHINESE SHARPEI / PIT BULL': 4, 'JACK RUSS TER / LABRADOR RETR': 4, 'GERM SHEPHERD / GOLDEN RETR': 4, 'LABRADOR RETR / GREAT PYRENEES': 4, 'YORKSHIRE TERR / MALTESE': 4, 'PARSON RUSS TER / MIX': 4, 'YORKSHIRE TERR / CHIHUAHUA LH': 4, 'BOXER / BOSTON TERRIER': 4, 'BEAGLE / BASSET HOUND': 4, 'BRITTANY / MIX': 4, 'MALTESE / YORKSHIRE TERR': 4, 'CHIHUAHUA SH / JACK RUSS TER': 4, 'ALASKAN HUSKY / PIT BULL': 4, 'AUST CATTLE DOG / BEAGLE': 4, 'ALASK KLEE KAI': 4, 'BULL TERRIER / MIX': 4, 'WEIMARANER / MIX': 4, 'BULLDOG / BOXER': 4, 'MEX HAIRLESS': 4, 'WELSH CORGI CAR / MIX': 4, 'ENG BULLDOG / MIX': 4, 'CHIHUAHUA SH / BOSTON TERRIER': 4, 'CAROLINA DOG / MIX': 4, 'BORDER TERRIER / MIX': 4, 'CHOW CHOW / LABRADOR RETR': 4, 'PLOTT HOUND / LABRADOR RETR': 4, 'GERM SHEPHERD / POINTER': 4, 'SHIH TZU / POODLE MIN': 4, 'REDBONE HOUND / LABRADOR RETR': 4, 'DACHSHUND LH / MIX': 4, 'BICHON FRISE / MIX': 4, 'PUG / CHIHUAHUA SH': 4, 'FINNISH SPITZ / MIX': 4, 'DACHSHUND / JACK RUSS TER': 4, 'YORKSHIRE TERR / SCHNAUZER MIN': 4, 'SHIBA INU / MIX': 4, 'BLUETICK HOUND / BEAGLE': 4, 'FRENCH BULLDOG / PIT BULL': 4, 'REDBONE HOUND / BOXER': 4, 'WEST HIGHLAND / JACK RUSS TER': 4, 'JACK RUSS TER / SCHNAUZER MIN': 4, 'AUST SHEPHERD / GREAT PYRENEES': 4, 'DANDIE DINMONT / MIX': 4, 'CAVALIER KING CHARLES': 4, 'PIT BULL/AUST KELPIE': 3, 'FOX TERR SMOOTH/BEAGLE': 3, 'SIBERIAN HUSKY/AUST SHEPHERD': 3, 'RHOD RIDGEBACK/BOXER': 3, 'CHIHUAHUA LH/FOX TERR WIRE': 3, 'JACK/MIX': 3, 'PLOTT HOUND/MIX': 3, 'PATTERDALE TERR/MIX': 3, 'CHIHUAHUA SH/YORKSHIRE TERR': 3, 'FOX TERR SMOOTH/CHIHUAHUA SH': 3, 'BORDER COLLIE/CATAHOULA': 3, 'AMERICAN STAFF/MIX': 3, 'TIBETAN TERR': 3, 'PIT BULL/DACHSHUND': 3, 'AKITA/GERM SHEPHERD': 3, 'CHIHUAHUA SH/PIT BULL': 3, 'ENG SPRNGR SPAN/MIX': 3, 'GERM SHEPHERD/CHOW CHOW': 3, 'CAROLINA DOG': 3, 'PARSON RUSS TER/DACHSHUND': 3, 'OLD ENG BULLDOG': 3, 'BEAGLE/CHIHUAHUA SH': 3, 'GERM SHEPHERD/MASTIFF': 3, 'SKYE TERRIER': 3, 'BICHON FRISE/POODLE MIN': 3, 'BOUV FLANDRES': 3, 'BORDER COLLIE/AUST SHEPHERD': 3, 'GOLDEN RETR/POODLE STND': 3, 'AMER BULLDOG/BOXER': 3, 'POODLE STND/MIX': 3, 'CHIHUAHUA SH/CAIRN TERRIER': 3, 'BORDER COLLIE/GREAT PYRENEES': 3, 'BULL TERRIER/PARSON RUSS TER': 3, 'BORDER COLLIE/GERM SHEPHERD': 3, 'DOGO ARGENTINO': 3, 'CHIHUAHUA SH/POMERANIAN': 3, 'LABRADOR RETR/MALTESE': 3, 'NORWICH TERRIER/MIX': 3, 'AIREDALE TERR/MIX': 3, 'AMER ESKIMO/MIX': 3, 'PIT BULL/BULLMASTIFF': 3, 'DALMATIAN/MIX': 3, 'CHINESE CRESTED': 3, 'LABRADOR RETR/BOXER': 3, 'AIREDALE TERR': 3, 'PIT BULL/BOSTON TERRIER': 3, 'POODLE MIN/BICHON FRISE': 3, 'STAFFORDSHIRE/MIX': 3, 'AMER FOXHOUND/MIX': 3, 'AUST CATTLE DOG/QUEENSLAND HEEL': 3, 'BEAGLE/PUG': 3, 'MASTIFF/GREAT DANE': 3, 'YORKSHIRE TERR/SCHNAUZER MIN': 3, 'BORDER COLLIE/AUST CATTLE DOG': 3, 'PIT BULL/DALMATIAN': 3, 'AUST TERRIER/MIX': 3, 'BOXER/SHIBA INU': 3, 'FOX TERR SMOOTH/BORDER COLLIE': 3, 'LABRADOR RETR / ALASKAN HUSKY': 3, 'AM PIT BULL TER / MIX': 3, 'WEIMARANER / LABRADOR RETR': 3, 'GREAT DANE / LABRADOR RETR': 3, 'BEAGLE / BORDER COLLIE': 3, 'CAVALIER KING CHARLES / MIX': 3, 'BEAGLE / CATAHOULA': 3, 'SHIH TZU / POODLE TOY': 3, 'LABRADOR RETR / AUST CATTLE DOG': 3, 'BASSET HOUND / BEAGLE': 3, 'SHIH TZU / SCHNAUZER MIN': 3, 'AUST CATTLE DOG / PIT BULL': 3, 'LABRADOR RETR / SIBERIAN HUSKY': 3, 'STAFFORDSHIRE / BASSET HOUND': 3, 'BEAUCERON': 3, 'POODLE MIN / MALTESE': 3, 'PIT BULL / DALMATIAN': 3, 'BASSET HOUND / MIX': 3, 'SHIH TZU / MALTESE': 3, 'AUST CATTLE DOG / LABRADOR RETR': 3, 'SCHNAUZER MIN / SHIH TZU': 3, 'COLLIE SMOOTH / LABRADOR RETR': 3, 'LABRADOR RETR / BLUETICK HOUND': 3, 'CANE CORSO / PIT BULL': 3, 'MASTIFF / LABRADOR RETR': 3, 'DACHSHUND / PUG': 3, 'PIT BULL / CATAHOULA': 3, 'PIT BULL / ALASKAN HUSKY': 3, 'BLACK/TAN HOUND / GERM SHEPHERD': 3, 'LABRADOR RETR / PLOTT HOUND': 3, 'RAT TERRIER / JACK RUSS TER': 3, 'POMERANIAN / CHIHUAHUA SH': 3, 'NORWICH TERRIER': 3, 'LABRADOR RETR / COLLIE SMOOTH': 3, 'LABRADOR RETR / AUST SHEPHERD': 3, 'AUST CATTLE DOG / DACHSHUND': 3, 'GERM SHEPHERD / COLLIE SMOOTH': 3, 'JACK RUSS TER / BORDER COLLIE': 3, 'ENG BULLDOG / AMER BULLDOG': 3, 'GERM SHEPHERD / MASTIFF': 3, 'ROTTWEILER / PIT BULL': 3, 'DALMATIAN / PIT BULL': 3, 'GERM SHEPHERD / JACK RUSS TER': 3, 'JACK RUSS TER / PUG': 3, 'ROTTWEILER / SIBERIAN HUSKY': 3, 'AUST SHEPHERD / JACK RUSS TER': 3, 'CHIHUAHUA SH / WELSH CORGI PEM': 3, 'GERM SH POINT / LABRADOR RETR': 3, 'LABRADOR RETR / BLACK MOUTH CUR': 3, 'AUST CATTLE DOG / CATAHOULA': 3, 'BORDER COLLIE / ALASKAN HUSKY': 3, 'AMERICAN STAFF / CHINESE SHARPEI': 3, 'GREYHOUND / MIX': 3, 'DOBERMAN PINSCH / BLACK MOUTH CUR': 3, 'BOSTON TERRIER / BOXER': 3, 'ST BERNARD SMTH / LABRADOR RETR': 3, 'PIT BULL / WEIMARANER': 3, 'ENG COCKER SPAN / MIX': 3, 'CHIHUAHUA SH / CHIHUAHUA SH': 3, 'CHIHUAHUA SH / MIN PINSCHER': 3, 'CAIRN TERRIER / YORKSHIRE TERR': 3, 'CAIRN TERRIER / SCHNAUZER MIN': 3, 'BLUETICK HOUND / MIX': 3, 'WELSH TERRIER / MIX': 3, 'CAROLINA DOG / WHIPPET': 3, 'PIT BULL / SCHNAUZER MIN': 3, 'YORKSHIRE TERR/FOX TERR WIRE': 2, 'CHIHUAHUA LH/POODLE MIN': 2, 'ENG BULLDOG/MIX': 2, 'PIT BULL/BASSET HOUND': 2, 'MASTIFF/ROTTWEILER': 2, 'CHIHUAHUA LH/DACHSHUND': 2, 'CAIRN TERRIER/YORKSHIRE TERR': 2, 'GERM WH POINT/MIX': 2, 'CHIHUAHUA LH/POMERANIAN': 2, 'TIBETAN SPAN/CHIHUAHUA LH': 2, 'ENG FOXHOUND': 2, 'PBGV/MIX': 2, 'BULLDOG/MIX': 2, 'CHIHUAHUA SH/SHIBA INU': 2, 'CHIHUAHUA SH/SHIH TZU': 2, 'LABRADOR RETR/CHINESE SHARPEI': 2, 'QUEENSLAND HEEL/SIBERIAN HUSKY': 2, 'AUST CATTLE DOG/BORDER COLLIE': 2, 'BOXER/LABRADOR RETR': 2, 'POODLE MIN/SHIH TZU': 2, 'LABRADOR RETR/GREAT PYRENEES': 2, 'CHIHUAHUA LH/YORKSHIRE TERR': 2, 'DACHSHUND WH/MIX': 2, 'POMERANIAN/SCHIPPERKE': 2, 'AUST SHEPHERD/GERM SHEPHERD': 2, 'CHINESE SHARPEI/LABRADOR RETR': 2, 'ENG COONHOUND/MIX': 2, 'PIT BULL/GERM SH POINT': 2, 'POMERANIAN/SHIH TZU': 2, 'BORDER COLLIE/QUEENSLAND HEEL': 2, 'CHIHUAHUA & MIX': 2, 'CATAHOULA/BLACK MOUTH CUR': 2, 'HAVANESE/MIX': 2, 'GOLDEN RETR/LABRADOR RETR': 2, 'PORT WATER DOG': 2, 'SHIH TZU/POODLE MIN': 2, 'PIT BULL/SIBERIAN HUSKY': 2, 'BLUETICK HOUND/MIX': 2, 'ALASKAN HUSKY/BORDER COLLIE': 2, 'FLAT COAT RETR/GERM SHEPHERD': 2, 'POODLE TOY/MALTESE': 2, 'BOXER/RHOD RIDGEBACK': 2, 'RAT TERRIER/DACHSHUND': 2, 'ALASKAN HUSKY/PIT BULL': 2, 'BOSTON TERRIER/PIT BULL': 2, 'BELG MALINOIS/GERM SHEPHERD': 2, 'CHIHUAHUA SH/POODLE MIN': 2, 'ENG BULLDOG/PIT BULL': 2, 'CANE CORSO/MASTIFF': 2, 'ALASK MALAMUTE/MIX': 2, 'AUST CATTLE DOG/BELG MALINOIS': 2, 'ITAL GREYHOUND/CHIHUAHUA SH': 2, 'PIT BULL/ALASK MALAMUTE': 2, 'POODLE MIN/LHASA APSO': 2, 'CHOW CHOW/LABRADOR RETR': 2, 'GERM SHEPHERD/ANATOL SHEPHERD': 2, 'TIBETAN MASTIFF': 2, 'BORDER COLLIE/BASENJI': 2, 'BEAGLE/TOY FOX TERRIER': 2, 'PAPILLON/CHIHUAHUA LH': 2, 'GERM SHEPHERD/AKITA': 2, 'CHOW CHOW/GOLDEN RETR': 2, 'LABRADOR RETR/CATAHOULA': 2, 'CATAHOULA/QUEENSLAND HEEL': 2, 'AUST SHEPHERD/PIT BULL': 2, 'SCHNAUZER MIN/DACHSHUND': 2, 'TOY FOX TERRIER/CHIHUAHUA SH': 2, 'GERM SHEPHERD/QUEENSLAND HEEL': 2, 'DOGUE DE BORDX/MIX': 2, 'SCHNAUZER MIN/POODLE MIN': 2, 'NORW BUHUND': 2, 'AUST CATTLE DOG/GERM SHEPHERD': 2, 'AKBASH/GREAT PYRENEES': 2, 'BEAGLE/PARSON RUSS TER': 2, 'PUG/BOSTON TERRIER': 2, 'ITAL GREYHOUND/MIN PINSCHER': 2, 'PARSON RUSS TER/BOSTON TERRIER': 2, 'LABRADOR RETR/BELG MALINOIS': 2, 'CHIHUAHUA SH/TOY FOX TERRIER': 2, 'BLACK MOUTH CUR/CATAHOULA': 2, 'YORKSHIRE TERR/MALTESE': 2, 'BERNESE MTN DOG/MIX': 2, 'DOBERMAN PINSCH/ENG COONHOUND': 2, 'LABRADOR RETR/ENG SPRNGR SPAN': 2, 'AMER FOXHOUND/GREAT PYRENEES': 2, 'BORDER COLLIE X': 2, 'SHIH TZU/PARSON RUSS TER': 2, 'BULL TERRIER/LABRADOR RETR': 2, 'CANE CORSO/MIX': 2, 'BULL TERRIER/BORDER COLLIE': 2, 'POODLE STND/LABRADOR RETR': 2, 'COCKER SPAN/CHIHUAHUA SH': 2, 'AUST SHEPHERD/GOLDEN RETR': 2, 'RHOD RIDGEBACK/ROTTWEILER': 2, 'AUST SHEPHERD/SIBERIAN HUSKY': 2, 'RAT TERRIER/AUST CATTLE DOG': 2, 'BORDER COLLIE/BOXER': 2, 'DACHSHUND WH/CAIRN TERRIER': 2, 'AUST SHEPHERD/CHIHUAHUA SH': 2, 'BOXER/ENG FOXHOUND': 2, 'CAIRN TERRIER/SKYE TERRIER': 2, 'CAIRN TERRIER/CHIHUAHUA SH': 2, 'AKITA/CHOW CHOW': 2, 'POINTER / LABRADOR RETR': 2, 'GERM SHEPHERD / GREAT PYRENEES': 2, 'PEKINGESE / PUG': 2, 'GOLDEN RETR / POODLE STND': 2, 'STAFFORDSHIRE / LABRADOR RETR': 2, 'SIBERIAN HUSKY / BORDER COLLIE': 2, 'CHOW CHOW / PIT BULL': 2, 'CATAHOULA / PIT BULL': 2, 'OTTERHOUND / MIX': 2, 'IRISH SETTER / LABRADOR RETR': 2, 'PIT BULL / JACK RUSS TER': 2, 'SCHNAUZER STAND / SKYE TERRIER': 2, 'SCHIPPERKE / MIX': 2, 'BEAGLE / DALMATIAN': 2, 'AMERICAN STAFF / ENG BULLDOG': 2, 'LABRADOR RETR / POINTER': 2, 'ALASK MALAMUTE / ALASKAN HUSKY': 2, 'PIT BULL / ROTTWEILER': 2, 'GERM WH POINT / SCHNAUZER GIANT': 2, 'BEAGLE / DACHSHUND WH': 2, 'BLACK MOUTH CUR / LABRADOR RETR': 2, 'ALASK MALAMUTE / MIX': 2, 'ALASKAN HUSKY / GERM SHEPHERD': 2, 'PIT BULL / PLOTT HOUND': 2, 'STAFFORDSHIRE / BOXER': 2, 'WELSH CORGI CAR / AMER BULLDOG': 2, 'AIREDALE TERR / MIX': 2, 'DACHSHUND / MIN PINSCHER': 2, 'DUTCH SHEPHERD / PIT BULL': 2, 'DOGUE DE BORDX / MIX': 2, 'BRUSS GRIFFON / PUG': 2, 'OLDENG SHEEPDOG / POODLE STND': 2, 'ENG FOXHOUND / MIX': 2, 'GORDON SETTER / GERM SHEPHERD': 2, 'FRENCH BULLDOG / MIX': 2, 'LAKELAND TERR': 2, 'PRESA CANARIO / MIX': 2, 'BASSET HOUND / ALASKAN HUSKY': 2, 'GOLDEN RETR / CANE CORSO': 2, 'CHIHUAHUA LH / DACHSHUND LH': 2, 'BEAGLE / WELSH CORGI PEM': 2, 'BICHON FRISE / CAVALIER SPAN': 2, 'CAIRN TERRIER / WEST HIGHLAND': 2, 'PIT BULL / STAFFORDSHIRE': 2, 'SHIBA INU / CHIHUAHUA SH': 2, 'GREYHOUND / LABRADOR RETR': 2, 'JACK RUSS TER / RAT TERRIER': 2, 'LABRADOR RETR / BRITTANY': 2, 'BOXER / RHOD RIDGEBACK': 2, 'ST BERNARD RGH / POODLE STND': 2, 'LEONBERGER': 2, 'COCKER SPAN / BRITTANY': 2, 'LABRADOR RETR / BULLDOG': 2, 'CANE CORSO / ROTTWEILER': 2, 'CHINESE SHARPEI / LABRADOR RETR': 2, 'PIT BULL / BLACK/TAN HOUND': 2, 'ROTTWEILER / GREAT DANE': 2, 'BEAGLE / STAFFORDSHIRE': 2, 'MASTIFF / PIT BULL': 2, 'HAVANESE / MIX': 2, 'NORFOLK TERRIER / BEAGLE': 2, 'IRISH WOLFHOUND / MIX': 2, 'BRITTANY / BORDER COLLIE': 2, 'AUST SHEPHERD / PIT BULL': 2, 'AUST CATTLE DOG / AMER BULLDOG': 2, 'WELSH CORGI PEM / CHIHUAHUA SH': 2, 'BOXER / BULLMASTIFF': 2, 'BOXER / BORDER COLLIE': 2, 'ITAL GREYHOUND / JACK RUSS TER': 2, 'WELSH CORGI CAR / BASSET HOUND': 2, 'GREAT DANE / GREAT PYRENEES': 2, 'PIT BULL / CANE CORSO': 2, 'LABRADOR RETR / TR WALKER HOUND': 2, 'ENG SPRNGR SPAN / MIX': 2, 'PIT BULL / CHINESE SHARPEI': 2, 'PEKINGESE / POODLE MIN': 2, 'AMER BULLDOG / PIT BULL': 2, 'NORW BUHUND / MIX': 2, 'BOSTON TERRIER / PUG': 2, 'PAPILLON / MIX': 2, 'TR WALKER HOUND / ALASKAN HUSKY': 2, 'CATAHOULA / AUST CATTLE DOG': 2, 'RAT TERRIER / CHIHUAHUA SH': 2, 'AUST KELPIE / BELG MALINOIS': 2, 'ANATOL SHEPHERD / LABRADOR RETR': 2, 'BLACK/TAN HOUND / BEAGLE': 2, 'POINTER / GERM SHEPHERD': 2, 'ENG BULLDOG / LABRADOR RETR': 2, 'FRENCH BULLDOG / CHIHUAHUA SH': 2, 'IRISH TERRIER / MIX': 2, 'PAPILLON / POMERANIAN': 2, 'SCHNAUZER STAND / FOX TERR SMOOTH': 2, 'BOXER / AUST CATTLE DOG': 2, 'COLLIE SMOOTH / AUST SHEPHERD': 2, 'PIT BULL / AUST SHEPHERD': 2, 'DACHSHUND / LABRADOR RETR': 2, 'LABRADOR RETR / GERM SH POINT': 2, 'STAFFORDSHIRE / BULLDOG': 2, 'STAFFORDSHIRE / PIT BULL': 2, 'TOY FOX TERRIER / WELSH CORGI PEM': 2, 'MALTESE / WEST HIGHLAND': 2, 'AKITA / PIT BULL': 2, 'CHOW CHOW / GERM SHEPHERD': 2, 'BEAGLE / ENG SPRNGR SPAN': 2, 'BEAGLE / RAT TERRIER': 2, 'GREAT DANE / AMER BULLDOG': 2, 'LABRADOR RETR / MANCHESTER TERR': 2, 'GERM SHEPHERD / MIN PINSCHER': 2, 'CHIHUAHUA SH / ITAL GREYHOUND': 2, 'CAIRN TERRIER / POMERANIAN': 2, 'BASENJI / GERM SHEPHERD': 2, 'BEAGLE / WELSH CORGI CAR': 2, 'AUST SHEPHERD / GERM SHEPHERD': 2, 'SIBERIAN HUSKY / LABRADOR RETR': 2, 'SCHNAUZER STAND / BORDER COLLIE': 2, 'TERRIER': 2, 'RHOD RIDGEBACK / MIX': 2, 'CAIRN TERRIER / SHIH TZU': 2, 'SHIH TZU / DACHSHUND LH': 2, 'CHIHUAHUA LH / SHIH TZU': 2, 'LABRADOR RETR / STAFFORDSHIRE': 2, 'AUST SHEPHERD / BOXER': 2, 'BEAGLE / SHIH TZU': 2, 'PIT BULL / MASTIFF': 2, 'JACK RUSS TER / SHIH TZU': 2, 'COLLIE SMOOTH / GERM SHEPHERD': 2, 'GOLDEN RETR / SCHNAUZER GIANT': 2, 'PRESA CANARIO / CANE CORSO': 2, 'BOXER / CAIRN TERRIER': 2, 'JACK RUSS TER / BOXER': 2, 'PIT BULL / BULL TERRIER': 2, 'BOXER / AUST SHEPHERD': 2, 'DOBERMAN PINSCH / LABRADOR RETR': 2, 'POODLE STND / MIX': 2, 'BOSTON TERRIER / PIT BULL': 2, 'BOXER / ALASKAN HUSKY': 2, 'DOGO ARGENTINO / MIX': 2, 'BORDER COLLIE / CHIHUAHUA SH': 2, 'ST BERNARD SMTH / TR WALKER HOUND': 2, 'POODLE STND / GOLDEN RETR': 2, 'DACHSHUND / GOLDEN RETR': 2, 'LABRADOR RETR / BOSTON TERRIER': 2, 'DALMATIAN / LABRADOR RETR': 2, 'BEARDED COLLIE': 2, 'LABRADOR RETR / PUG': 2, 'TR WALKER HOUND / LABRADOR RETR': 2, 'GORDON SETTER': 2, 'CANAAN DOG / MIX': 2, 'AUST SHEPHERD / COLLIE ROUGH': 2, 'YORKSHIRE TERR/BRUSS GRIFFON': 1, 'AUST KELPIE/WHIPPET': 1, 'CHOW CHOW/PIT BULL': 1, 'GOLDEN RETR/AUST CATTLE DOG': 1, 'PARSON RUSS TER/BOXER': 1, 'WELSH CORGI PEM/QUEENSLAND HEEL': 1, 'AKITA/ANATOL SHEPHERD': 1, 'SHETLD SHEEPDOG/BORDER COLLIE': 1, 'WEIMARANER/MIX': 1, 'AKITA/PIT BULL': 1, 'AMER FOXHOUND/WHIPPET': 1, 'BOSTON TERRIER/BORDER TERRIER': 1, 'AMER BULLDOG/AM PIT BULL TER': 1, 'ST BERNARD RGH/MIX': 1, 'PAPILLON/PARSON RUSS TER': 1, 'ALASKAN HUSKY/AUST SHEPHERD': 1, 'AUST CATTLE DOG/CATAHOULA': 1, 'POINTER/COCKER SPAN': 1, 'BEAGLE/GERM SHEPHERD': 1, 'PARSON RUSS TER/PUG': 1, 'PARSON RUSS TER/LABRADOR RETR': 1, 'CHIHUAHUA SH/SCHIPPERKE': 1, 'BEAGLE/AMERICAN STAFF': 1, 'DACHSHUND/POMERANIAN': 1, 'DOBERMAN PINSCH/GERM SHEPHERD': 1, 'ROTTWEILER/AUST SHEPHERD': 1, 'ENG POINTER/MIX': 1, 'CHIHUAHUA LH/DACHSHUND LH': 1, 'CHOW CHOW/SAMOYED': 1, 'ENG BULLDOG/FRENCH BULLDOG': 1, 'BELG MALINOIS/BELG TERVUREN': 1, 'LABRADOR RETR/AUST CATTLE DOG': 1, 'OLD ENG BULLDOG/PIT BULL': 1, 'STAFFORDSHIRE/ENG BULLDOG': 1, 'LABRADOR RETR/GOLDEN RETR': 1, 'BORDER COLLIE/BLACK/TAN HOUND': 1, 'GERM SHEPHERD/WELSH CORGI PEM': 1, 'GERM SHEPHERD/DOBERMAN PINSCH': 1, 'AMERICAN STAFF/GERM SHEPHERD': 1, 'SIBERIAN HUSKY/AKITA': 1, 'DOBERMAN PINSCH/GOLDEN RETR': 1, 'PEKINGESE/POODLE TOY': 1, 'CHIHUAHUA SH/FOX TERR SMOOTH': 1, 'SIBERIAN HUSKY/CHOW CHOW': 1, 'LHASA APSO/CAIRN TERRIER': 1, 'BELG TERVUREN': 1, 'AUST KELPIE/CATAHOULA': 1, 'AKITA/ALASKAN HUSKY': 1, 'LABRADOR RETR/WH PT GRIFFON': 1, 'AUST CATTLE DOG/BASENJI': 1, 'VIZSLA/LABRADOR RETR': 1, 'WELSH CORGI PEM/CAVALIER SPAN': 1, 'IRISH WOLFHOUND': 1, 'ST BERNARD SMTH/CHOW CHOW': 1, 'PIT BULL/ITAL GREYHOUND': 1, 'ALASKAN HUSKY/BEAGLE': 1, 'CHIHUAHUA LH/SHIBA INU': 1, 'CHINESE SHARPEI/WELSH CORGI PEM': 1, 'TOSA/MIX': 1, 'WELSH CORGI CAR/BORDER COLLIE': 1, 'BORDER COLLIE/IRISH SETTER': 1, 'DOBERMAN PINSCH/PIT BULL': 1, 'BOXER/AM PIT BULL TER': 1, 'BLOODHOUND/MIX': 1, 'POODLE TOY/CAIRN TERRIER': 1, 'LABRADOR RETR/PHARAOH HOUND': 1, 'GR SWISS MTN/MIX': 1, 'BOXER/QUEENSLAND HEEL': 1, 'PIT BULL/PEKINGESE': 1, 'GOLDEN RETR/BORDER COLLIE': 1, 'DOBERMAN PINSCH/BELG SHEEPDOG': 1, 'DACHSHUND WH/CHIHUAHUA SH': 1, 'RAT TERRIER/MIN PINSCHER': 1, 'GERM SHEPHERD/AUST KELPIE': 1, 'CAIRN TERRIER/SCHNAUZER MIN': 1, 'CATAHOULA/GREYHOUND': 1, 'BORDER COLLIE/SIBERIAN HUSKY': 1, 'ALASKAN HUSKY/LABRADOR RETR': 1, 'BICHON FRISE/WEST HIGHLAND': 1, 'CAIRN TERRIER/POMERANIAN': 1, 'CHIHUAHUA SH/QUEENSLAND HEEL': 1, 'SCOT TERRIER/MIX': 1, 'MALTESE/BICHON FRISE': 1, 'NORWICH TERRIER/CAIRN TERRIER': 1, 'FOX TERR WIRE/WELSH CORGI PEM': 1, 'MALTESE/POODLE STND': 1, 'GERM SHEPHERD/AMERICAN STAFF': 1, 'YORKSHIRE TERR/PARSON RUSS TER': 1, 'TR WALKER HOUND/PIT BULL': 1, 'SIBERIAN HUSKY/GOLDEN RETR': 1, 'GREAT PYRENEES/AKBASH': 1, 'LHASA APSO/POODLE MIN': 1, 'QUEENSLAND HEEL/AUST SHEPHERD': 1, 'GREYHOUND/PIT BULL': 1, 'GREAT PYRENEES/LABRADOR RETR': 1, 'COLLIE SMOOTH/MIX': 1, 'AUST SHEPHERD/LABRADOR RETR': 1, 'CAVALIER SPAN/BICHON FRISE': 1, 'BEAGLE/LABRADOR RETR': 1, 'SHIH TZU/LHASA APSO': 1, 'PARSON RUSS TER/TIBETAN TERR': 1, 'PIT BULL/MASTIFF': 1, 'LABRADOR RETR/BOSTON TERRIER': 1, 'SCHIPPERKE/CHIHUAHUA LH': 1, 'CAROLINA DOG/GERM SHEPHERD': 1, 'KOMONDOR': 1, 'BORDER COLLIE/ALASKAN HUSKY': 1, 'PODENGO PEQUENO': 1, 'GERM SHEPHERD/AUST SHEPHERD': 1, 'BASSET HOUND/PARSON RUSS TER': 1, 'TIBETAN TERR/POODLE MIN': 1, 'POODLE MIN/COCKER SPAN': 1, 'GERM SH POINT/ENG SPRNGR SPAN': 1, 'SCHIPPERKE': 1, 'ROTTWEILER/AKITA': 1, 'CHIHUAHUA LH/SHIH TZU': 1, 'SHIBA INU/PIT BULL': 1, 'PUG/CHIHUAHUA SH': 1, 'DACHSHUND/AUST CATTLE DOG': 1, 'ANATOL SHEPHERD/AUST CATTLE DOG': 1, 'POODLE MIN/LABRADOR RETR': 1, 'PIT BULL/BEAGLE': 1, 'BOSTON TERRIER/FOX TERR SMOOTH': 1, 'WELSH TERRIER/MIX': 1, 'ROTTWEILER/AM PIT BULL TER': 1, 'FRENCH BULLDOG/AM PIT BULL TER': 1, 'LABRADOR RETR/FOX TERR SMOOTH': 1, 'DACHSHUND/POODLE MIN': 1, 'RAT TERRIER/CHIHUAHUA SH': 1, 'ROTTWEILER/SIBERIAN HUSKY': 1, 'PIT BULL/AMER BULLDOG': 1, 'PIT BULL/ALASKAN HUSKY': 1, 'BASSET HOUND/GERM SHEPHERD': 1, 'GOLDEN RETR/BASSET HOUND': 1, 'PARSON RUSS TER/WELSH CORGI CAR': 1, 'SIBERIAN HUSKY/BELG SHEEPDOG': 1, 'BOXER/MASTIFF': 1, 'SIBERIAN HUSKY/AUST CATTLE DOG': 1, 'CAIRN TERRIER/PUG': 1, 'PARSON RUSS TER/FOX TERR SMOOTH': 1, 'AFFENPINSCHER/MIX': 1, 'PIT BULL/WEIMARANER': 1, 'ENG SETTER/AUST SHEPHERD': 1, 'CHINESE SHARPEI/BEAGLE': 1, 'BEARDED COLLIE/MIX': 1, 'BEAGLE/FOX TERR WIRE': 1, 'RAT TERRIER/GERM SHEPHERD': 1, 'KANGAL': 1, 'CHIHUAHUA LH/NORFOLK TERRIER': 1, 'PARSON RUSS TER/DACHSHUND WH': 1, 'LABRADOR RETR/VIZSLA': 1, 'PIT BULL/GOLDEN RETR': 1, 'ROTTWEILER/BOXER': 1, 'PARSON RUSS TER/POMERANIAN': 1, 'BRUSS GRIFFON/CHIHUAHUA SH': 1, 'MASTIFF/BOXER': 1, 'SIBERIAN HUSKY/POODLE MIN': 1, 'SIBERIAN HUSKY/SIBERIAN HUSKY': 1, 'BOERBOEL': 1, 'PARSON RUSS TER/PAPILLON': 1, 'FOX TERR SMOOTH/CAVALIER SPAN': 1, 'BLOODHOUND & GE': 1, 'PODENGO PEQUENO/MIX': 1, 'REDBONE HOUND/MASTIFF': 1, 'RHODESIAN RIDGE': 1, 'GOLDEN RETR/ROTTWEILER': 1, 'YORKSHIRE TERR/POODLE TOY': 1, 'GERM SHEPHERD/GREAT PYRENEES': 1, 'POINTER/GERM SHEPHERD': 1, 'CAROLINA DOG/MIX': 1, 'BELG TERVUREN/GERM SHEPHERD': 1, 'DACHSHUND/COLLIE ROUGH': 1, 'POMERANIAN/PEKINGESE': 1, 'BELG TERVUREN/MIX': 1, 'BASSET HOUND/BEAGLE': 1, 'SHIH TZU/CHIHUAHUA LH': 1, 'CHIHUAHUA SH/TERRIER': 1, 'GOLDEN RETR/CHOW CHOW': 1, 'TERRIER & MIX': 1, 'YORKSHIRE TERR/CHIHUAHUA LH': 1, 'CHIHUAHUA LH/WELSH CORGI PEM': 1, 'LHASA APSO/PAPILLON': 1, 'PIT BULL/WELSH CORGI PEM': 1, 'MASTIFF/QUEENSLAND HEEL': 1, 'PIT BULL/TR WALKER HOUND': 1, 'POODLE MIN/WEST HIGHLAND': 1, 'PARSON RUSS TER/SCOT TERRIER': 1, 'COLLIE SMOOTH/CHOW CHOW': 1, 'PIT BULL/RHOD RIDGEBACK': 1, 'SAMOYED/MIX': 1, 'SPANISH MASTIFF': 1, 'WEST HIGHLAND/MALTESE': 1, 'POINTER/LABRADOR RETR': 1, 'PITT BULL & LAB': 1, 'GERM SHEPHERD/STAFFORDSHIRE': 1, 'CHIHUAHUA LH/MALTESE': 1, 'AMER ESKIMO/POMERANIAN': 1, 'CHIHUAHUA LH/CAIRN TERRIER': 1, 'POMERANIAN/CHIHUAHUA LH': 1, 'RAT TERRIER/FOX TERR SMOOTH': 1, 'LABRADOR RETR/BLUETICK HOUND': 1, 'LABRADOR RETR/AKITA': 1, 'CHINESE CRESTED/POODLE TOY': 1, 'CATAHOULA/PLOTT HOUND': 1, 'BICHON FRISE/CAVALIER SPAN': 1, 'CHINESE SHARPEI/DACHSHUND': 1, 'WELSH CORGI PEM/CHIHUAHUA SH': 1, 'AUST SHEPHERD/WELSH CORGI PEM': 1, 'SHIH TZU/POODLE TOY': 1, 'ALASKAN MALAMUT': 1, 'POODLE MIN/CAIRN TERRIER': 1, 'SALUKI/MIX': 1, 'JAPANESE CHIN/CHIHUAHUA LH': 1, 'POODLE STND/GOLDEN RETR': 1, 'WEST HIGHLAND/POODLE MIN': 1, 'PIT BULL/PARSON RUSS TER': 1, 'CATAHOULA/BULLDOG': 1, 'COLLIE ROUGH/GERM SHEPHERD': 1, 'WEST HIGHLAND/CHIHUAHUA SH': 1, 'PAPILLON/WELSH CORGI CAR': 1, 'CHINESE SHARPEI/GERM SHEPHERD': 1, 'LHASA APSO/CHIHUAHUA SH': 1, 'AUST CATTLE DOG/PARSON RUSS TER': 1, 'LABRADOR RETR/POINTER': 1, 'GERM SHEPHERD/DACHSHUND': 1, 'CAVALIER SPAN/CHIHUAHUA LH': 1, 'POMERANIAN/YORKSHIRE TERR': 1, 'RAT TERRIER/SHETLD SHEEPDOG': 1, 'CHIHUAHUA SH/WELSH CORGI CAR': 1, 'POODLE MIN/YORKSHIRE TERR': 1, 'YORKSHIRE TERR/POMERANIAN': 1, 'DALMATIAN/PIT BULL': 1, 'SALUKI': 1, 'BULLDOG/NORW ELKHOUND': 1, 'POMERANIAN/POODLE MIN': 1, 'PARSON RUSS TER/SHIH TZU': 1, 'PARSON RUSS TER/AUST KELPIE': 1, 'COCKER SPAN/CHIHUAHUA LH': 1, 'FOX TERR WIRE/PIT BULL': 1, 'BASSET HOUND/DACHSHUND': 1, 'CHIHUAHUA & MIN': 1, 'GOLDEN RETR/CHINESE SHARPEI': 1, 'YORKSHIRE TERR/POODLE MIN': 1, 'GERM SH POINT/PIT BULL': 1, 'SIBERIAN HUSKY/BOXER': 1, 'GERM SHEPHERD/BLACK/TAN HOUND': 1, 'HARRIER/MIX': 1, 'SAMOYED/SIBERIAN HUSKY': 1, 'SHETLD SHEEPDOG/WELSH CORGI CAR': 1, 'RHOD RIDGEBACK/GERM SHEPHERD': 1, 'LABRADOR RETR/PORT WATER DOG': 1, 'BEAGLE/BOXER': 1, 'PARSON RUSS TER/BORDER COLLIE': 1, 'SILKY TERRIER/MIX': 1, 'TIBETAN SPAN/MIX': 1, 'LABRADOR RETR/ENG FOXHOUND': 1, 'ENG TOY SPANIEL': 1, 'BASSET HOUND/PIT BULL': 1, 'POMERANIAN/PUG': 1, 'PIT BULL/AMERICAN STAFF': 1, 'AM PIT BULL TER/LABRADOR RETR': 1, 'SHIH TZU/YORKSHIRE TERR': 1, 'CHINESE SHARPEI/PHARAOH HOUND': 1, 'DUTCH SHEPHERD/ROTTWEILER': 1, 'BEAGLE/RAT TERRIER': 1, 'AMERICAN STAFF/CHIHUAHUA SH': 1, 'AUST SHEPHERD/BOXER': 1, 'CATAHOULA/PIT BULL': 1, 'AUST TERRIER/CHIHUAHUA LH': 1, 'FOX TERR WIRE/SHIH TZU': 1, 'CATAHOULA/SALUKI': 1, 'RHOD RIDGEBACK/AM PIT BULL TER': 1, 'PARSON RUSS TER/RAT TERRIER': 1, 'JACK/BEAGLE': 1, 'DALMATIAN/AMERICAN STAFF': 1, 'LABRADOR RETR/QUEENSLAND HEEL': 1, 'IRISH TERRIER/MIX': 1, 'LABRADOR RETR/AM PIT BULL TER': 1, 'BOSTON TERRIER/RAT TERRIER': 1, 'LABRADOR RETR/BLOODHOUND': 1, 'AUST TERRIER/YORKSHIRE TERR': 1, 'MANCHESTER TERR/MIX': 1, 'LABRADOR RETR/AUST SHEPHERD': 1, 'GERM SH POINT/LABRADOR RETR': 1, 'AUST KELPIE/BORDER COLLIE': 1, 'IBIZAN HOUND/BORDER COLLIE': 1, 'PATTERDALE TERR/BULL TERR MIN': 1, 'ALASKAN HUSKY/ALASK MALAMUTE': 1, 'MALTESE/FOX TERR SMOOTH': 1, 'TOY FOX TERRIER/DACHSHUND': 1, 'GREAT DANE/PIT BULL': 1, 'JACK/FOX TERR SMOOTH': 1, 'CATAHOULA/AUST SHEPHERD': 1, 'BULL TERRIER/WELSH CORGI CAR': 1, 'SCHNAUZER MIN/PARSON RUSS TER': 1, 'CATAHOULA/MASTIFF': 1, 'AUST SHEPHERD/AUST CATTLE DOG': 1, 'BELG MALINOIS/CHESA BAY RETR': 1, 'WHIPPET/MIX': 1, 'SCOT DEERHOUND/MIX': 1, 'BRUSS GRIFFON/MIX': 1, 'WELSH CORGI CAR / BORDER COLLIE': 1, 'GERM SHEPHERD / CAROLINA DOG': 1, 'PUG / BOSTON TERRIER': 1, 'CHIHUAHUA SH / PIT BULL': 1, 'JACK RUSS TER / SHIBA INU': 1, 'LABRADOR RETR / DOBERMAN PINSCH': 1, 'CHIHUAHUA LH / MIN PINSCHER': 1, 'MANCHESTER TERR / DACHSHUND': 1, 'WELSH CORGI CAR / KEESHOND': 1, 'SCHNAUZER MIN / CAIRN TERRIER': 1, 'ALASKAN HUSKY / ALASK MALAMUTE': 1, 'AUST CATTLE DOG / BOXER': 1, 'AUST CATTLE DOG / GERM SHEPHERD': 1, 'YORKSHIRE TERR / DACHSHUND': 1, 'GOLDEN RETR / GERM SHEPHERD': 1, 'AMER ESKIMO / POMERANIAN': 1, 'CANE CORSO / SHIH TZU': 1, 'DACHSHUND / GREYHOUND': 1, 'PIT BULL / BEAGLE': 1, 'LABRADOR RETR / SCHNAUZER STAND': 1, 'ALASKAN HUSKY / ROTTWEILER': 1, 'GOLDEN RETR / BEAGLE': 1, 'AKITA / AUST CATTLE DOG': 1, 'PIT BULL / COLLIE SMOOTH': 1, 'WELSH CORGI CAR / BEAGLE': 1, 'AM PIT BULL TER / BEAGLE': 1, 'AMERICAN STAFF / STAFFORDSHIRE': 1, 'MANCHESTER TERR / MIN PINSCHER': 1, 'BULL TERR MIN / MIX': 1, 'AUST SHEPHERD / POMERANIAN': 1, 'CATAHOULA / GREAT DANE': 1, 'TOY FOX TERRIER / MIX': 1, 'GOLDEN RETR / PIT BULL': 1, 'BELG MALINOIS / BOXER': 1, 'LAKELAND TERR / MALTESE': 1, 'WH PT GRIFFON': 1, 'BASSET HOUND / BORDER COLLIE': 1, 'POODLE STND / NEWFOUNDLAND': 1, 'BOXER / AM PIT BULL TER': 1, 'MALTESE / DACHSHUND': 1, 'MASTIFF / AKITA': 1, 'CHESA BAY RETR / MIX': 1, 'BEAGLE / SIBERIAN HUSKY': 1, 'SHIH TZU / JACK RUSS TER': 1, 'BOERBOEL / MIX': 1, 'BOXER / ENG FOXHOUND': 1, 'ENG BULLDOG / AMERICAN STAFF': 1, 'GREAT PYRENEES / AUST SHEPHERD': 1, 'SHIH TZU / BULLDOG': 1, 'BEAGLE / BULLDOG': 1, 'ENG SHEPHERD / AUST CATTLE DOG': 1, 'SIBERIAN HUSKY / ROTTWEILER': 1, 'SCHNAUZER MIN / CHINESE CRESTED': 1, 'SHIH TZU / COCKER SPAN': 1, 'WHIPPET / PIT BULL': 1, 'GREAT DANE / PIT BULL': 1, 'LABRADOR RETR / AMERICAN STAFF': 1, 'GREAT PYRENEES / GERM SHEPHERD': 1, 'CLUMBER SPAN / MIX': 1, 'COCKER SPAN / POODLE STND': 1, 'CHOW CHOW / ROTTWEILER': 1, 'TIBETAN TERR / MIX': 1, 'WELSH CORGI PEM / FOX TERR WIRE': 1, 'LABRADOR RETR / BLACK/TAN HOUND': 1, 'CHINESE SHARPEI / BOXER': 1, 'BOXER / MIN PINSCHER': 1, 'NS DUCK TOLLING': 1, 'AUST SHEPHERD / BORDER COLLIE': 1, 'SCHNAUZER MIN / YORKSHIRE TERR': 1, 'GR SWISS MTN / MIX': 1, 'STAFFORDSHIRE / AUST CATTLE DOG': 1, 'GREAT DANE / DOGO ARGENTINO': 1, 'BEARDED COLLIE / DACHSHUND': 1, 'NORFOLK TERRIER / MIX': 1, 'GOLDEN RETR / GREAT PYRENEES': 1, 'MIN PINSCHER / LABRADOR RETR': 1, 'LABRADOR RETR / DACHSHUND': 1, 'SIBERIAN HUSKY / AUST CATTLE DOG': 1, 'SHIH TZU / FOX TERR WIRE': 1, 'SHIH TZU / ALASKAN HUSKY': 1, 'BOXER / ENG BULLDOG': 1, 'SHIH TZU / CHIHUAHUA SH': 1, 'DACHSHUND LH / COCKER SPAN': 1, 'CANE CORSO / GERM SHEPHERD': 1, 'PIT BULL / DOBERMAN PINSCH': 1, 'AUST SHEPHERD / NS DUCK TOLLING': 1, 'BEAGLE / AUST SHEPHERD': 1, 'WELSH CORGI PEM / JACK RUSS TER': 1, 'COCKER SPAN / JACK RUSS TER': 1, 'MALTESE / SHIH TZU': 1, 'LABRADOR RETR / BULL TERRIER': 1, 'CHIHUAHUA SH / POMERANIAN': 1, 'KEESHOND / MIX': 1, 'AUST CATTLE DOG / POINTER': 1, 'RAT TERRIER / BEAGLE': 1, 'AKITA / ALASK MALAMUTE': 1, 'NORWICH TERRIER / CHIHUAHUA LH': 1, 'JACK RUSS TER / FOX TERR SMOOTH': 1, 'DOBERMAN PINSCH / AUST CATTLE DOG': 1, 'PHARAOH HOUND / MIX': 1, 'OLDENG SHEEPDOG / MIX': 1, 'BORDER COLLIE / CHOW CHOW': 1, 'AUST KELPIE / SHIBA INU': 1, 'BEAGLE / POMERANIAN': 1, 'LABRADOR RETR / PATTERDALE TERR': 1, 'TR WALKER HOUND / BEAGLE': 1, 'PUG / JACK RUSS TER': 1, 'LHASA APSO / YORKSHIRE TERR': 1, 'ROTTWEILER / CHINESE SHARPEI': 1, 'POODLE STND / AUST SHEPHERD': 1, 'BOSTON TERRIER / RAT TERRIER': 1, 'PIT BULL / CHIHUAHUA SH': 1, 'POODLE MIN / COCKER SPAN': 1, 'ALASKAN HUSKY / PLOTT HOUND': 1, 'JINDO / GERM SHEPHERD': 1, 'LABRADOR RETR / AKITA': 1, 'GERM SHEPHERD / AKITA': 1, 'PHARAOH HOUND': 1, 'AMERICAN STAFF / BULLDOG': 1, 'CHIHUAHUA LH / YORKSHIRE TERR': 1, 'BASENJI / RAT TERRIER': 1, 'AFGHAN HOUND / MIX': 1, 'JACK RUSS TER / WELSH CORGI PEM': 1, 'SC WHEAT TERR / MIX': 1, 'ENG BULLDOG / ENG BULLDOG': 1, 'DACHSHUND / BOXER': 1, 'BICHON FRISE / POODLE MIN': 1, 'LABRADOR RETR / BEARDED COLLIE': 1, 'AKITA / ROTTWEILER': 1, 'COLLIE SMOOTH / COCKER SPAN': 1, 'PIT BULL / AUST CATTLE DOG': 1, 'BOXER / DALMATIAN': 1, 'GERM SH POINT / AM PIT BULL TER': 1, 'ANATOL SHEPHERD / GERM SHEPHERD': 1, 'DACHSHUND LH / POMERANIAN': 1, 'GREAT PYRENEES / SIBERIAN HUSKY': 1, 'JACK RUSS TER / YORKSHIRE TERR': 1, 'CHIHUAHUA SH / YORKSHIRE TERR': 1, 'MALTESE / COCKER SPAN': 1, 'BEAGLE / PIT BULL': 1, 'SHIH TZU / CAIRN TERRIER': 1, 'CHIHUAHUA LH / PAPILLON': 1, 'BOYKIN SPAN / MIX': 1, 'JACK RUSS TER / BASSET HOUND': 1, 'AUST SHEPHERD / ANATOL SHEPHERD': 1, 'SIBERIAN HUSKY / GREAT PYRENEES': 1, 'BICHON FRISE / YORKSHIRE TERR': 1, 'BEAUCERON / MIX': 1, 'GERM SHEPHERD / AM PIT BULL TER': 1, 'AUST KELPIE / MIN PINSCHER': 1, 'SHIH TZU / POODLE STND': 1, 'BEAGLE / ALASKAN HUSKY': 1, 'ENG BULLDOG / STAFFORDSHIRE': 1, 'ENG POINTER / ENG SETTER': 1, 'POODLE MIN / BICHON FRISE': 1, 'AUST SHEPHERD / CHIHUAHUA SH': 1, 'COCKER SPAN / POODLE MIN': 1, 'ST BERNARD SMTH / CANE CORSO': 1, 'BOXER / JACK RUSS TER': 1, 'POODLE MIN / DACHSHUND': 1, 'AMER FOXHOUND / LABRADOR RETR': 1, 'BLACK MOUTH CUR / BEAGLE': 1, 'IRISH WOLFHOUND / AIREDALE TERR': 1, 'CHINESE SHARPEI / BEAGLE': 1, 'ST BERNARD SMTH / GREAT PYRENEESE': 1, 'MIN PINSCHER / AUST SHEPHERD': 1, 'LABRADOR RETR / SHETLD SHEEPDOG': 1, 'COLLIE ROUGH / MIX': 1, 'COLLIE ROUGH / GERM SHEPHERD': 1, 'SHIH TZU / HAVANESE': 1, 'BORDER COLLIE / GREAT PYRENEES': 1, 'BORDER COLLIE / GERM SHEPHERD': 1, 'BEAGLE / BLACK/TAN HOUND': 1, 'POODLE MIN / SHIH TZU': 1, 'BERNESE MTN DOG / MIX': 1, 'NORW ELKHOUND / MIX': 1, 'BEAGLE / CHIHUAHUA LH': 1, 'BOXER / COLLIE SMOOTH': 1, 'MASTIFF / GERM SHEPHERD': 1, 'BASSET HOUND / BASSET HOUND': 1, 'GREAT DANE / WEIMARANER': 1, 'BORDER COLLIE / BOSTON TERRIER': 1, 'COLLIE SMOOTH / AUST CATTLE DOG': 1, 'PAPILLON / CHIHUAHUA LH': 1, 'AM PIT BULL TER / AM PIT BULL TER': 1, 'PIT BULL / GREAT DANE': 1, 'CAVALIER KING CHARLES / POODLE MIN': 1, 'BEARDED COLLIE / MIX': 1, 'BLACK MOUTH CUR / GERM SHEPHERD': 1, 'AUST SHEPHERD / SIBERIAN HUSKY': 1, 'WEIMARANER / PIT BULL': 1, 'CHIHUAHUA SH / BRITTANY': 1, 'MALTESE / CHIHUAHUA SH': 1, 'BORDER COLLIE / PARSON RUSS TER': 1, 'RAT TERRIER / PURE BRED': 1, 'WHIPPET / LABRADOR RETR': 1, 'WEIMARANER / GREYHOUND': 1, 'SCHNAUZER MIN / CHIHUAHUA SH': 1, 'POMERANIAN / SHIH TZU': 1, 'BEAGLE / REDBONE HOUND': 1, 'LABRADOR RETR / AM PIT BULL TER': 1, 'PARSON RUSS TER / BEAGLE': 1, 'SHETLD SHEEPDOG / SHIBA INU': 1, 'JACK RUSS TER / AUST CATTLE DOG': 1, 'CHIHUAHUA SH / PAPILLON': 1, 'AFGHAN HOUND': 1, 'LANDSEER / BORDER COLLIE': 1, 'ENG COCKER SPAN': 1, 'BOSTON TERRIER / MIN PINSCHER': 1, 'RHOD RIDGEBACK / CHOW CHOW': 1, 'OLDENG SHEEPDOG': 1, 'DOGUE DE BORDX / BOXER': 1, 'BASSET HOUND / SCHNAUZER MIN': 1, 'ENG SHEPHERD': 1, 'CAVALIER SPAN / PUG': 1, 'PIT BULL / BORDER COLLIE': 1, 'SHIH TZU / CHIHUAHUA LH': 1, 'CHIHUAHUA SH / FRENCH BULLDOG': 1, 'TREEING CUR': 1, 'SHIH TZU / POMERANIAN': 1, 'GOLDEN RETR / BOXER': 1, 'WEST HIGHLAND / NORWICH TERRIER': 1, 'IBIZAN HOUND': 1, 'LABRADOR RETR / BASENJI': 1, 'NS DUCK TOLLING / MIX': 1, 'STAFFORDSHIRE / SHIH TZU': 1, 'JAPANESE CHIN': 1, 'CHINESE SHARPEI / GERM SHEPHERD': 1, 'BULL TERR MIN': 1, 'WELSH CORGI CAR / AUST CATTLE DOG': 1, 'BEAGLE / COCKER SPAN': 1, 'GREAT PYRENEES / TR WALKER HOUND': 1, 'ENG COONHOUND / BEAGLE': 1, 'PEKINGESE / SHIH TZU': 1, 'SCHNAUZER MIN / RAT TERRIER': 1, 'GREAT DANE / CHINESE SHARPEI': 1, 'BELG MALINOIS / PIT BULL': 1, 'BLUE LACY': 1, 'BASENJI / BOSTON TERRIER': 1, 'SCHNAUZER GIANT / LABRADOR RETR': 1, 'TR WALKER HOUND / SIBERIAN HUSKY': 1, 'PAPILLON / DACHSHUND': 1, 'WEST HIGHLAND / PAPILLON': 1, 'TR WALKER HOUND / BOXER': 1, 'TENN TR BRINDLE': 1, 'CAIRN TERRIER / JACK RUSS TER': 1, 'MIN PINSCHER / PUG': 1, 'PATTERDALE TERR / PHARAOH HOUND': 1, 'MALTESE / CAIRN TERRIER': 1, 'IBIZAN HOUND / LABRADOR RETR': 1, 'GERM SHEPHERD / BASSET HOUND': 1, 'GREAT DANE / BLUETICK HOUND': 1, 'STAFFORDSHIRE / AMER BULLDOG': 1, 'GERM SHEPHERD / AUST SHEPHERD': 1, 'PIT BULL / BULLMASTIFF': 1, 'SILKY TERRIER / MIX': 1, 'BOXER / CHOW CHOW': 1, 'AKITA / BORDER COLLIE': 1, 'COLLIE ROUGH / BORDER COLLIE': 1, 'ENG SETTER / AUST SHEPHERD': 1, 'JACK RUSS TER / DACHSHUND': 1, 'DALMATIAN / TR WALKER HOUND': 1, 'GREAT PYRENEES / GREAT DANE': 1, 'SHETLD SHEEPDOG / SHETLD SHEEPDOG': 1, 'AMERICAN STAFF / BOXER': 1, 'FIELD SPANIEL': 1, 'GREAT DANE / BOXER': 1, 'OLD ENG BULLDOG / AM PIT BULL TER': 1, 'AMER BULLDOG / MASTIFF': 1, 'ENG SHEPHERD / MIX': 1, 'BORDER COLLIE / JACK RUSS TER': 1, 'DACHSHUND WH / LABRADOR RETR': 1, 'BORDER COLLIE / COCKER SPAN': 1, 'STAFFORDSHIRE / ROTTWEILER': 1, 'LABRADOR RETR / CHESA BAY RETR': 1, 'HARRIER / MIX': 1, 'CAVALIER SPAN / POMERANIAN': 1, 'TR WALKER HOUND / TR WALKER HOUND': 1, 'DACHSHUND / YORKSHIRE TERR': 1, 'GOLDEN RETR / AUST SHEPHERD': 1, 'GLEN OF IMAAL / MIX': 1, 'GORDON SETTER / MIX': 1, 'COLLIE ROUGH / AUST SHEPHERD': 1, 'BULLDOG / BOSTON TERRIER': 1, 'BULLDOG / STAFFORDSHIRE': 1, 'BLUETICK HOUND / AUST CATTLE DOG': 1, 'REDBONE HOUND / VIZSLA': 1, 'DACHSHUND / WHIPPET': 1, 'BEAGLE / PATTERDALE TERR': 1, 'BORDER TERRIER / DACHSHUND': 1, 'BORDER COLLIE / FLAT COAT RETR': 1, 'VIZSLA / MIX': 1, 'SUSSEX SPAN': 1, 'TR WALKER HOUND / GREAT DANE': 1, 'LABRADOR RETR / BERNESE MTN DOG': 1, 'JAPANESE CHIN / MIX': 1, 'ROTTWEILER / BOXER': 1, 'BORDER COLLIE / RHOD RIDGEBACK': 1, 'NEWFOUNDLAND / ROTTWEILER': 1})>"
      ]
     },
     "execution_count": 39,
     "metadata": {},
     "output_type": "execute_result"
    }
   ],
   "source": [
    "Counter(final_data[\"Breed\"]).most_common"
   ]
  },
  {
   "cell_type": "code",
   "execution_count": 40,
   "id": "ff82b91c",
   "metadata": {},
   "outputs": [
    {
     "data": {
      "text/plain": [
       "Counter({1: 5307,\n",
       "         11: 5419,\n",
       "         3: 1505,\n",
       "         2: 2020,\n",
       "         0: 7736,\n",
       "         8: 332,\n",
       "         7: 312,\n",
       "         5: 787,\n",
       "         10: 269,\n",
       "         4: 1318,\n",
       "         9: 323,\n",
       "         6: 470})"
      ]
     },
     "execution_count": 40,
     "metadata": {},
     "output_type": "execute_result"
    }
   ],
   "source": [
    "#Top 10 breed type in data:\n",
    "top_10_breed = [\"BULL\",\"CHIHUAHUA\",\"GERM SHEPHERD\",\"LABRADOR\",\"HUSKY\",\"BEAGLE\",\"PARSON RUSS\",\"BORDER COLLIE\",\"ROTTWEILER\",\"BOXER\"]\n",
    "breed_label = [None]*len(final_data)\n",
    "for i in range(len(final_data)):\n",
    "    for j in range(len(top_10_breed)):\n",
    "        if(\"/\" in final_data[\"Breed\"].iloc[i] and \"/MIX\" not in final_data[\"Breed\"].iloc[i]): #Mix type\n",
    "            breed_label[i] = 0\n",
    "        if(top_10_breed[j] in final_data[\"Breed\"].iloc[i] and \"/\" not in final_data[\"Breed\"].iloc[i] and \"&\" not in final_data[\"Breed\"] and \",\" not in final_data[\"Breed\"]): #top_10_pure type dog\n",
    "            breed_label[i] = j+1\n",
    "        if(top_10_breed[j] in final_data[\"Breed\"].iloc[i] and \"/MIX\" in final_data[\"Breed\"].iloc[i]): #top_10_mix type dog\n",
    "            breed_label[i] = j+1\n",
    "breed_label = [11 if x == None else x for x in breed_label] #all other pure types of dogs \n",
    "Counter(breed_label)"
   ]
  },
  {
   "cell_type": "markdown",
   "id": "c10a12ec",
   "metadata": {},
   "source": [
    "### Outcome Type label"
   ]
  },
  {
   "cell_type": "code",
   "execution_count": 41,
   "id": "7a3f3e07",
   "metadata": {},
   "outputs": [
    {
     "data": {
      "text/plain": [
       "Counter({'TRANSFER': 3074,\n",
       "         'ADOPTION': 8016,\n",
       "         'RETURN TO OWNER': 5914,\n",
       "         'EUTHANIZE': 378,\n",
       "         'DIED': 48,\n",
       "         'RTOS': 28,\n",
       "         'APPT': 3,\n",
       "         'DISPOSAL': 425,\n",
       "         'ESCAPED/STOLEN': 2,\n",
       "         'RTO': 3603,\n",
       "         'EUTH': 1053,\n",
       "         'FOSTER': 1461,\n",
       "         'TRANSPORT': 457,\n",
       "         'RELEASE': 3,\n",
       "         'LOST': 9,\n",
       "         'TNR': 1,\n",
       "         'LOST EXP': 885,\n",
       "         'FOUND EXP': 438})"
      ]
     },
     "execution_count": 41,
     "metadata": {},
     "output_type": "execute_result"
    }
   ],
   "source": [
    "Counter(final_data[\"OutcomeType\"])"
   ]
  },
  {
   "cell_type": "code",
   "execution_count": 42,
   "id": "addcf770",
   "metadata": {},
   "outputs": [],
   "source": [
    "outcome_label = [None]*len(final_data)\n",
    "for i in range(len(final_data)):\n",
    "    if(final_data[\"OutcomeType\"].iloc[i] in [\"RETURN TO OWNER\",\"RTOS\",\"RTO\",\"ADOPTION\"]):\n",
    "        outcome_label[i] = 0 #\"With Home\"\n",
    "    if(final_data[\"OutcomeType\"].iloc[i] not in [\"RETURN TO OWNER\",\"RTOS\",\"RTO\",\"ADOPTION\"]):\n",
    "        outcome_label[i] = 1 #\"No Home\""
   ]
  },
  {
   "cell_type": "code",
   "execution_count": 43,
   "id": "f9debf25",
   "metadata": {},
   "outputs": [],
   "source": [
    "for i in range(len(final_data)):\n",
    "    if(final_data[\"OutcomeType\"].iloc[i] in [ \"ADOPTION\",'APPT']):\n",
    "        final_data.loc[i,'OutcomeType'] = \"ADOPTION\"\n",
    "   \n",
    "    if(final_data[\"OutcomeType\"].iloc[i] in [\"RETURN TO OWNER\",\"RTOS\",\"RTO\"]):\n",
    "        final_data.loc[i,'OutcomeType'] = \"RETURN TO OWNER\"\n",
    "    if(final_data[\"OutcomeType\"].iloc[i]=='EUTH'):\n",
    "        final_data.loc[i,'OutcomeType']= 'EUTHANIZE'\n",
    "    if(final_data[\"OutcomeType\"].iloc[i] in ['TRANSPORT','TNR']):\n",
    "        final_data.loc[i,'OutcomeType'] ='TRANSFER'\n",
    "    if(final_data[\"OutcomeType\"].iloc[i]=='LOST EXP'):\n",
    "        final_data.loc[i,'OutcomeType']= 'LOST'\n",
    "    "
   ]
  },
  {
   "cell_type": "code",
   "execution_count": 44,
   "id": "aca20f81",
   "metadata": {},
   "outputs": [
    {
     "data": {
      "text/plain": [
       "Counter({'TRANSFER': 3532,\n",
       "         'ADOPTION': 8019,\n",
       "         'RETURN TO OWNER': 9545,\n",
       "         'EUTHANIZE': 1431,\n",
       "         'DIED': 48,\n",
       "         'DISPOSAL': 425,\n",
       "         'ESCAPED/STOLEN': 2,\n",
       "         'FOSTER': 1461,\n",
       "         'RELEASE': 3,\n",
       "         'LOST': 894,\n",
       "         'FOUND EXP': 438})"
      ]
     },
     "execution_count": 44,
     "metadata": {},
     "output_type": "execute_result"
    }
   ],
   "source": [
    "Counter(final_data['OutcomeType'])"
   ]
  },
  {
   "cell_type": "code",
   "execution_count": 49,
   "id": "a4ce1e91",
   "metadata": {},
   "outputs": [],
   "source": [
    "final_data[\"sex_label\"] = sex_label\n",
    "final_data[\"color_label\"] = color_label\n",
    "final_data[\"size_label\"] = size_label\n",
    "final_data[\"breed_label\"] = breed_label\n",
    "final_data[\"outcome_label\"] = outcome_label"
   ]
  },
  {
   "cell_type": "code",
   "execution_count": 50,
   "id": "71a9fe97",
   "metadata": {},
   "outputs": [
    {
     "data": {
      "text/plain": [
       "Text(0.5, 1.0, 'Outcome types for Animals')"
      ]
     },
     "execution_count": 50,
     "metadata": {},
     "output_type": "execute_result"
    },
    {
     "data": {
      "image/png": "[encoded data removed]",
      "text/plain": [
       "<Figure size 504x576 with 1 Axes>"
      ]
     },
     "metadata": {
      "needs_background": "light"
     },
     "output_type": "display_data"
    }
   ],
   "source": [
    "plt.figure(figsize=(7,8))\n",
    "plt.hist((final_data['OutcomeType']),rwidth=0.7)\n",
    "plt.xticks(rotation=45)\n",
    "plt.title('Outcome types for Animals')"
   ]
  },
  {
   "cell_type": "code",
   "execution_count": 51,
   "id": "def26c75",
   "metadata": {},
   "outputs": [],
   "source": [
    "for i in range(len(final_data)):\n",
    "    if(final_data[\"Sex\"].iloc[i] in [ \"Male\",'M']):\n",
    "        final_data.loc[i,'Sex'] = \"Male\"\n",
    "   \n",
    "    if(final_data[\"Sex\"].iloc[i] in [\"Female\",'F']):\n",
    "        final_data.loc[i,'Sex'] = \"Female\"\n",
    "    if(final_data[\"Sex\"].iloc[i] in [\"Spayed\",'S']):\n",
    "        final_data.loc[i,'Sex']= 'Spayed'\n",
    "    if(final_data[\"Sex\"].iloc[i] in ['Neutered','N']):\n",
    "        final_data.loc[i,'Sex'] ='Neutered'"
   ]
  },
  {
   "cell_type": "code",
   "execution_count": 52,
   "id": "8648fcb9",
   "metadata": {},
   "outputs": [
    {
     "data": {
      "text/plain": [
       "Text(0.5, 1.0, 'Sex Distribution in Shelter')"
      ]
     },
     "execution_count": 52,
     "metadata": {},
     "output_type": "execute_result"
    },
    {
     "data": {
      "image/png": "[encoded data removed]",
      "text/plain": [
       "<Figure size 432x288 with 1 Axes>"
      ]
     },
     "metadata": {
      "needs_background": "light"
     },
     "output_type": "display_data"
    }
   ],
   "source": [
    "plt.hist(final_data.Sex)\n",
    "plt.title('Sex Distribution in Shelter')\n"
   ]
  },
  {
   "cell_type": "code",
   "execution_count": 53,
   "id": "43c52f37",
   "metadata": {},
   "outputs": [
    {
     "data": {
      "image/png": "[encoded data removed]",
      "text/plain": [
       "<Figure size 432x288 with 1 Axes>"
      ]
     },
     "metadata": {
      "needs_background": "light"
     },
     "output_type": "display_data"
    }
   ],
   "source": [
    "outcome_list=final_data['outcome_label']\n",
    "outcome_list=outcome_list.replace({1:'No_Home',0:'Have_Home'})\n",
    "\n",
    "outcome_dict=dict(Counter(final_data['outcome_label']))\n",
    "\n",
    "outcome=['No_Home','Have_Home']\n",
    "h=list(outcome_dict.values())\n",
    " \n",
    "#bar plot\n",
    "plt.bar(outcome, height = h)\n",
    "plt.title('Have_Home Vs No_Home')\n",
    "plt.show()"
   ]
  },
  {
   "cell_type": "code",
   "execution_count": 54,
   "id": "fee2e6b1",
   "metadata": {
    "scrolled": false
   },
   "outputs": [
    {
     "data": {
      "text/plain": [
       "Counter({1: 4386, 0: 8070})"
      ]
     },
     "execution_count": 54,
     "metadata": {},
     "output_type": "execute_result"
    }
   ],
   "source": [
    "Counter(final_data.loc[final_data.County!='Jefferson County']['color_label'])"
   ]
  },
  {
   "cell_type": "code",
   "execution_count": 55,
   "id": "c24a7905",
   "metadata": {},
   "outputs": [
    {
     "data": {
      "text/plain": [
       "Counter({0: 5907, 1: 3135})"
      ]
     },
     "execution_count": 55,
     "metadata": {},
     "output_type": "execute_result"
    }
   ],
   "source": [
    "a=final_data.loc[:,['size_label','outcome_label']]\n",
    "Counter(a.loc[a.size_label==0].outcome_label)"
   ]
  },
  {
   "cell_type": "code",
   "execution_count": 81,
   "id": "07ce4251",
   "metadata": {},
   "outputs": [
    {
     "data": {
      "text/plain": [
       "Counter({1: 2558, 0: 5863})"
      ]
     },
     "execution_count": 81,
     "metadata": {},
     "output_type": "execute_result"
    }
   ],
   "source": [
    "Counter(a.loc[a.size_label==1].outcome_label)"
   ]
  },
  {
   "cell_type": "code",
   "execution_count": 83,
   "id": "44dcc0e7",
   "metadata": {},
   "outputs": [
    {
     "data": {
      "text/plain": [
       "Counter({0: 5791, 1: 2544})"
      ]
     },
     "execution_count": 83,
     "metadata": {},
     "output_type": "execute_result"
    }
   ],
   "source": [
    "Counter(a.loc[a.size_label==2].outcome_label)"
   ]
  },
  {
   "cell_type": "markdown",
   "id": "1f68e066",
   "metadata": {},
   "source": [
    "### Choose the required variables for training the model"
   ]
  },
  {
   "cell_type": "code",
   "execution_count": 56,
   "id": "8ff6db6c",
   "metadata": {},
   "outputs": [],
   "source": [
    "dog_data = final_data[[\"sex_label\",\"color_label\",\"size_label\",\"breed_label\",\"Location_label\",'DaysinShelter','IntakeTypeLabel','IntakeSubtypeLabel',\"outcome_label\"]]"
   ]
  },
  {
   "cell_type": "code",
   "execution_count": 57,
   "id": "05a37e5e",
   "metadata": {},
   "outputs": [
    {
     "data": {
      "image/png": "[encoded data removed]",
      "text/plain": [
       "<Figure size 432x288 with 1 Axes>"
      ]
     },
     "metadata": {
      "needs_background": "light"
     },
     "output_type": "display_data"
    }
   ],
   "source": [
    "color_list=dog_data['color_label']\n",
    "color_list=color_list.replace({1:'Black',0:'Non-Black'})\n",
    "\n",
    "color_dict=dict(Counter(dog_data['color_label']))\n",
    "\n",
    "color=['Black','Non-Black']\n",
    "h=list(color_dict.values())\n",
    "c = ['red',  'blue']\n",
    " \n",
    "#bar plot\n",
    "plt.bar(color, height = h)\n",
    "plt.title('Color distribution of Dog in Shelter')\n",
    "plt.show()"
   ]
  },
  {
   "cell_type": "code",
   "execution_count": 58,
   "id": "13db586c",
   "metadata": {},
   "outputs": [
    {
     "data": {
      "image/png": "[encoded data removed]",
      "text/plain": [
       "<Figure size 432x288 with 1 Axes>"
      ]
     },
     "metadata": {
      "needs_background": "light"
     },
     "output_type": "display_data"
    }
   ],
   "source": [
    "color_list=dog_data['size_label']\n",
    "color_list=color_list.replace({1:'Medium',0:'Small',2:'Large'})\n",
    "\n",
    "color_dict=dict(Counter(dog_data['size_label']))\n",
    "\n",
    "color=['Medium','Small','Large']\n",
    "h=list(color_dict.values())\n",
    "\n",
    " \n",
    "#bar plot\n",
    "plt.bar(color, height = h)\n",
    "plt.title('Dog Size in Shelter')\n",
    "plt.show()"
   ]
  },
  {
   "cell_type": "code",
   "execution_count": 62,
   "id": "6531161e",
   "metadata": {},
   "outputs": [],
   "source": [
    "import random\n",
    "dog_data=dog_data.reset_index(drop=True)\n",
    "dog_data=shuffle(dog_data).reset_index(drop=True)"
   ]
  },
  {
   "cell_type": "code",
   "execution_count": 63,
   "id": "85fc121a",
   "metadata": {},
   "outputs": [],
   "source": [
    "dog_x=dog_data.iloc[:,:-1]\n",
    "dog_y=dog_data.iloc[:,-1]"
   ]
  },
  {
   "cell_type": "markdown",
   "id": "159b3187",
   "metadata": {},
   "source": [
    "# Logistic Regression"
   ]
  },
  {
   "cell_type": "code",
   "execution_count": 64,
   "id": "34f38c26",
   "metadata": {},
   "outputs": [],
   "source": [
    "trainx,testx,trainy,testy=train_test_split(dog_x,dog_y,test_size=0.3,random_state=1103)"
   ]
  },
  {
   "cell_type": "markdown",
   "id": "08430759",
   "metadata": {},
   "source": [
    "## Whole data"
   ]
  },
  {
   "cell_type": "code",
   "execution_count": 65,
   "id": "e910a3be",
   "metadata": {},
   "outputs": [
    {
     "data": {
      "image/png": "[encoded data removed]",
      "text/plain": [
       "<Figure size 432x288 with 1 Axes>"
      ]
     },
     "metadata": {
      "needs_background": "light"
     },
     "output_type": "display_data"
    }
   ],
   "source": [
    "clf=LogisticRegression(solver='lbfgs',max_iter=300)\n",
    "clf.fit(trainx, trainy)\n",
    "\n",
    "pre_trainy=clf.predict(trainx)\n",
    "proba_pre_trainy=clf.predict_proba(trainx)\n",
    "\n",
    "fpr, tpr, thresholds=roc_curve(trainy,proba_pre_trainy[:,1],pos_label=1)\n",
    "roc_auc=auc(fpr,tpr)\n",
    "\n",
    "\n",
    "plt.plot(fpr, tpr, color='darkorange',label='ROC curve (area = %0.2f)' % roc_auc)\n",
    "plt.plot([0, 1], [0, 1], color='navy',  linestyle='--')\n",
    "plt.xlim([-0.03, 1.0])\n",
    "plt.ylim([0.0, 1.05])\n",
    "plt.xlabel('False Positive Rate')\n",
    "plt.ylabel('True Positive Rate')\n",
    "plt.title('ROC and AUC')\n",
    "plt.legend(loc=\"lower right\")\n",
    "plt.show()"
   ]
  },
  {
   "cell_type": "code",
   "execution_count": 66,
   "id": "c6a4e4aa",
   "metadata": {},
   "outputs": [
    {
     "name": "stdout",
     "output_type": "stream",
     "text": [
      "              precision    recall  f1-score   support\n",
      "\n",
      "           0       0.76      0.92      0.83     12308\n",
      "           1       0.67      0.37      0.47      5750\n",
      "\n",
      "    accuracy                           0.74     18058\n",
      "   macro avg       0.71      0.64      0.65     18058\n",
      "weighted avg       0.73      0.74      0.71     18058\n",
      "\n"
     ]
    }
   ],
   "source": [
    "con_mtrx=confusion_matrix(trainy,pre_trainy,labels=[0,1])\n",
    "\n",
    "print(classification_report(trainy,pre_trainy))"
   ]
  },
  {
   "cell_type": "code",
   "execution_count": 67,
   "id": "72567641",
   "metadata": {},
   "outputs": [
    {
     "data": {
      "text/plain": [
       "0.7425064599483204"
      ]
     },
     "execution_count": 67,
     "metadata": {},
     "output_type": "execute_result"
    }
   ],
   "source": [
    "pre_testy=clf.predict(testx)\n",
    "proba_pre_testy=clf.predict_proba(testx)\n",
    "con_mtrx=confusion_matrix(testy,pre_testy,labels=[1,0])\n",
    "accuracy=(con_mtrx[0,0]+con_mtrx[1,1])/np.sum(con_mtrx)\n",
    "accuracy"
   ]
  },
  {
   "cell_type": "code",
   "execution_count": 68,
   "id": "b36ce4df",
   "metadata": {},
   "outputs": [
    {
     "name": "stdout",
     "output_type": "stream",
     "text": [
      "              precision    recall  f1-score   support\n",
      "\n",
      "           0       0.76      0.92      0.83      5253\n",
      "           1       0.68      0.37      0.48      2487\n",
      "\n",
      "    accuracy                           0.74      7740\n",
      "   macro avg       0.72      0.64      0.65      7740\n",
      "weighted avg       0.73      0.74      0.72      7740\n",
      "\n"
     ]
    }
   ],
   "source": [
    "print(classification_report(testy,pre_testy))"
   ]
  },
  {
   "cell_type": "code",
   "execution_count": 69,
   "id": "ce3c8a86",
   "metadata": {},
   "outputs": [
    {
     "name": "stdout",
     "output_type": "stream",
     "text": [
      "Optimization terminated successfully.\n",
      "         Current function value: 0.530856\n",
      "         Iterations: 29\n",
      "         Function evaluations: 33\n",
      "         Gradient evaluations: 33\n",
      "                           Logit Regression Results                           \n",
      "==============================================================================\n",
      "Dep. Variable:          outcome_label   No. Observations:                18058\n",
      "Model:                          Logit   Df Residuals:                    18049\n",
      "Method:                           MLE   Df Model:                            8\n",
      "Date:                Tue, 03 May 2022   Pseudo R-squ.:                  0.1515\n",
      "Time:                        00:12:49   Log-Likelihood:                -9586.2\n",
      "converged:                       True   LL-Null:                       -11298.\n",
      "Covariance Type:            nonrobust   LLR p-value:                     0.000\n",
      "======================================================================================\n",
      "                         coef    std err          z      P>|z|      [0.025      0.975]\n",
      "--------------------------------------------------------------------------------------\n",
      "sex_label             -0.5034      0.017    -29.915      0.000      -0.536      -0.470\n",
      "color_label           -0.0214      0.037     -0.576      0.565      -0.094       0.051\n",
      "size_label            -0.1287      0.022     -5.799      0.000      -0.172      -0.085\n",
      "breed_label            0.0347      0.004      8.129      0.000       0.026       0.043\n",
      "Location_label         0.0886      0.003     34.482      0.000       0.084       0.094\n",
      "DaysinShelter          0.0153      0.001     19.532      0.000       0.014       0.017\n",
      "IntakeTypeLabel       -0.0556      0.005    -11.441      0.000      -0.065      -0.046\n",
      "IntakeSubtypeLabel     0.0148      0.001     10.391      0.000       0.012       0.018\n",
      "const                 -0.7589      0.084     -9.034      0.000      -0.924      -0.594\n",
      "======================================================================================\n"
     ]
    }
   ],
   "source": [
    "x=sm.add_constant(trainx,prepend=False)\n",
    "mod=sm.Logit(trainy,x).fit(method='bfgs',maxiter=100)\n",
    "print(mod.summary())"
   ]
  },
  {
   "cell_type": "code",
   "execution_count": 114,
   "id": "81ba70c0",
   "metadata": {},
   "outputs": [
    {
     "name": "stderr",
     "output_type": "stream",
     "text": [
      "/Users/cullen/opt/anaconda3/lib/python3.8/site-packages/lightgbm/sklearn.py:726: UserWarning: 'early_stopping_rounds' argument is deprecated and will be removed in a future release of LightGBM. Pass 'early_stopping()' callback via 'callbacks' argument instead.\n",
      "  _log_warning(\"'early_stopping_rounds' argument is deprecated and will be removed in a future release of LightGBM. \"\n"
     ]
    },
    {
     "name": "stdout",
     "output_type": "stream",
     "text": [
      "[LightGBM] [Warning] min_sum_hessian_in_leaf is set=1, min_child_weight=5.0 will be ignored. Current value: min_sum_hessian_in_leaf=1\n",
      "[LightGBM] [Warning] lambda_l1 is set=5.0, reg_alpha=0.0 will be ignored. Current value: lambda_l1=5.0\n",
      "[LightGBM] [Warning] min_data_in_leaf is set=100, min_child_samples=55 will be ignored. Current value: min_data_in_leaf=100\n",
      "[LightGBM] [Warning] feature_fraction is set=0.1, colsample_bytree=1.0 will be ignored. Current value: feature_fraction=0.1\n",
      "[LightGBM] [Warning] bagging_fraction is set=0.85, subsample=0.75 will be ignored. Current value: bagging_fraction=0.85\n",
      "[LightGBM] [Warning] lambda_l2 is set=3.0, reg_lambda=0.0 will be ignored. Current value: lambda_l2=3.0\n",
      "[1]\tvalid_0's binary_logloss: 0.681003\n",
      "[2]\tvalid_0's binary_logloss: 0.66681\n",
      "[3]\tvalid_0's binary_logloss: 0.652912\n",
      "[4]\tvalid_0's binary_logloss: 0.652907\n",
      "[5]\tvalid_0's binary_logloss: 0.646881\n",
      "[6]\tvalid_0's binary_logloss: 0.646556\n",
      "[7]\tvalid_0's binary_logloss: 0.646311\n",
      "[8]\tvalid_0's binary_logloss: 0.633992\n",
      "[9]\tvalid_0's binary_logloss: 0.625755\n",
      "[10]\tvalid_0's binary_logloss: 0.616951\n",
      "[11]\tvalid_0's binary_logloss: 0.607688\n",
      "[12]\tvalid_0's binary_logloss: 0.607731\n",
      "[13]\tvalid_0's binary_logloss: 0.603595\n",
      "[14]\tvalid_0's binary_logloss: 0.603354\n",
      "[15]\tvalid_0's binary_logloss: 0.603156\n",
      "[16]\tvalid_0's binary_logloss: 0.594261\n",
      "[17]\tvalid_0's binary_logloss: 0.588434\n",
      "[18]\tvalid_0's binary_logloss: 0.58253\n",
      "[19]\tvalid_0's binary_logloss: 0.576054\n",
      "[20]\tvalid_0's binary_logloss: 0.576109\n",
      "[21]\tvalid_0's binary_logloss: 0.573115\n",
      "[22]\tvalid_0's binary_logloss: 0.572973\n",
      "[23]\tvalid_0's binary_logloss: 0.572802\n",
      "[24]\tvalid_0's binary_logloss: 0.565986\n",
      "[25]\tvalid_0's binary_logloss: 0.561767\n",
      "[26]\tvalid_0's binary_logloss: 0.557671\n",
      "[27]\tvalid_0's binary_logloss: 0.55296\n",
      "[28]\tvalid_0's binary_logloss: 0.553013\n",
      "[29]\tvalid_0's binary_logloss: 0.550751\n",
      "[30]\tvalid_0's binary_logloss: 0.550632\n",
      "[31]\tvalid_0's binary_logloss: 0.550483\n",
      "[32]\tvalid_0's binary_logloss: 0.545202\n",
      "[33]\tvalid_0's binary_logloss: 0.541933\n",
      "[34]\tvalid_0's binary_logloss: 0.5389\n",
      "[35]\tvalid_0's binary_logloss: 0.53534\n",
      "[36]\tvalid_0's binary_logloss: 0.535394\n",
      "[37]\tvalid_0's binary_logloss: 0.533645\n",
      "[38]\tvalid_0's binary_logloss: 0.533558\n",
      "[39]\tvalid_0's binary_logloss: 0.533432\n",
      "[40]\tvalid_0's binary_logloss: 0.529168\n",
      "[41]\tvalid_0's binary_logloss: 0.526674\n",
      "[42]\tvalid_0's binary_logloss: 0.5245\n",
      "[43]\tvalid_0's binary_logloss: 0.521753\n",
      "[44]\tvalid_0's binary_logloss: 0.521753\n",
      "[45]\tvalid_0's binary_logloss: 0.520363\n",
      "[46]\tvalid_0's binary_logloss: 0.520301\n",
      "[47]\tvalid_0's binary_logloss: 0.520209\n",
      "[48]\tvalid_0's binary_logloss: 0.516899\n",
      "[49]\tvalid_0's binary_logloss: 0.514887\n",
      "[50]\tvalid_0's binary_logloss: 0.513163\n",
      "[51]\tvalid_0's binary_logloss: 0.510956\n",
      "[52]\tvalid_0's binary_logloss: 0.510956\n",
      "[53]\tvalid_0's binary_logloss: 0.509831\n",
      "[54]\tvalid_0's binary_logloss: 0.509779\n",
      "[55]\tvalid_0's binary_logloss: 0.509685\n",
      "[56]\tvalid_0's binary_logloss: 0.506982\n",
      "[57]\tvalid_0's binary_logloss: 0.505447\n",
      "[58]\tvalid_0's binary_logloss: 0.504158\n",
      "[59]\tvalid_0's binary_logloss: 0.502412\n",
      "[60]\tvalid_0's binary_logloss: 0.502412\n",
      "[61]\tvalid_0's binary_logloss: 0.501466\n",
      "[62]\tvalid_0's binary_logloss: 0.501427\n",
      "[63]\tvalid_0's binary_logloss: 0.50134\n",
      "[64]\tvalid_0's binary_logloss: 0.499158\n",
      "[65]\tvalid_0's binary_logloss: 0.497866\n",
      "[66]\tvalid_0's binary_logloss: 0.496784\n",
      "[67]\tvalid_0's binary_logloss: 0.495349\n",
      "[68]\tvalid_0's binary_logloss: 0.495349\n",
      "[69]\tvalid_0's binary_logloss: 0.494537\n",
      "[70]\tvalid_0's binary_logloss: 0.494499\n",
      "[71]\tvalid_0's binary_logloss: 0.494419\n",
      "[72]\tvalid_0's binary_logloss: 0.49252\n",
      "[73]\tvalid_0's binary_logloss: 0.491452\n",
      "[74]\tvalid_0's binary_logloss: 0.490584\n",
      "[75]\tvalid_0's binary_logloss: 0.489397\n",
      "[76]\tvalid_0's binary_logloss: 0.489397\n",
      "[77]\tvalid_0's binary_logloss: 0.488673\n",
      "[78]\tvalid_0's binary_logloss: 0.488645\n",
      "[79]\tvalid_0's binary_logloss: 0.488577\n",
      "[80]\tvalid_0's binary_logloss: 0.487019\n",
      "[81]\tvalid_0's binary_logloss: 0.486152\n",
      "[82]\tvalid_0's binary_logloss: 0.485499\n",
      "[83]\tvalid_0's binary_logloss: 0.484504\n",
      "[84]\tvalid_0's binary_logloss: 0.484504\n",
      "[85]\tvalid_0's binary_logloss: 0.483896\n",
      "[86]\tvalid_0's binary_logloss: 0.483864\n",
      "[87]\tvalid_0's binary_logloss: 0.483803\n",
      "[88]\tvalid_0's binary_logloss: 0.482485\n",
      "[89]\tvalid_0's binary_logloss: 0.481732\n",
      "[90]\tvalid_0's binary_logloss: 0.481133\n",
      "[91]\tvalid_0's binary_logloss: 0.480292\n",
      "[92]\tvalid_0's binary_logloss: 0.480292\n",
      "[93]\tvalid_0's binary_logloss: 0.479761\n",
      "[94]\tvalid_0's binary_logloss: 0.479727\n",
      "[95]\tvalid_0's binary_logloss: 0.479676\n",
      "[96]\tvalid_0's binary_logloss: 0.478537\n",
      "[97]\tvalid_0's binary_logloss: 0.477923\n",
      "[98]\tvalid_0's binary_logloss: 0.477421\n",
      "[99]\tvalid_0's binary_logloss: 0.476732\n",
      "[100]\tvalid_0's binary_logloss: 0.476732\n",
      "[101]\tvalid_0's binary_logloss: 0.476265\n",
      "[102]\tvalid_0's binary_logloss: 0.476233\n",
      "[103]\tvalid_0's binary_logloss: 0.476189\n",
      "[104]\tvalid_0's binary_logloss: 0.475165\n",
      "[105]\tvalid_0's binary_logloss: 0.474669\n",
      "[106]\tvalid_0's binary_logloss: 0.474312\n",
      "[107]\tvalid_0's binary_logloss: 0.473724\n",
      "[108]\tvalid_0's binary_logloss: 0.473724\n",
      "[109]\tvalid_0's binary_logloss: 0.47329\n",
      "[110]\tvalid_0's binary_logloss: 0.473258\n",
      "[111]\tvalid_0's binary_logloss: 0.473223\n",
      "[112]\tvalid_0's binary_logloss: 0.472322\n",
      "[113]\tvalid_0's binary_logloss: 0.471913\n",
      "[114]\tvalid_0's binary_logloss: 0.471532\n",
      "[115]\tvalid_0's binary_logloss: 0.47107\n",
      "[116]\tvalid_0's binary_logloss: 0.47107\n",
      "[117]\tvalid_0's binary_logloss: 0.470679\n",
      "[118]\tvalid_0's binary_logloss: 0.470643\n",
      "[119]\tvalid_0's binary_logloss: 0.47061\n",
      "[120]\tvalid_0's binary_logloss: 0.469923\n",
      "[121]\tvalid_0's binary_logloss: 0.469522\n",
      "[122]\tvalid_0's binary_logloss: 0.469191\n",
      "[123]\tvalid_0's binary_logloss: 0.468729\n",
      "[124]\tvalid_0's binary_logloss: 0.468729\n",
      "[125]\tvalid_0's binary_logloss: 0.468379\n",
      "[126]\tvalid_0's binary_logloss: 0.468339\n",
      "[127]\tvalid_0's binary_logloss: 0.468314\n",
      "[128]\tvalid_0's binary_logloss: 0.467624\n",
      "[129]\tvalid_0's binary_logloss: 0.467289\n",
      "[130]\tvalid_0's binary_logloss: 0.467062\n",
      "[131]\tvalid_0's binary_logloss: 0.466687\n",
      "[132]\tvalid_0's binary_logloss: 0.466687\n",
      "[133]\tvalid_0's binary_logloss: 0.466396\n",
      "[134]\tvalid_0's binary_logloss: 0.466356\n",
      "[135]\tvalid_0's binary_logloss: 0.466334\n",
      "[136]\tvalid_0's binary_logloss: 0.465825\n",
      "[137]\tvalid_0's binary_logloss: 0.465537\n",
      "[138]\tvalid_0's binary_logloss: 0.465281\n",
      "[139]\tvalid_0's binary_logloss: 0.464954\n",
      "[140]\tvalid_0's binary_logloss: 0.464954\n",
      "[141]\tvalid_0's binary_logloss: 0.464649\n",
      "[142]\tvalid_0's binary_logloss: 0.464611\n",
      "[143]\tvalid_0's binary_logloss: 0.464596\n",
      "[144]\tvalid_0's binary_logloss: 0.464065\n",
      "[145]\tvalid_0's binary_logloss: 0.463861\n",
      "[146]\tvalid_0's binary_logloss: 0.463653\n",
      "[147]\tvalid_0's binary_logloss: 0.463364\n",
      "[148]\tvalid_0's binary_logloss: 0.463364\n",
      "[149]\tvalid_0's binary_logloss: 0.46311\n",
      "[150]\tvalid_0's binary_logloss: 0.463079\n",
      "[151]\tvalid_0's binary_logloss: 0.463065\n",
      "[152]\tvalid_0's binary_logloss: 0.46268\n",
      "[153]\tvalid_0's binary_logloss: 0.462508\n",
      "[154]\tvalid_0's binary_logloss: 0.462322\n",
      "[155]\tvalid_0's binary_logloss: 0.462058\n",
      "[156]\tvalid_0's binary_logloss: 0.462058\n",
      "[157]\tvalid_0's binary_logloss: 0.461845\n",
      "[158]\tvalid_0's binary_logloss: 0.461811\n",
      "[159]\tvalid_0's binary_logloss: 0.461794\n",
      "[160]\tvalid_0's binary_logloss: 0.461383\n",
      "[161]\tvalid_0's binary_logloss: 0.461235\n",
      "[162]\tvalid_0's binary_logloss: 0.461108\n",
      "[163]\tvalid_0's binary_logloss: 0.460866\n",
      "[164]\tvalid_0's binary_logloss: 0.460866\n",
      "[165]\tvalid_0's binary_logloss: 0.46065\n",
      "[166]\tvalid_0's binary_logloss: 0.460614\n",
      "[167]\tvalid_0's binary_logloss: 0.460596\n",
      "[168]\tvalid_0's binary_logloss: 0.460311\n",
      "[169]\tvalid_0's binary_logloss: 0.460211\n",
      "[170]\tvalid_0's binary_logloss: 0.460068\n",
      "[171]\tvalid_0's binary_logloss: 0.459842\n",
      "[172]\tvalid_0's binary_logloss: 0.459842\n",
      "[173]\tvalid_0's binary_logloss: 0.459623\n",
      "[174]\tvalid_0's binary_logloss: 0.459585\n",
      "[175]\tvalid_0's binary_logloss: 0.459568\n",
      "[176]\tvalid_0's binary_logloss: 0.459246\n",
      "[177]\tvalid_0's binary_logloss: 0.459154\n",
      "[178]\tvalid_0's binary_logloss: 0.459053\n",
      "[179]\tvalid_0's binary_logloss: 0.45885\n",
      "[180]\tvalid_0's binary_logloss: 0.45885\n",
      "[181]\tvalid_0's binary_logloss: 0.458693\n",
      "[182]\tvalid_0's binary_logloss: 0.458653\n",
      "[183]\tvalid_0's binary_logloss: 0.458638\n",
      "[184]\tvalid_0's binary_logloss: 0.458342\n",
      "[185]\tvalid_0's binary_logloss: 0.458237\n",
      "[186]\tvalid_0's binary_logloss: 0.458121\n",
      "[187]\tvalid_0's binary_logloss: 0.457936\n",
      "[188]\tvalid_0's binary_logloss: 0.457936\n",
      "[189]\tvalid_0's binary_logloss: 0.457774\n",
      "[190]\tvalid_0's binary_logloss: 0.457739\n",
      "[191]\tvalid_0's binary_logloss: 0.457726\n",
      "[192]\tvalid_0's binary_logloss: 0.45755\n",
      "[193]\tvalid_0's binary_logloss: 0.457481\n",
      "[194]\tvalid_0's binary_logloss: 0.457372\n",
      "[195]\tvalid_0's binary_logloss: 0.457199\n",
      "[196]\tvalid_0's binary_logloss: 0.457199\n",
      "[197]\tvalid_0's binary_logloss: 0.457051\n",
      "[198]\tvalid_0's binary_logloss: 0.457016\n",
      "[199]\tvalid_0's binary_logloss: 0.457004\n",
      "[200]\tvalid_0's binary_logloss: 0.456812\n",
      "[201]\tvalid_0's binary_logloss: 0.456726\n",
      "[202]\tvalid_0's binary_logloss: 0.456657\n",
      "[203]\tvalid_0's binary_logloss: 0.456497\n",
      "[204]\tvalid_0's binary_logloss: 0.456497\n",
      "[205]\tvalid_0's binary_logloss: 0.456361\n",
      "[206]\tvalid_0's binary_logloss: 0.45633\n",
      "[207]\tvalid_0's binary_logloss: 0.456317\n",
      "[208]\tvalid_0's binary_logloss: 0.45616\n",
      "[209]\tvalid_0's binary_logloss: 0.456083\n",
      "[210]\tvalid_0's binary_logloss: 0.455995\n",
      "[211]\tvalid_0's binary_logloss: 0.455844\n",
      "[212]\tvalid_0's binary_logloss: 0.455844\n",
      "[213]\tvalid_0's binary_logloss: 0.455721\n",
      "[214]\tvalid_0's binary_logloss: 0.455673\n",
      "[215]\tvalid_0's binary_logloss: 0.455664\n",
      "[216]\tvalid_0's binary_logloss: 0.455493\n",
      "[217]\tvalid_0's binary_logloss: 0.455434\n",
      "[218]\tvalid_0's binary_logloss: 0.455381\n",
      "[219]\tvalid_0's binary_logloss: 0.455247\n",
      "[220]\tvalid_0's binary_logloss: 0.455247\n",
      "[221]\tvalid_0's binary_logloss: 0.455136\n",
      "[222]\tvalid_0's binary_logloss: 0.455104\n",
      "[223]\tvalid_0's binary_logloss: 0.455097\n",
      "[224]\tvalid_0's binary_logloss: 0.454965\n",
      "[225]\tvalid_0's binary_logloss: 0.454868\n",
      "[226]\tvalid_0's binary_logloss: 0.454793\n",
      "[227]\tvalid_0's binary_logloss: 0.454657\n",
      "[228]\tvalid_0's binary_logloss: 0.454657\n",
      "[229]\tvalid_0's binary_logloss: 0.454557\n",
      "[230]\tvalid_0's binary_logloss: 0.454545\n",
      "[231]\tvalid_0's binary_logloss: 0.454537\n",
      "[232]\tvalid_0's binary_logloss: 0.454424\n",
      "[233]\tvalid_0's binary_logloss: 0.45434\n",
      "[234]\tvalid_0's binary_logloss: 0.454257\n",
      "[235]\tvalid_0's binary_logloss: 0.45413\n",
      "[236]\tvalid_0's binary_logloss: 0.45413\n",
      "[237]\tvalid_0's binary_logloss: 0.454061\n",
      "[238]\tvalid_0's binary_logloss: 0.454036\n",
      "[239]\tvalid_0's binary_logloss: 0.454029\n",
      "[240]\tvalid_0's binary_logloss: 0.453911\n",
      "[241]\tvalid_0's binary_logloss: 0.453841\n",
      "[242]\tvalid_0's binary_logloss: 0.453806\n",
      "[243]\tvalid_0's binary_logloss: 0.453686\n",
      "[244]\tvalid_0's binary_logloss: 0.453686\n",
      "[245]\tvalid_0's binary_logloss: 0.453603\n",
      "[246]\tvalid_0's binary_logloss: 0.453594\n",
      "[247]\tvalid_0's binary_logloss: 0.453588\n",
      "[248]\tvalid_0's binary_logloss: 0.453517\n",
      "[249]\tvalid_0's binary_logloss: 0.453453\n",
      "[250]\tvalid_0's binary_logloss: 0.453392\n",
      "[251]\tvalid_0's binary_logloss: 0.453342\n",
      "[252]\tvalid_0's binary_logloss: 0.453342\n",
      "[253]\tvalid_0's binary_logloss: 0.453244\n",
      "[254]\tvalid_0's binary_logloss: 0.453225\n",
      "[255]\tvalid_0's binary_logloss: 0.453218\n",
      "[256]\tvalid_0's binary_logloss: 0.453146\n"
     ]
    },
    {
     "name": "stdout",
     "output_type": "stream",
     "text": [
      "[257]\tvalid_0's binary_logloss: 0.453121\n",
      "[258]\tvalid_0's binary_logloss: 0.45308\n",
      "[259]\tvalid_0's binary_logloss: 0.452968\n",
      "[260]\tvalid_0's binary_logloss: 0.452968\n",
      "[261]\tvalid_0's binary_logloss: 0.452898\n",
      "[262]\tvalid_0's binary_logloss: 0.452889\n",
      "[263]\tvalid_0's binary_logloss: 0.452884\n",
      "[264]\tvalid_0's binary_logloss: 0.452797\n",
      "[265]\tvalid_0's binary_logloss: 0.452779\n",
      "[266]\tvalid_0's binary_logloss: 0.452728\n",
      "[267]\tvalid_0's binary_logloss: 0.452688\n",
      "[268]\tvalid_0's binary_logloss: 0.452688\n",
      "[269]\tvalid_0's binary_logloss: 0.452643\n",
      "[270]\tvalid_0's binary_logloss: 0.452613\n",
      "[271]\tvalid_0's binary_logloss: 0.452608\n",
      "[272]\tvalid_0's binary_logloss: 0.452539\n",
      "[273]\tvalid_0's binary_logloss: 0.452522\n",
      "[274]\tvalid_0's binary_logloss: 0.452493\n",
      "[275]\tvalid_0's binary_logloss: 0.452445\n",
      "[276]\tvalid_0's binary_logloss: 0.452445\n",
      "[277]\tvalid_0's binary_logloss: 0.452384\n",
      "[278]\tvalid_0's binary_logloss: 0.452374\n",
      "[279]\tvalid_0's binary_logloss: 0.452368\n",
      "[280]\tvalid_0's binary_logloss: 0.452324\n",
      "[281]\tvalid_0's binary_logloss: 0.452308\n",
      "[282]\tvalid_0's binary_logloss: 0.452259\n",
      "[283]\tvalid_0's binary_logloss: 0.452214\n",
      "[284]\tvalid_0's binary_logloss: 0.452214\n",
      "[285]\tvalid_0's binary_logloss: 0.452159\n",
      "[286]\tvalid_0's binary_logloss: 0.452149\n",
      "[287]\tvalid_0's binary_logloss: 0.452144\n",
      "[288]\tvalid_0's binary_logloss: 0.452086\n",
      "[289]\tvalid_0's binary_logloss: 0.452073\n",
      "[290]\tvalid_0's binary_logloss: 0.452041\n",
      "[291]\tvalid_0's binary_logloss: 0.452\n",
      "[292]\tvalid_0's binary_logloss: 0.452\n",
      "[293]\tvalid_0's binary_logloss: 0.451932\n",
      "[294]\tvalid_0's binary_logloss: 0.451919\n",
      "[295]\tvalid_0's binary_logloss: 0.451918\n",
      "[296]\tvalid_0's binary_logloss: 0.451878\n",
      "[297]\tvalid_0's binary_logloss: 0.45187\n",
      "[298]\tvalid_0's binary_logloss: 0.451858\n",
      "[299]\tvalid_0's binary_logloss: 0.451827\n",
      "[300]\tvalid_0's binary_logloss: 0.451827\n",
      "[301]\tvalid_0's binary_logloss: 0.451779\n",
      "[302]\tvalid_0's binary_logloss: 0.451772\n",
      "[303]\tvalid_0's binary_logloss: 0.451767\n",
      "[304]\tvalid_0's binary_logloss: 0.451701\n",
      "[305]\tvalid_0's binary_logloss: 0.4517\n",
      "[306]\tvalid_0's binary_logloss: 0.45166\n",
      "[307]\tvalid_0's binary_logloss: 0.451624\n",
      "[308]\tvalid_0's binary_logloss: 0.451624\n",
      "[309]\tvalid_0's binary_logloss: 0.451604\n",
      "[310]\tvalid_0's binary_logloss: 0.451594\n",
      "[311]\tvalid_0's binary_logloss: 0.45159\n",
      "[312]\tvalid_0's binary_logloss: 0.451567\n",
      "[313]\tvalid_0's binary_logloss: 0.451564\n",
      "[314]\tvalid_0's binary_logloss: 0.451534\n",
      "[315]\tvalid_0's binary_logloss: 0.4515\n",
      "[316]\tvalid_0's binary_logloss: 0.4515\n",
      "[317]\tvalid_0's binary_logloss: 0.451459\n",
      "[318]\tvalid_0's binary_logloss: 0.451446\n",
      "[319]\tvalid_0's binary_logloss: 0.45144\n",
      "[320]\tvalid_0's binary_logloss: 0.451433\n",
      "[321]\tvalid_0's binary_logloss: 0.451427\n",
      "[322]\tvalid_0's binary_logloss: 0.451395\n",
      "[323]\tvalid_0's binary_logloss: 0.451356\n",
      "[324]\tvalid_0's binary_logloss: 0.451356\n",
      "[325]\tvalid_0's binary_logloss: 0.4513\n",
      "[326]\tvalid_0's binary_logloss: 0.45129\n",
      "[327]\tvalid_0's binary_logloss: 0.451286\n",
      "[328]\tvalid_0's binary_logloss: 0.451248\n",
      "[329]\tvalid_0's binary_logloss: 0.451248\n",
      "[330]\tvalid_0's binary_logloss: 0.451231\n",
      "[331]\tvalid_0's binary_logloss: 0.451197\n",
      "[332]\tvalid_0's binary_logloss: 0.451197\n",
      "[333]\tvalid_0's binary_logloss: 0.451163\n",
      "[334]\tvalid_0's binary_logloss: 0.451155\n",
      "[335]\tvalid_0's binary_logloss: 0.451151\n",
      "[336]\tvalid_0's binary_logloss: 0.451122\n",
      "[337]\tvalid_0's binary_logloss: 0.451122\n",
      "[338]\tvalid_0's binary_logloss: 0.451117\n",
      "[339]\tvalid_0's binary_logloss: 0.451088\n",
      "[340]\tvalid_0's binary_logloss: 0.451088\n",
      "[341]\tvalid_0's binary_logloss: 0.451056\n",
      "[342]\tvalid_0's binary_logloss: 0.451049\n",
      "[343]\tvalid_0's binary_logloss: 0.451043\n",
      "[344]\tvalid_0's binary_logloss: 0.451003\n",
      "[345]\tvalid_0's binary_logloss: 0.451001\n",
      "[346]\tvalid_0's binary_logloss: 0.450988\n",
      "[347]\tvalid_0's binary_logloss: 0.450957\n",
      "[348]\tvalid_0's binary_logloss: 0.450957\n",
      "[349]\tvalid_0's binary_logloss: 0.45095\n",
      "[350]\tvalid_0's binary_logloss: 0.450942\n",
      "[351]\tvalid_0's binary_logloss: 0.450937\n",
      "[352]\tvalid_0's binary_logloss: 0.450917\n",
      "[353]\tvalid_0's binary_logloss: 0.450914\n",
      "[354]\tvalid_0's binary_logloss: 0.450914\n",
      "[355]\tvalid_0's binary_logloss: 0.450881\n",
      "[356]\tvalid_0's binary_logloss: 0.450881\n",
      "[357]\tvalid_0's binary_logloss: 0.450854\n",
      "[358]\tvalid_0's binary_logloss: 0.450832\n",
      "[359]\tvalid_0's binary_logloss: 0.450829\n",
      "[360]\tvalid_0's binary_logloss: 0.450809\n",
      "[361]\tvalid_0's binary_logloss: 0.450808\n",
      "[362]\tvalid_0's binary_logloss: 0.450808\n",
      "[363]\tvalid_0's binary_logloss: 0.450777\n",
      "[364]\tvalid_0's binary_logloss: 0.450777\n",
      "[365]\tvalid_0's binary_logloss: 0.450736\n",
      "[366]\tvalid_0's binary_logloss: 0.450721\n",
      "[367]\tvalid_0's binary_logloss: 0.45072\n",
      "[368]\tvalid_0's binary_logloss: 0.450699\n",
      "[369]\tvalid_0's binary_logloss: 0.450704\n",
      "[370]\tvalid_0's binary_logloss: 0.450713\n",
      "[371]\tvalid_0's binary_logloss: 0.450696\n",
      "[372]\tvalid_0's binary_logloss: 0.450696\n",
      "[373]\tvalid_0's binary_logloss: 0.450675\n",
      "[374]\tvalid_0's binary_logloss: 0.45067\n",
      "[375]\tvalid_0's binary_logloss: 0.45067\n",
      "[376]\tvalid_0's binary_logloss: 0.450681\n",
      "[377]\tvalid_0's binary_logloss: 0.450677\n",
      "[378]\tvalid_0's binary_logloss: 0.450677\n",
      "[379]\tvalid_0's binary_logloss: 0.450655\n",
      "[380]\tvalid_0's binary_logloss: 0.450655\n",
      "[381]\tvalid_0's binary_logloss: 0.45063\n",
      "[382]\tvalid_0's binary_logloss: 0.45062\n",
      "[383]\tvalid_0's binary_logloss: 0.450612\n",
      "[384]\tvalid_0's binary_logloss: 0.450606\n",
      "[385]\tvalid_0's binary_logloss: 0.450601\n",
      "[386]\tvalid_0's binary_logloss: 0.450601\n",
      "[387]\tvalid_0's binary_logloss: 0.450572\n",
      "[388]\tvalid_0's binary_logloss: 0.450572\n",
      "[389]\tvalid_0's binary_logloss: 0.45055\n",
      "[390]\tvalid_0's binary_logloss: 0.450526\n",
      "[391]\tvalid_0's binary_logloss: 0.450526\n",
      "[392]\tvalid_0's binary_logloss: 0.450516\n",
      "[393]\tvalid_0's binary_logloss: 0.450514\n",
      "[394]\tvalid_0's binary_logloss: 0.450514\n",
      "[395]\tvalid_0's binary_logloss: 0.450488\n",
      "[396]\tvalid_0's binary_logloss: 0.450488\n",
      "[397]\tvalid_0's binary_logloss: 0.450473\n",
      "[398]\tvalid_0's binary_logloss: 0.450466\n",
      "[399]\tvalid_0's binary_logloss: 0.450461\n",
      "[400]\tvalid_0's binary_logloss: 0.450467\n",
      "[401]\tvalid_0's binary_logloss: 0.450463\n",
      "[402]\tvalid_0's binary_logloss: 0.450463\n",
      "[403]\tvalid_0's binary_logloss: 0.450373\n",
      "[404]\tvalid_0's binary_logloss: 0.450373\n",
      "[405]\tvalid_0's binary_logloss: 0.450358\n",
      "[406]\tvalid_0's binary_logloss: 0.450339\n",
      "[407]\tvalid_0's binary_logloss: 0.450336\n",
      "[408]\tvalid_0's binary_logloss: 0.450308\n",
      "[409]\tvalid_0's binary_logloss: 0.450312\n",
      "[410]\tvalid_0's binary_logloss: 0.450312\n",
      "[411]\tvalid_0's binary_logloss: 0.450232\n",
      "[412]\tvalid_0's binary_logloss: 0.450232\n",
      "[413]\tvalid_0's binary_logloss: 0.450224\n",
      "[414]\tvalid_0's binary_logloss: 0.450227\n",
      "[415]\tvalid_0's binary_logloss: 0.450227\n",
      "[416]\tvalid_0's binary_logloss: 0.450224\n",
      "[417]\tvalid_0's binary_logloss: 0.450228\n",
      "[418]\tvalid_0's binary_logloss: 0.450228\n",
      "[419]\tvalid_0's binary_logloss: 0.450217\n",
      "[420]\tvalid_0's binary_logloss: 0.450217\n",
      "[421]\tvalid_0's binary_logloss: 0.450207\n",
      "[422]\tvalid_0's binary_logloss: 0.450204\n",
      "[423]\tvalid_0's binary_logloss: 0.450204\n",
      "[424]\tvalid_0's binary_logloss: 0.450202\n",
      "[425]\tvalid_0's binary_logloss: 0.450203\n",
      "[426]\tvalid_0's binary_logloss: 0.450203\n",
      "[427]\tvalid_0's binary_logloss: 0.450175\n",
      "[428]\tvalid_0's binary_logloss: 0.450175\n",
      "[429]\tvalid_0's binary_logloss: 0.450165\n",
      "[430]\tvalid_0's binary_logloss: 0.450161\n",
      "[431]\tvalid_0's binary_logloss: 0.450161\n",
      "[432]\tvalid_0's binary_logloss: 0.450152\n",
      "[433]\tvalid_0's binary_logloss: 0.450131\n",
      "[434]\tvalid_0's binary_logloss: 0.450131\n",
      "[435]\tvalid_0's binary_logloss: 0.450113\n",
      "[436]\tvalid_0's binary_logloss: 0.450113\n",
      "[437]\tvalid_0's binary_logloss: 0.450087\n",
      "[438]\tvalid_0's binary_logloss: 0.450086\n",
      "[439]\tvalid_0's binary_logloss: 0.450084\n",
      "[440]\tvalid_0's binary_logloss: 0.450106\n",
      "[441]\tvalid_0's binary_logloss: 0.450091\n",
      "[442]\tvalid_0's binary_logloss: 0.450091\n",
      "[443]\tvalid_0's binary_logloss: 0.450061\n",
      "[444]\tvalid_0's binary_logloss: 0.450061\n",
      "[445]\tvalid_0's binary_logloss: 0.450071\n",
      "[446]\tvalid_0's binary_logloss: 0.450054\n",
      "[447]\tvalid_0's binary_logloss: 0.450054\n",
      "[448]\tvalid_0's binary_logloss: 0.450029\n",
      "[449]\tvalid_0's binary_logloss: 0.45003\n",
      "[450]\tvalid_0's binary_logloss: 0.45003\n",
      "[451]\tvalid_0's binary_logloss: 0.450002\n",
      "[452]\tvalid_0's binary_logloss: 0.450002\n",
      "[453]\tvalid_0's binary_logloss: 0.449994\n",
      "[454]\tvalid_0's binary_logloss: 0.449991\n",
      "[455]\tvalid_0's binary_logloss: 0.449991\n",
      "[456]\tvalid_0's binary_logloss: 0.449982\n",
      "[457]\tvalid_0's binary_logloss: 0.449984\n",
      "[458]\tvalid_0's binary_logloss: 0.449984\n",
      "[459]\tvalid_0's binary_logloss: 0.449967\n",
      "[460]\tvalid_0's binary_logloss: 0.449967\n",
      "[461]\tvalid_0's binary_logloss: 0.44996\n",
      "[462]\tvalid_0's binary_logloss: 0.44996\n",
      "[463]\tvalid_0's binary_logloss: 0.449955\n",
      "[464]\tvalid_0's binary_logloss: 0.44999\n",
      "[465]\tvalid_0's binary_logloss: 0.449988\n",
      "[466]\tvalid_0's binary_logloss: 0.449988\n",
      "[467]\tvalid_0's binary_logloss: 0.449958\n",
      "[468]\tvalid_0's binary_logloss: 0.449958\n",
      "[469]\tvalid_0's binary_logloss: 0.449949\n",
      "[470]\tvalid_0's binary_logloss: 0.449943\n",
      "[471]\tvalid_0's binary_logloss: 0.449943\n",
      "[472]\tvalid_0's binary_logloss: 0.449923\n",
      "[473]\tvalid_0's binary_logloss: 0.449933\n",
      "[474]\tvalid_0's binary_logloss: 0.449933\n",
      "[475]\tvalid_0's binary_logloss: 0.449929\n",
      "[476]\tvalid_0's binary_logloss: 0.449929\n",
      "[477]\tvalid_0's binary_logloss: 0.449921\n",
      "[478]\tvalid_0's binary_logloss: 0.449909\n",
      "[479]\tvalid_0's binary_logloss: 0.449909\n",
      "[480]\tvalid_0's binary_logloss: 0.449936\n",
      "[481]\tvalid_0's binary_logloss: 0.449921\n",
      "[482]\tvalid_0's binary_logloss: 0.449921\n",
      "[483]\tvalid_0's binary_logloss: 0.449919\n",
      "[484]\tvalid_0's binary_logloss: 0.449919\n",
      "[485]\tvalid_0's binary_logloss: 0.44989\n",
      "[486]\tvalid_0's binary_logloss: 0.449884\n",
      "[487]\tvalid_0's binary_logloss: 0.449884\n",
      "[488]\tvalid_0's binary_logloss: 0.449871\n",
      "[489]\tvalid_0's binary_logloss: 0.449871\n",
      "[490]\tvalid_0's binary_logloss: 0.449871\n",
      "[491]\tvalid_0's binary_logloss: 0.449872\n",
      "[492]\tvalid_0's binary_logloss: 0.449872\n",
      "[493]\tvalid_0's binary_logloss: 0.449863\n",
      "[494]\tvalid_0's binary_logloss: 0.449857\n",
      "[495]\tvalid_0's binary_logloss: 0.449857\n",
      "[496]\tvalid_0's binary_logloss: 0.449865\n",
      "[497]\tvalid_0's binary_logloss: 0.449863\n",
      "[498]\tvalid_0's binary_logloss: 0.449863\n",
      "[499]\tvalid_0's binary_logloss: 0.449839\n",
      "[500]\tvalid_0's binary_logloss: 0.449839\n"
     ]
    }
   ],
   "source": [
    "import lightgbm as lgb\n",
    "clf = lgb.LGBMClassifier(class_weight='balanced',drop_rate=0.9, min_data_in_leaf=100, max_bin=255,\n",
    "                                 n_estimators=500,min_sum_hessian_in_leaf=1,importance_type='gain',learning_rate=0.1,bagging_fraction = 0.85,\n",
    "                                 colsample_bytree = 1.0,feature_fraction = 0.1,lambda_l1 = 5.0,lambda_l2 = 3.0,max_depth =  9,\n",
    "                                 min_child_samples = 55,min_child_weight = 5.0,min_split_gain = 0.1,num_leaves = 45,subsample = 0.75)  \n",
    "predicts = []\n",
    "clf.fit(trainx, trainy, eval_set=[(testx, testy)], early_stopping_rounds=20)\n",
    "predicts.append(clf.predict(testx))"
   ]
  },
  {
   "cell_type": "code",
   "execution_count": 115,
   "id": "3a46284b",
   "metadata": {},
   "outputs": [
    {
     "data": {
      "image/png": "[encoded data removed]",
      "text/plain": [
       "<Figure size 1440x720 with 1 Axes>"
      ]
     },
     "metadata": {
      "needs_background": "light"
     },
     "output_type": "display_data"
    }
   ],
   "source": [
    "import seaborn as sns\n",
    "\n",
    "feature_imp = pd.DataFrame(sorted(zip(clf.feature_importances_,smotex.columns)), columns=['Value','Feature'])\n",
    "\n",
    "plt.figure(figsize=(20, 10))\n",
    "sns.barplot(x=\"Value\", y=\"Feature\", data=feature_imp.sort_values(by=\"Value\", ascending=False))\n",
    "plt.title('LightGBM Features (avg over folds)')\n",
    "plt.tight_layout()\n",
    "plt.show()"
   ]
  },
  {
   "cell_type": "markdown",
   "id": "05ed2713",
   "metadata": {},
   "source": [
    "## SMOTE"
   ]
  },
  {
   "cell_type": "code",
   "execution_count": 70,
   "id": "e62eb250",
   "metadata": {},
   "outputs": [],
   "source": [
    "smotex, smotey = SMOTE(random_state=1103).fit_resample(trainx, trainy)"
   ]
  },
  {
   "cell_type": "code",
   "execution_count": 71,
   "id": "d91f2b0c",
   "metadata": {},
   "outputs": [
    {
     "data": {
      "image/png": "[encoded data removed]",
      "text/plain": [
       "<Figure size 432x288 with 1 Axes>"
      ]
     },
     "metadata": {
      "needs_background": "light"
     },
     "output_type": "display_data"
    }
   ],
   "source": [
    "clf=LogisticRegression(solver='lbfgs',max_iter=300)\n",
    "clf.fit(smotex, smotey)\n",
    "\n",
    "pre_trainy=clf.predict(smotex)\n",
    "proba_pre_trainy=clf.predict_proba(smotex)\n",
    "\n",
    "fpr, tpr, thresholds=roc_curve(smotey,proba_pre_trainy[:,1],pos_label=1)\n",
    "roc_auc=auc(fpr,tpr)\n",
    "\n",
    "\n",
    "plt.plot(fpr, tpr, color='darkorange',label='ROC curve (area = %0.2f)' % roc_auc)\n",
    "plt.plot([0, 1], [0, 1], color='navy',  linestyle='--')\n",
    "plt.xlim([-0.03, 1.0])\n",
    "plt.ylim([0.0, 1.05])\n",
    "plt.xlabel('False Positive Rate')\n",
    "plt.ylabel('True Positive Rate')\n",
    "plt.title('ROC and AUC')\n",
    "plt.legend(loc=\"lower right\")\n",
    "plt.show()"
   ]
  },
  {
   "cell_type": "code",
   "execution_count": 72,
   "id": "cc6ce225",
   "metadata": {},
   "outputs": [
    {
     "name": "stdout",
     "output_type": "stream",
     "text": [
      "              precision    recall  f1-score   support\n",
      "\n",
      "           0       0.68      0.71      0.69     12308\n",
      "           1       0.69      0.66      0.68     12308\n",
      "\n",
      "    accuracy                           0.68     24616\n",
      "   macro avg       0.68      0.68      0.68     24616\n",
      "weighted avg       0.68      0.68      0.68     24616\n",
      "\n"
     ]
    }
   ],
   "source": [
    "con_mtrx=confusion_matrix(smotey,pre_trainy,labels=[0,1])\n",
    "\n",
    "print(classification_report(smotey,pre_trainy))"
   ]
  },
  {
   "cell_type": "code",
   "execution_count": 73,
   "id": "6266e9d8",
   "metadata": {},
   "outputs": [
    {
     "data": {
      "text/plain": [
       "0.6844961240310078"
      ]
     },
     "execution_count": 73,
     "metadata": {},
     "output_type": "execute_result"
    }
   ],
   "source": [
    "pre_testy=clf.predict(testx)\n",
    "proba_pre_testy=clf.predict_proba(testx)\n",
    "con_mtrx=confusion_matrix(testy,pre_testy,labels=[1,0])\n",
    "accuracy=(con_mtrx[0,0]+con_mtrx[1,1])/np.sum(con_mtrx)\n",
    "accuracy"
   ]
  },
  {
   "cell_type": "code",
   "execution_count": 74,
   "id": "41d74408",
   "metadata": {},
   "outputs": [
    {
     "name": "stdout",
     "output_type": "stream",
     "text": [
      "              precision    recall  f1-score   support\n",
      "\n",
      "           0       0.80      0.71      0.75      5253\n",
      "           1       0.51      0.63      0.56      2487\n",
      "\n",
      "    accuracy                           0.68      7740\n",
      "   macro avg       0.66      0.67      0.66      7740\n",
      "weighted avg       0.71      0.68      0.69      7740\n",
      "\n"
     ]
    }
   ],
   "source": [
    "print(classification_report(testy,pre_testy))"
   ]
  },
  {
   "cell_type": "code",
   "execution_count": 75,
   "id": "af1dd08a",
   "metadata": {},
   "outputs": [
    {
     "name": "stdout",
     "output_type": "stream",
     "text": [
      "Optimization terminated successfully.\n",
      "         Current function value: 0.574982\n",
      "         Iterations: 30\n",
      "         Function evaluations: 34\n",
      "         Gradient evaluations: 34\n",
      "                           Logit Regression Results                           \n",
      "==============================================================================\n",
      "Dep. Variable:          outcome_label   No. Observations:                24616\n",
      "Model:                          Logit   Df Residuals:                    24607\n",
      "Method:                           MLE   Df Model:                            8\n",
      "Date:                Tue, 03 May 2022   Pseudo R-squ.:                  0.1705\n",
      "Time:                        00:13:03   Log-Likelihood:                -14154.\n",
      "converged:                       True   LL-Null:                       -17063.\n",
      "Covariance Type:            nonrobust   LLR p-value:                     0.000\n",
      "======================================================================================\n",
      "                         coef    std err          z      P>|z|      [0.025      0.975]\n",
      "--------------------------------------------------------------------------------------\n",
      "sex_label             -0.5577      0.014    -39.801      0.000      -0.585      -0.530\n",
      "color_label           -0.3437      0.031    -11.128      0.000      -0.404      -0.283\n",
      "size_label            -0.2812      0.018    -15.463      0.000      -0.317      -0.246\n",
      "breed_label            0.0191      0.003      5.477      0.000       0.012       0.026\n",
      "Location_label         0.0911      0.002     44.646      0.000       0.087       0.095\n",
      "DaysinShelter          0.0187      0.001     24.822      0.000       0.017       0.020\n",
      "IntakeTypeLabel       -0.0497      0.004    -11.969      0.000      -0.058      -0.042\n",
      "IntakeSubtypeLabel     0.0122      0.001     10.382      0.000       0.010       0.015\n",
      "const                  0.3038      0.069      4.371      0.000       0.168       0.440\n",
      "======================================================================================\n"
     ]
    }
   ],
   "source": [
    "x=sm.add_constant(smotex,prepend=False)\n",
    "mod=sm.Logit(smotey,x).fit(method='bfgs',maxiter=100)\n",
    "print(mod.summary())"
   ]
  },
  {
   "cell_type": "markdown",
   "id": "58e2aa89",
   "metadata": {},
   "source": [
    "### Light GBM"
   ]
  },
  {
   "cell_type": "code",
   "execution_count": 79,
   "id": "17b018cc",
   "metadata": {},
   "outputs": [
    {
     "name": "stderr",
     "output_type": "stream",
     "text": [
      "/Users/cullen/opt/anaconda3/lib/python3.8/site-packages/lightgbm/sklearn.py:726: UserWarning: 'early_stopping_rounds' argument is deprecated and will be removed in a future release of LightGBM. Pass 'early_stopping()' callback via 'callbacks' argument instead.\n",
      "  _log_warning(\"'early_stopping_rounds' argument is deprecated and will be removed in a future release of LightGBM. \"\n"
     ]
    },
    {
     "name": "stdout",
     "output_type": "stream",
     "text": [
      "[LightGBM] [Warning] min_sum_hessian_in_leaf is set=1, min_child_weight=5.0 will be ignored. Current value: min_sum_hessian_in_leaf=1\n",
      "[LightGBM] [Warning] lambda_l1 is set=5.0, reg_alpha=0.0 will be ignored. Current value: lambda_l1=5.0\n",
      "[LightGBM] [Warning] min_data_in_leaf is set=100, min_child_samples=55 will be ignored. Current value: min_data_in_leaf=100\n",
      "[LightGBM] [Warning] feature_fraction is set=0.1, colsample_bytree=1.0 will be ignored. Current value: feature_fraction=0.1\n",
      "[LightGBM] [Warning] bagging_fraction is set=0.85, subsample=0.75 will be ignored. Current value: bagging_fraction=0.85\n",
      "[LightGBM] [Warning] lambda_l2 is set=3.0, reg_lambda=0.0 will be ignored. Current value: lambda_l2=3.0\n",
      "[1]\tvalid_0's binary_logloss: 0.680333\n",
      "[2]\tvalid_0's binary_logloss: 0.665983\n",
      "[3]\tvalid_0's binary_logloss: 0.652162\n",
      "[4]\tvalid_0's binary_logloss: 0.65188\n",
      "[5]\tvalid_0's binary_logloss: 0.645691\n",
      "[6]\tvalid_0's binary_logloss: 0.645317\n",
      "[7]\tvalid_0's binary_logloss: 0.644775\n",
      "[8]\tvalid_0's binary_logloss: 0.631296\n",
      "[9]\tvalid_0's binary_logloss: 0.62271\n",
      "[10]\tvalid_0's binary_logloss: 0.613849\n",
      "[11]\tvalid_0's binary_logloss: 0.604747\n",
      "[12]\tvalid_0's binary_logloss: 0.604696\n",
      "[13]\tvalid_0's binary_logloss: 0.600459\n",
      "[14]\tvalid_0's binary_logloss: 0.600237\n",
      "[15]\tvalid_0's binary_logloss: 0.59985\n",
      "[16]\tvalid_0's binary_logloss: 0.590137\n",
      "[17]\tvalid_0's binary_logloss: 0.584067\n",
      "[18]\tvalid_0's binary_logloss: 0.578092\n",
      "[19]\tvalid_0's binary_logloss: 0.571742\n",
      "[20]\tvalid_0's binary_logloss: 0.57181\n",
      "[21]\tvalid_0's binary_logloss: 0.568772\n",
      "[22]\tvalid_0's binary_logloss: 0.568618\n",
      "[23]\tvalid_0's binary_logloss: 0.568325\n",
      "[24]\tvalid_0's binary_logloss: 0.561115\n",
      "[25]\tvalid_0's binary_logloss: 0.556644\n",
      "[26]\tvalid_0's binary_logloss: 0.552562\n",
      "[27]\tvalid_0's binary_logloss: 0.547967\n",
      "[28]\tvalid_0's binary_logloss: 0.548086\n",
      "[29]\tvalid_0's binary_logloss: 0.545803\n",
      "[30]\tvalid_0's binary_logloss: 0.545725\n",
      "[31]\tvalid_0's binary_logloss: 0.545493\n",
      "[32]\tvalid_0's binary_logloss: 0.539916\n",
      "[33]\tvalid_0's binary_logloss: 0.536614\n",
      "[34]\tvalid_0's binary_logloss: 0.533588\n",
      "[35]\tvalid_0's binary_logloss: 0.53013\n",
      "[36]\tvalid_0's binary_logloss: 0.530271\n",
      "[37]\tvalid_0's binary_logloss: 0.528498\n",
      "[38]\tvalid_0's binary_logloss: 0.528414\n",
      "[39]\tvalid_0's binary_logloss: 0.528226\n",
      "[40]\tvalid_0's binary_logloss: 0.523794\n",
      "[41]\tvalid_0's binary_logloss: 0.521201\n",
      "[42]\tvalid_0's binary_logloss: 0.519028\n",
      "[43]\tvalid_0's binary_logloss: 0.516354\n",
      "[44]\tvalid_0's binary_logloss: 0.516505\n",
      "[45]\tvalid_0's binary_logloss: 0.515089\n",
      "[46]\tvalid_0's binary_logloss: 0.515021\n",
      "[47]\tvalid_0's binary_logloss: 0.51487\n",
      "[48]\tvalid_0's binary_logloss: 0.511222\n",
      "[49]\tvalid_0's binary_logloss: 0.509153\n",
      "[50]\tvalid_0's binary_logloss: 0.507401\n",
      "[51]\tvalid_0's binary_logloss: 0.505286\n",
      "[52]\tvalid_0's binary_logloss: 0.505439\n",
      "[53]\tvalid_0's binary_logloss: 0.504301\n",
      "[54]\tvalid_0's binary_logloss: 0.504251\n",
      "[55]\tvalid_0's binary_logloss: 0.504131\n",
      "[56]\tvalid_0's binary_logloss: 0.501263\n",
      "[57]\tvalid_0's binary_logloss: 0.499601\n",
      "[58]\tvalid_0's binary_logloss: 0.498284\n",
      "[59]\tvalid_0's binary_logloss: 0.49658\n",
      "[60]\tvalid_0's binary_logloss: 0.496722\n",
      "[61]\tvalid_0's binary_logloss: 0.49576\n",
      "[62]\tvalid_0's binary_logloss: 0.49572\n",
      "[63]\tvalid_0's binary_logloss: 0.49562\n",
      "[64]\tvalid_0's binary_logloss: 0.493089\n",
      "[65]\tvalid_0's binary_logloss: 0.491728\n",
      "[66]\tvalid_0's binary_logloss: 0.490676\n",
      "[67]\tvalid_0's binary_logloss: 0.489279\n",
      "[68]\tvalid_0's binary_logloss: 0.48941\n",
      "[69]\tvalid_0's binary_logloss: 0.48856\n",
      "[70]\tvalid_0's binary_logloss: 0.488523\n",
      "[71]\tvalid_0's binary_logloss: 0.488439\n",
      "[72]\tvalid_0's binary_logloss: 0.486231\n",
      "[73]\tvalid_0's binary_logloss: 0.485151\n",
      "[74]\tvalid_0's binary_logloss: 0.484308\n",
      "[75]\tvalid_0's binary_logloss: 0.483148\n",
      "[76]\tvalid_0's binary_logloss: 0.483271\n",
      "[77]\tvalid_0's binary_logloss: 0.482538\n",
      "[78]\tvalid_0's binary_logloss: 0.482502\n",
      "[79]\tvalid_0's binary_logloss: 0.482435\n",
      "[80]\tvalid_0's binary_logloss: 0.480586\n",
      "[81]\tvalid_0's binary_logloss: 0.479748\n",
      "[82]\tvalid_0's binary_logloss: 0.479092\n",
      "[83]\tvalid_0's binary_logloss: 0.478102\n",
      "[84]\tvalid_0's binary_logloss: 0.478215\n",
      "[85]\tvalid_0's binary_logloss: 0.477555\n",
      "[86]\tvalid_0's binary_logloss: 0.477515\n",
      "[87]\tvalid_0's binary_logloss: 0.477461\n",
      "[88]\tvalid_0's binary_logloss: 0.475944\n",
      "[89]\tvalid_0's binary_logloss: 0.475177\n",
      "[90]\tvalid_0's binary_logloss: 0.474555\n",
      "[91]\tvalid_0's binary_logloss: 0.473713\n",
      "[92]\tvalid_0's binary_logloss: 0.473819\n",
      "[93]\tvalid_0's binary_logloss: 0.473248\n",
      "[94]\tvalid_0's binary_logloss: 0.473197\n",
      "[95]\tvalid_0's binary_logloss: 0.473153\n",
      "[96]\tvalid_0's binary_logloss: 0.471942\n",
      "[97]\tvalid_0's binary_logloss: 0.471396\n",
      "[98]\tvalid_0's binary_logloss: 0.47088\n",
      "[99]\tvalid_0's binary_logloss: 0.470155\n",
      "[100]\tvalid_0's binary_logloss: 0.470251\n",
      "[101]\tvalid_0's binary_logloss: 0.469742\n",
      "[102]\tvalid_0's binary_logloss: 0.469683\n",
      "[103]\tvalid_0's binary_logloss: 0.469645\n",
      "[104]\tvalid_0's binary_logloss: 0.468679\n",
      "[105]\tvalid_0's binary_logloss: 0.468151\n",
      "[106]\tvalid_0's binary_logloss: 0.467735\n",
      "[107]\tvalid_0's binary_logloss: 0.467113\n",
      "[108]\tvalid_0's binary_logloss: 0.467206\n",
      "[109]\tvalid_0's binary_logloss: 0.466756\n",
      "[110]\tvalid_0's binary_logloss: 0.466698\n",
      "[111]\tvalid_0's binary_logloss: 0.46667\n",
      "[112]\tvalid_0's binary_logloss: 0.465854\n",
      "[113]\tvalid_0's binary_logloss: 0.465375\n",
      "[114]\tvalid_0's binary_logloss: 0.465095\n",
      "[115]\tvalid_0's binary_logloss: 0.46455\n",
      "[116]\tvalid_0's binary_logloss: 0.464638\n",
      "[117]\tvalid_0's binary_logloss: 0.464236\n",
      "[118]\tvalid_0's binary_logloss: 0.464179\n",
      "[119]\tvalid_0's binary_logloss: 0.464156\n",
      "[120]\tvalid_0's binary_logloss: 0.463249\n",
      "[121]\tvalid_0's binary_logloss: 0.462802\n",
      "[122]\tvalid_0's binary_logloss: 0.462534\n",
      "[123]\tvalid_0's binary_logloss: 0.462141\n",
      "[124]\tvalid_0's binary_logloss: 0.462222\n",
      "[125]\tvalid_0's binary_logloss: 0.461858\n",
      "[126]\tvalid_0's binary_logloss: 0.46181\n",
      "[127]\tvalid_0's binary_logloss: 0.46179\n",
      "[128]\tvalid_0's binary_logloss: 0.461279\n",
      "[129]\tvalid_0's binary_logloss: 0.460945\n",
      "[130]\tvalid_0's binary_logloss: 0.460696\n",
      "[131]\tvalid_0's binary_logloss: 0.460345\n",
      "[132]\tvalid_0's binary_logloss: 0.460418\n",
      "[133]\tvalid_0's binary_logloss: 0.460086\n",
      "[134]\tvalid_0's binary_logloss: 0.460044\n",
      "[135]\tvalid_0's binary_logloss: 0.460025\n",
      "[136]\tvalid_0's binary_logloss: 0.459305\n",
      "[137]\tvalid_0's binary_logloss: 0.459074\n",
      "[138]\tvalid_0's binary_logloss: 0.458902\n",
      "[139]\tvalid_0's binary_logloss: 0.458583\n",
      "[140]\tvalid_0's binary_logloss: 0.458648\n",
      "[141]\tvalid_0's binary_logloss: 0.458346\n",
      "[142]\tvalid_0's binary_logloss: 0.458301\n",
      "[143]\tvalid_0's binary_logloss: 0.458282\n",
      "[144]\tvalid_0's binary_logloss: 0.457867\n",
      "[145]\tvalid_0's binary_logloss: 0.45757\n",
      "[146]\tvalid_0's binary_logloss: 0.457368\n",
      "[147]\tvalid_0's binary_logloss: 0.457083\n",
      "[148]\tvalid_0's binary_logloss: 0.457144\n",
      "[149]\tvalid_0's binary_logloss: 0.456857\n",
      "[150]\tvalid_0's binary_logloss: 0.456816\n",
      "[151]\tvalid_0's binary_logloss: 0.456802\n",
      "[152]\tvalid_0's binary_logloss: 0.456359\n",
      "[153]\tvalid_0's binary_logloss: 0.45621\n",
      "[154]\tvalid_0's binary_logloss: 0.456024\n",
      "[155]\tvalid_0's binary_logloss: 0.455768\n",
      "[156]\tvalid_0's binary_logloss: 0.455827\n",
      "[157]\tvalid_0's binary_logloss: 0.455579\n",
      "[158]\tvalid_0's binary_logloss: 0.455537\n",
      "[159]\tvalid_0's binary_logloss: 0.455526\n",
      "[160]\tvalid_0's binary_logloss: 0.455085\n",
      "[161]\tvalid_0's binary_logloss: 0.454836\n",
      "[162]\tvalid_0's binary_logloss: 0.454729\n",
      "[163]\tvalid_0's binary_logloss: 0.454498\n",
      "[164]\tvalid_0's binary_logloss: 0.454554\n",
      "[165]\tvalid_0's binary_logloss: 0.454332\n",
      "[166]\tvalid_0's binary_logloss: 0.454293\n",
      "[167]\tvalid_0's binary_logloss: 0.454283\n",
      "[168]\tvalid_0's binary_logloss: 0.453792\n",
      "[169]\tvalid_0's binary_logloss: 0.453633\n",
      "[170]\tvalid_0's binary_logloss: 0.453507\n",
      "[171]\tvalid_0's binary_logloss: 0.453294\n",
      "[172]\tvalid_0's binary_logloss: 0.453344\n",
      "[173]\tvalid_0's binary_logloss: 0.453139\n",
      "[174]\tvalid_0's binary_logloss: 0.453099\n",
      "[175]\tvalid_0's binary_logloss: 0.45309\n",
      "[176]\tvalid_0's binary_logloss: 0.452758\n",
      "[177]\tvalid_0's binary_logloss: 0.452601\n",
      "[178]\tvalid_0's binary_logloss: 0.45246\n",
      "[179]\tvalid_0's binary_logloss: 0.452269\n",
      "[180]\tvalid_0's binary_logloss: 0.452317\n",
      "[181]\tvalid_0's binary_logloss: 0.452134\n",
      "[182]\tvalid_0's binary_logloss: 0.452098\n",
      "[183]\tvalid_0's binary_logloss: 0.452093\n",
      "[184]\tvalid_0's binary_logloss: 0.45166\n",
      "[185]\tvalid_0's binary_logloss: 0.451517\n",
      "[186]\tvalid_0's binary_logloss: 0.451445\n",
      "[187]\tvalid_0's binary_logloss: 0.45127\n",
      "[188]\tvalid_0's binary_logloss: 0.451317\n",
      "[189]\tvalid_0's binary_logloss: 0.451152\n",
      "[190]\tvalid_0's binary_logloss: 0.451117\n",
      "[191]\tvalid_0's binary_logloss: 0.451113\n",
      "[192]\tvalid_0's binary_logloss: 0.450851\n",
      "[193]\tvalid_0's binary_logloss: 0.450739\n",
      "[194]\tvalid_0's binary_logloss: 0.450641\n",
      "[195]\tvalid_0's binary_logloss: 0.450481\n",
      "[196]\tvalid_0's binary_logloss: 0.450524\n",
      "[197]\tvalid_0's binary_logloss: 0.450374\n",
      "[198]\tvalid_0's binary_logloss: 0.450342\n",
      "[199]\tvalid_0's binary_logloss: 0.450339\n",
      "[200]\tvalid_0's binary_logloss: 0.45011\n",
      "[201]\tvalid_0's binary_logloss: 0.450049\n",
      "[202]\tvalid_0's binary_logloss: 0.449976\n",
      "[203]\tvalid_0's binary_logloss: 0.449832\n",
      "[204]\tvalid_0's binary_logloss: 0.449877\n",
      "[205]\tvalid_0's binary_logloss: 0.449744\n",
      "[206]\tvalid_0's binary_logloss: 0.449715\n",
      "[207]\tvalid_0's binary_logloss: 0.449716\n",
      "[208]\tvalid_0's binary_logloss: 0.449393\n",
      "[209]\tvalid_0's binary_logloss: 0.449276\n",
      "[210]\tvalid_0's binary_logloss: 0.449233\n",
      "[211]\tvalid_0's binary_logloss: 0.449097\n",
      "[212]\tvalid_0's binary_logloss: 0.449137\n",
      "[213]\tvalid_0's binary_logloss: 0.449002\n",
      "[214]\tvalid_0's binary_logloss: 0.448975\n",
      "[215]\tvalid_0's binary_logloss: 0.448976\n",
      "[216]\tvalid_0's binary_logloss: 0.448687\n",
      "[217]\tvalid_0's binary_logloss: 0.448602\n",
      "[218]\tvalid_0's binary_logloss: 0.448533\n",
      "[219]\tvalid_0's binary_logloss: 0.448408\n",
      "[220]\tvalid_0's binary_logloss: 0.448447\n",
      "[221]\tvalid_0's binary_logloss: 0.448335\n",
      "[222]\tvalid_0's binary_logloss: 0.448293\n",
      "[223]\tvalid_0's binary_logloss: 0.448274\n",
      "[224]\tvalid_0's binary_logloss: 0.448136\n",
      "[225]\tvalid_0's binary_logloss: 0.448076\n",
      "[226]\tvalid_0's binary_logloss: 0.448058\n",
      "[227]\tvalid_0's binary_logloss: 0.447943\n",
      "[228]\tvalid_0's binary_logloss: 0.447979\n",
      "[229]\tvalid_0's binary_logloss: 0.447879\n",
      "[230]\tvalid_0's binary_logloss: 0.447855\n",
      "[231]\tvalid_0's binary_logloss: 0.447858\n",
      "[232]\tvalid_0's binary_logloss: 0.447574\n",
      "[233]\tvalid_0's binary_logloss: 0.447535\n",
      "[234]\tvalid_0's binary_logloss: 0.447478\n",
      "[235]\tvalid_0's binary_logloss: 0.44737\n",
      "[236]\tvalid_0's binary_logloss: 0.447404\n",
      "[237]\tvalid_0's binary_logloss: 0.447311\n",
      "[238]\tvalid_0's binary_logloss: 0.447276\n",
      "[239]\tvalid_0's binary_logloss: 0.44728\n",
      "[240]\tvalid_0's binary_logloss: 0.446872\n",
      "[241]\tvalid_0's binary_logloss: 0.44683\n",
      "[242]\tvalid_0's binary_logloss: 0.446779\n",
      "[243]\tvalid_0's binary_logloss: 0.44668\n",
      "[244]\tvalid_0's binary_logloss: 0.446711\n",
      "[245]\tvalid_0's binary_logloss: 0.446626\n",
      "[246]\tvalid_0's binary_logloss: 0.446605\n",
      "[247]\tvalid_0's binary_logloss: 0.446588\n",
      "[248]\tvalid_0's binary_logloss: 0.446474\n",
      "[249]\tvalid_0's binary_logloss: 0.446428\n",
      "[250]\tvalid_0's binary_logloss: 0.446401\n",
      "[251]\tvalid_0's binary_logloss: 0.446308\n",
      "[252]\tvalid_0's binary_logloss: 0.446337\n",
      "[253]\tvalid_0's binary_logloss: 0.446259\n",
      "[254]\tvalid_0's binary_logloss: 0.446223\n",
      "[255]\tvalid_0's binary_logloss: 0.44623\n",
      "[256]\tvalid_0's binary_logloss: 0.446022\n",
      "[257]\tvalid_0's binary_logloss: 0.445976\n",
      "[258]\tvalid_0's binary_logloss: 0.445936\n",
      "[259]\tvalid_0's binary_logloss: 0.445851\n",
      "[260]\tvalid_0's binary_logloss: 0.44588\n",
      "[261]\tvalid_0's binary_logloss: 0.445798\n",
      "[262]\tvalid_0's binary_logloss: 0.445783\n",
      "[263]\tvalid_0's binary_logloss: 0.445769\n",
      "[264]\tvalid_0's binary_logloss: 0.445651\n",
      "[265]\tvalid_0's binary_logloss: 0.445631\n",
      "[266]\tvalid_0's binary_logloss: 0.445611\n",
      "[267]\tvalid_0's binary_logloss: 0.445532\n",
      "[268]\tvalid_0's binary_logloss: 0.445559\n",
      "[269]\tvalid_0's binary_logloss: 0.445495\n",
      "[270]\tvalid_0's binary_logloss: 0.445478\n",
      "[271]\tvalid_0's binary_logloss: 0.445464\n",
      "[272]\tvalid_0's binary_logloss: 0.445337\n",
      "[273]\tvalid_0's binary_logloss: 0.445297\n",
      "[274]\tvalid_0's binary_logloss: 0.445274\n",
      "[275]\tvalid_0's binary_logloss: 0.4452\n",
      "[276]\tvalid_0's binary_logloss: 0.445226\n",
      "[277]\tvalid_0's binary_logloss: 0.445167\n",
      "[278]\tvalid_0's binary_logloss: 0.445141\n",
      "[279]\tvalid_0's binary_logloss: 0.44515\n",
      "[280]\tvalid_0's binary_logloss: 0.444947\n",
      "[281]\tvalid_0's binary_logloss: 0.444927\n",
      "[282]\tvalid_0's binary_logloss: 0.444903\n",
      "[283]\tvalid_0's binary_logloss: 0.444834\n",
      "[284]\tvalid_0's binary_logloss: 0.444857\n",
      "[285]\tvalid_0's binary_logloss: 0.444802\n",
      "[286]\tvalid_0's binary_logloss: 0.444788\n",
      "[287]\tvalid_0's binary_logloss: 0.444775\n",
      "[288]\tvalid_0's binary_logloss: 0.444635\n",
      "[289]\tvalid_0's binary_logloss: 0.444602\n",
      "[290]\tvalid_0's binary_logloss: 0.444581\n",
      "[291]\tvalid_0's binary_logloss: 0.444513\n",
      "[292]\tvalid_0's binary_logloss: 0.444533\n",
      "[293]\tvalid_0's binary_logloss: 0.444482\n",
      "[294]\tvalid_0's binary_logloss: 0.444453\n",
      "[295]\tvalid_0's binary_logloss: 0.444463\n",
      "[296]\tvalid_0's binary_logloss: 0.44429\n",
      "[297]\tvalid_0's binary_logloss: 0.444272\n",
      "[298]\tvalid_0's binary_logloss: 0.444263\n",
      "[299]\tvalid_0's binary_logloss: 0.444189\n",
      "[300]\tvalid_0's binary_logloss: 0.444209\n",
      "[301]\tvalid_0's binary_logloss: 0.444163\n",
      "[302]\tvalid_0's binary_logloss: 0.444156\n",
      "[303]\tvalid_0's binary_logloss: 0.444143\n",
      "[304]\tvalid_0's binary_logloss: 0.44406\n",
      "[305]\tvalid_0's binary_logloss: 0.444051\n",
      "[306]\tvalid_0's binary_logloss: 0.444041\n",
      "[307]\tvalid_0's binary_logloss: 0.443971\n",
      "[308]\tvalid_0's binary_logloss: 0.44399\n",
      "[309]\tvalid_0's binary_logloss: 0.443937\n",
      "[310]\tvalid_0's binary_logloss: 0.443911\n",
      "[311]\tvalid_0's binary_logloss: 0.443902\n",
      "[312]\tvalid_0's binary_logloss: 0.44386\n",
      "[313]\tvalid_0's binary_logloss: 0.443849\n",
      "[314]\tvalid_0's binary_logloss: 0.443831\n"
     ]
    },
    {
     "name": "stdout",
     "output_type": "stream",
     "text": [
      "[315]\tvalid_0's binary_logloss: 0.443767\n",
      "[316]\tvalid_0's binary_logloss: 0.443787\n",
      "[317]\tvalid_0's binary_logloss: 0.443751\n",
      "[318]\tvalid_0's binary_logloss: 0.443747\n",
      "[319]\tvalid_0's binary_logloss: 0.44376\n",
      "[320]\tvalid_0's binary_logloss: 0.443742\n",
      "[321]\tvalid_0's binary_logloss: 0.443725\n",
      "[322]\tvalid_0's binary_logloss: 0.443719\n",
      "[323]\tvalid_0's binary_logloss: 0.443656\n",
      "[324]\tvalid_0's binary_logloss: 0.443675\n",
      "[325]\tvalid_0's binary_logloss: 0.44364\n",
      "[326]\tvalid_0's binary_logloss: 0.44361\n",
      "[327]\tvalid_0's binary_logloss: 0.443602\n",
      "[328]\tvalid_0's binary_logloss: 0.443425\n",
      "[329]\tvalid_0's binary_logloss: 0.443423\n",
      "[330]\tvalid_0's binary_logloss: 0.443412\n",
      "[331]\tvalid_0's binary_logloss: 0.443356\n",
      "[332]\tvalid_0's binary_logloss: 0.443377\n",
      "[333]\tvalid_0's binary_logloss: 0.443349\n",
      "[334]\tvalid_0's binary_logloss: 0.443344\n",
      "[335]\tvalid_0's binary_logloss: 0.443338\n",
      "[336]\tvalid_0's binary_logloss: 0.443083\n",
      "[337]\tvalid_0's binary_logloss: 0.443097\n",
      "[338]\tvalid_0's binary_logloss: 0.443096\n",
      "[339]\tvalid_0's binary_logloss: 0.44304\n",
      "[340]\tvalid_0's binary_logloss: 0.443058\n",
      "[341]\tvalid_0's binary_logloss: 0.44303\n",
      "[342]\tvalid_0's binary_logloss: 0.443014\n",
      "[343]\tvalid_0's binary_logloss: 0.443026\n",
      "[344]\tvalid_0's binary_logloss: 0.443012\n",
      "[345]\tvalid_0's binary_logloss: 0.443013\n",
      "[346]\tvalid_0's binary_logloss: 0.443008\n",
      "[347]\tvalid_0's binary_logloss: 0.44299\n",
      "[348]\tvalid_0's binary_logloss: 0.443003\n",
      "[349]\tvalid_0's binary_logloss: 0.442974\n",
      "[350]\tvalid_0's binary_logloss: 0.442945\n",
      "[351]\tvalid_0's binary_logloss: 0.442937\n",
      "[352]\tvalid_0's binary_logloss: 0.442777\n",
      "[353]\tvalid_0's binary_logloss: 0.442777\n",
      "[354]\tvalid_0's binary_logloss: 0.44278\n",
      "[355]\tvalid_0's binary_logloss: 0.442722\n",
      "[356]\tvalid_0's binary_logloss: 0.442722\n",
      "[357]\tvalid_0's binary_logloss: 0.442686\n",
      "[358]\tvalid_0's binary_logloss: 0.442665\n",
      "[359]\tvalid_0's binary_logloss: 0.442659\n",
      "[360]\tvalid_0's binary_logloss: 0.442718\n",
      "[361]\tvalid_0's binary_logloss: 0.442729\n",
      "[362]\tvalid_0's binary_logloss: 0.442735\n",
      "[363]\tvalid_0's binary_logloss: 0.44272\n",
      "[364]\tvalid_0's binary_logloss: 0.442734\n",
      "[365]\tvalid_0's binary_logloss: 0.442712\n",
      "[366]\tvalid_0's binary_logloss: 0.442686\n",
      "[367]\tvalid_0's binary_logloss: 0.442695\n",
      "[368]\tvalid_0's binary_logloss: 0.44258\n",
      "[369]\tvalid_0's binary_logloss: 0.442585\n",
      "[370]\tvalid_0's binary_logloss: 0.442595\n",
      "[371]\tvalid_0's binary_logloss: 0.442577\n",
      "[372]\tvalid_0's binary_logloss: 0.442577\n",
      "[373]\tvalid_0's binary_logloss: 0.442552\n",
      "[374]\tvalid_0's binary_logloss: 0.442529\n",
      "[375]\tvalid_0's binary_logloss: 0.44252\n",
      "[376]\tvalid_0's binary_logloss: 0.442392\n",
      "[377]\tvalid_0's binary_logloss: 0.442396\n",
      "[378]\tvalid_0's binary_logloss: 0.442395\n",
      "[379]\tvalid_0's binary_logloss: 0.442345\n",
      "[380]\tvalid_0's binary_logloss: 0.442345\n",
      "[381]\tvalid_0's binary_logloss: 0.442324\n",
      "[382]\tvalid_0's binary_logloss: 0.442307\n",
      "[383]\tvalid_0's binary_logloss: 0.442299\n",
      "[384]\tvalid_0's binary_logloss: 0.442334\n",
      "[385]\tvalid_0's binary_logloss: 0.442329\n",
      "[386]\tvalid_0's binary_logloss: 0.442328\n",
      "[387]\tvalid_0's binary_logloss: 0.442283\n",
      "[388]\tvalid_0's binary_logloss: 0.442298\n",
      "[389]\tvalid_0's binary_logloss: 0.442282\n",
      "[390]\tvalid_0's binary_logloss: 0.442259\n",
      "[391]\tvalid_0's binary_logloss: 0.442265\n",
      "[392]\tvalid_0's binary_logloss: 0.442142\n",
      "[393]\tvalid_0's binary_logloss: 0.442144\n",
      "[394]\tvalid_0's binary_logloss: 0.442136\n",
      "[395]\tvalid_0's binary_logloss: 0.442092\n",
      "[396]\tvalid_0's binary_logloss: 0.442092\n",
      "[397]\tvalid_0's binary_logloss: 0.442078\n",
      "[398]\tvalid_0's binary_logloss: 0.442067\n",
      "[399]\tvalid_0's binary_logloss: 0.442062\n",
      "[400]\tvalid_0's binary_logloss: 0.442093\n",
      "[401]\tvalid_0's binary_logloss: 0.442073\n",
      "[402]\tvalid_0's binary_logloss: 0.442085\n",
      "[403]\tvalid_0's binary_logloss: 0.442073\n",
      "[404]\tvalid_0's binary_logloss: 0.442073\n",
      "[405]\tvalid_0's binary_logloss: 0.442048\n",
      "[406]\tvalid_0's binary_logloss: 0.442026\n",
      "[407]\tvalid_0's binary_logloss: 0.442022\n",
      "[408]\tvalid_0's binary_logloss: 0.441882\n",
      "[409]\tvalid_0's binary_logloss: 0.441884\n",
      "[410]\tvalid_0's binary_logloss: 0.441875\n",
      "[411]\tvalid_0's binary_logloss: 0.441859\n",
      "[412]\tvalid_0's binary_logloss: 0.441873\n",
      "[413]\tvalid_0's binary_logloss: 0.441861\n",
      "[414]\tvalid_0's binary_logloss: 0.44184\n",
      "[415]\tvalid_0's binary_logloss: 0.441836\n",
      "[416]\tvalid_0's binary_logloss: 0.441841\n",
      "[417]\tvalid_0's binary_logloss: 0.44183\n",
      "[418]\tvalid_0's binary_logloss: 0.44182\n",
      "[419]\tvalid_0's binary_logloss: 0.441805\n",
      "[420]\tvalid_0's binary_logloss: 0.441805\n",
      "[421]\tvalid_0's binary_logloss: 0.441794\n",
      "[422]\tvalid_0's binary_logloss: 0.441778\n",
      "[423]\tvalid_0's binary_logloss: 0.441774\n",
      "[424]\tvalid_0's binary_logloss: 0.441765\n",
      "[425]\tvalid_0's binary_logloss: 0.441756\n",
      "[426]\tvalid_0's binary_logloss: 0.441746\n",
      "[427]\tvalid_0's binary_logloss: 0.44171\n",
      "[428]\tvalid_0's binary_logloss: 0.44171\n",
      "[429]\tvalid_0's binary_logloss: 0.441701\n",
      "[430]\tvalid_0's binary_logloss: 0.441685\n",
      "[431]\tvalid_0's binary_logloss: 0.441694\n",
      "[432]\tvalid_0's binary_logloss: 0.441595\n",
      "[433]\tvalid_0's binary_logloss: 0.441612\n",
      "[434]\tvalid_0's binary_logloss: 0.441597\n",
      "[435]\tvalid_0's binary_logloss: 0.441584\n",
      "[436]\tvalid_0's binary_logloss: 0.441584\n",
      "[437]\tvalid_0's binary_logloss: 0.441576\n",
      "[438]\tvalid_0's binary_logloss: 0.441569\n",
      "[439]\tvalid_0's binary_logloss: 0.441565\n",
      "[440]\tvalid_0's binary_logloss: 0.441625\n",
      "[441]\tvalid_0's binary_logloss: 0.441619\n",
      "[442]\tvalid_0's binary_logloss: 0.441609\n",
      "[443]\tvalid_0's binary_logloss: 0.441596\n",
      "[444]\tvalid_0's binary_logloss: 0.441596\n",
      "[445]\tvalid_0's binary_logloss: 0.441589\n",
      "[446]\tvalid_0's binary_logloss: 0.441575\n",
      "[447]\tvalid_0's binary_logloss: 0.441573\n",
      "[448]\tvalid_0's binary_logloss: 0.441619\n",
      "[449]\tvalid_0's binary_logloss: 0.441605\n",
      "[450]\tvalid_0's binary_logloss: 0.441588\n",
      "[451]\tvalid_0's binary_logloss: 0.441579\n",
      "[452]\tvalid_0's binary_logloss: 0.441579\n",
      "[453]\tvalid_0's binary_logloss: 0.441561\n",
      "[454]\tvalid_0's binary_logloss: 0.441545\n",
      "[455]\tvalid_0's binary_logloss: 0.441553\n",
      "[456]\tvalid_0's binary_logloss: 0.441416\n",
      "[457]\tvalid_0's binary_logloss: 0.441419\n",
      "[458]\tvalid_0's binary_logloss: 0.441409\n",
      "[459]\tvalid_0's binary_logloss: 0.441401\n",
      "[460]\tvalid_0's binary_logloss: 0.441401\n",
      "[461]\tvalid_0's binary_logloss: 0.441396\n",
      "[462]\tvalid_0's binary_logloss: 0.44139\n",
      "[463]\tvalid_0's binary_logloss: 0.441388\n",
      "[464]\tvalid_0's binary_logloss: 0.441454\n",
      "[465]\tvalid_0's binary_logloss: 0.441474\n",
      "[466]\tvalid_0's binary_logloss: 0.441471\n",
      "[467]\tvalid_0's binary_logloss: 0.44144\n",
      "[468]\tvalid_0's binary_logloss: 0.44144\n",
      "[469]\tvalid_0's binary_logloss: 0.441435\n",
      "[470]\tvalid_0's binary_logloss: 0.441429\n",
      "[471]\tvalid_0's binary_logloss: 0.441427\n",
      "[472]\tvalid_0's binary_logloss: 0.4414\n",
      "[473]\tvalid_0's binary_logloss: 0.441395\n",
      "[474]\tvalid_0's binary_logloss: 0.441385\n",
      "[475]\tvalid_0's binary_logloss: 0.441375\n",
      "[476]\tvalid_0's binary_logloss: 0.441375\n",
      "[477]\tvalid_0's binary_logloss: 0.441369\n",
      "[478]\tvalid_0's binary_logloss: 0.441357\n",
      "[479]\tvalid_0's binary_logloss: 0.441354\n",
      "[480]\tvalid_0's binary_logloss: 0.441227\n",
      "[481]\tvalid_0's binary_logloss: 0.441234\n",
      "[482]\tvalid_0's binary_logloss: 0.441218\n",
      "[483]\tvalid_0's binary_logloss: 0.441211\n",
      "[484]\tvalid_0's binary_logloss: 0.441211\n",
      "[485]\tvalid_0's binary_logloss: 0.441206\n",
      "[486]\tvalid_0's binary_logloss: 0.441193\n",
      "[487]\tvalid_0's binary_logloss: 0.441199\n",
      "[488]\tvalid_0's binary_logloss: 0.441257\n",
      "[489]\tvalid_0's binary_logloss: 0.441264\n",
      "[490]\tvalid_0's binary_logloss: 0.44126\n",
      "[491]\tvalid_0's binary_logloss: 0.441253\n",
      "[492]\tvalid_0's binary_logloss: 0.441253\n",
      "[493]\tvalid_0's binary_logloss: 0.441247\n",
      "[494]\tvalid_0's binary_logloss: 0.44124\n",
      "[495]\tvalid_0's binary_logloss: 0.441236\n",
      "[496]\tvalid_0's binary_logloss: 0.441112\n",
      "[497]\tvalid_0's binary_logloss: 0.441112\n",
      "[498]\tvalid_0's binary_logloss: 0.441108\n",
      "[499]\tvalid_0's binary_logloss: 0.4411\n",
      "[500]\tvalid_0's binary_logloss: 0.4411\n"
     ]
    }
   ],
   "source": [
    "import lightgbm as lgb\n",
    "clf = lgb.LGBMClassifier(class_weight='balanced',drop_rate=0.9, min_data_in_leaf=100, max_bin=255,\n",
    "                                 n_estimators=500,min_sum_hessian_in_leaf=1,importance_type='gain',learning_rate=0.1,bagging_fraction = 0.85,\n",
    "                                 colsample_bytree = 1.0,feature_fraction = 0.1,lambda_l1 = 5.0,lambda_l2 = 3.0,max_depth =  9,\n",
    "                                 min_child_samples = 55,min_child_weight = 5.0,min_split_gain = 0.1,num_leaves = 45,subsample = 0.75)  \n",
    "predicts = []\n",
    "clf.fit(smotex, smotey, eval_set=[(testx, testy)], early_stopping_rounds=20)\n",
    "predicts.append(clf.predict(testx))"
   ]
  },
  {
   "cell_type": "code",
   "execution_count": 80,
   "id": "77ba4a4b",
   "metadata": {},
   "outputs": [
    {
     "data": {
      "image/png": "[encoded data removed]",
      "text/plain": [
       "<Figure size 1440x720 with 1 Axes>"
      ]
     },
     "metadata": {
      "needs_background": "light"
     },
     "output_type": "display_data"
    }
   ],
   "source": [
    "import seaborn as sns\n",
    "\n",
    "feature_imp = pd.DataFrame(sorted(zip(clf.feature_importances_,smotex.columns)), columns=['Value','Feature'])\n",
    "\n",
    "plt.figure(figsize=(20, 10))\n",
    "sns.barplot(x=\"Value\", y=\"Feature\", data=feature_imp.sort_values(by=\"Value\", ascending=False))\n",
    "plt.title('LightGBM Features (avg over folds)')\n",
    "plt.tight_layout()\n",
    "plt.show()"
   ]
  },
  {
   "cell_type": "markdown",
   "id": "8de77816",
   "metadata": {},
   "source": [
    "### Caculate the sensitive measure based on the prediction of Logistic regression"
   ]
  },
  {
   "cell_type": "code",
   "execution_count": 76,
   "id": "847151da",
   "metadata": {},
   "outputs": [],
   "source": [
    "def stat_parity2(preds, sens):\n",
    "    '''\n",
    "    :preds: numpy array of the model predictions. Consisting of 0s and 1s\n",
    "    :sens: numpy array of the sensitive features. Consisting of 0s and 1s\n",
    "    :return: the statistical parity. no need to take the absolute value\n",
    "    '''\n",
    "    group1=0\n",
    "    group2=0\n",
    "    count1=0\n",
    "    count2=0\n",
    "    for i in range(len(sens)):\n",
    "        if sens[i]==1:\n",
    "            group1+=1\n",
    "            if preds[i]==1:\n",
    "                count1+=1\n",
    "        else:\n",
    "            group2+=1\n",
    "            if preds[i]==1:\n",
    "                count2+=1\n",
    "    prob1=count1/group1 if group1!=0 else 0\n",
    "    prob2=count2/group2 if group2!=0 else 0\n",
    "    return prob1-prob2\n",
    "\n",
    "\n",
    "def eq_oppo2(preds, sens, labels):\n",
    "    '''\n",
    "    :preds: numpy array of the model predictions. Consisting of 0s and 1s\n",
    "    :sens: numpy array of the sensitive features. Consisting of 0s and 1s\n",
    "    :labels: numpy array of the ground truth labels of the outcome. Consisting of 0s and 1s\n",
    "    :return: the statistical parity. no need to take the absolute value\n",
    "    '''\n",
    "    \n",
    "    group1=0\n",
    "    group2=0\n",
    "    count1=0\n",
    "    count2=0\n",
    "    for i in range(len(sens)):\n",
    "        if (sens[i]==1) and (labels[i]==1):\n",
    "            group1+=1\n",
    "            if preds[i]==1:\n",
    "                count1+=1\n",
    "        elif (sens[i]==0) and (labels[i]==1):\n",
    "            group2+=1\n",
    "            if preds[i]==1:\n",
    "                count2+=1\n",
    "    prob1=count1/group1 if group1!=0 else 0\n",
    "    prob2=count2/group2 if group2!=0 else 0\n",
    "    return prob1-prob2"
   ]
  },
  {
   "cell_type": "code",
   "execution_count": 77,
   "id": "2af98bb4",
   "metadata": {},
   "outputs": [],
   "source": [
    "testx=testx.reset_index(drop=True)\n",
    "testy=testy.reset_index(drop=True)"
   ]
  },
  {
   "cell_type": "code",
   "execution_count": 78,
   "id": "61736a50",
   "metadata": {},
   "outputs": [
    {
     "name": "stdout",
     "output_type": "stream",
     "text": [
      "-0.19167651765535487 -0.2116912128553572\n"
     ]
    }
   ],
   "source": [
    "stat_p = stat_parity2(pre_testy, testx['color_label'])\n",
    "eq_op = eq_oppo2(pre_testy, testx['color_label'], testy)\n",
    "print( stat_p, eq_op)"
   ]
  },
  {
   "cell_type": "markdown",
   "id": "0f2361f8",
   "metadata": {},
   "source": [
    "### SVM using grid search cv"
   ]
  },
  {
   "cell_type": "code",
   "execution_count": 83,
   "id": "141846a7",
   "metadata": {},
   "outputs": [],
   "source": [
    "from sklearn.model_selection import GridSearchCV\n",
    "from sklearn.metrics import classification_report, confusion_matrix, f1_score\n",
    "from sklearn.svm import SVC\n",
    "from sklearn.model_selection import StratifiedKFold\n",
    "import numpy as np\n",
    "C_range = np.logspace(-1, 1, 3)\n",
    "gamma_range = np.linspace(0.1, 1, 5)\n",
    "param_grid = dict(gamma=gamma_range, C=C_range)\n",
    "cv = StratifiedKFold(10, random_state=1, shuffle=True)\n",
    "def choosemodel(classifier, x_train, y_train, x_test, y_test,param_grid,cv):\n",
    "    model = GridSearchCV(estimator=classifier, param_grid=param_grid, cv=cv)\n",
    "    model.fit(x_train, y_train)\n",
    "    prediction = model.predict(x_test)\n",
    "    print(\"The parameter we choose for this SVM model is:\")\n",
    "    print(model.best_params_, \"\\n\")\n",
    "    print(classification_report(y_test, prediction))\n",
    "    return model"
   ]
  },
  {
   "cell_type": "code",
   "execution_count": 84,
   "id": "883f4a91",
   "metadata": {},
   "outputs": [
    {
     "name": "stdout",
     "output_type": "stream",
     "text": [
      "The parameter we choose for this SVM model is:\n",
      "{'C': 10.0, 'gamma': 0.1} \n",
      "\n",
      "              precision    recall  f1-score   support\n",
      "\n",
      "           0       0.82      0.91      0.86      5253\n",
      "           1       0.76      0.57      0.65      2487\n",
      "\n",
      "    accuracy                           0.80      7740\n",
      "   macro avg       0.79      0.74      0.76      7740\n",
      "weighted avg       0.80      0.80      0.79      7740\n",
      "\n"
     ]
    }
   ],
   "source": [
    "result= choosemodel(SVC(kernel='rbf'),trainx, trainy, testx, testy,param_grid,cv)"
   ]
  },
  {
   "cell_type": "code",
   "execution_count": 86,
   "id": "0cbed697",
   "metadata": {},
   "outputs": [
    {
     "name": "stdout",
     "output_type": "stream",
     "text": [
      "-0.0028448404103318115 -0.019156181263282557\n"
     ]
    }
   ],
   "source": [
    "svm_prediction = result.predict(testx)\n",
    "svm_stat_p = stat_parity2(svm_prediction, testx['color_label'])\n",
    "svm_eq_op = eq_oppo2(svm_prediction, testx['color_label'], testy)\n",
    "print( svm_stat_p, svm_eq_op)"
   ]
  },
  {
   "cell_type": "code",
   "execution_count": null,
   "id": "2707fabb",
   "metadata": {},
   "outputs": [],
   "source": []
  },
  {
   "cell_type": "markdown",
   "id": "7c67d39d",
   "metadata": {},
   "source": [
    "# remove color"
   ]
  },
  {
   "cell_type": "code",
   "execution_count": 90,
   "id": "ae9da6ca",
   "metadata": {},
   "outputs": [],
   "source": [
    "nocolor_trainx=trainx.drop(columns=['color_label'])\n",
    "nocolor_testx=testx.drop(columns=['color_label'])"
   ]
  },
  {
   "cell_type": "code",
   "execution_count": 91,
   "id": "4ad98e6f",
   "metadata": {},
   "outputs": [
    {
     "data": {
      "image/png": "[encoded data removed]",
      "text/plain": [
       "<Figure size 432x288 with 1 Axes>"
      ]
     },
     "metadata": {
      "needs_background": "light"
     },
     "output_type": "display_data"
    }
   ],
   "source": [
    "nocolor_clf=LogisticRegression(solver='lbfgs',max_iter=300)\n",
    "nocolor_clf.fit(nocolor_trainx, trainy)\n",
    "\n",
    "nocolor_pre_trainy=nocolor_clf.predict(nocolor_trainx)\n",
    "nocolor_proba_pre_trainy=nocolor_clf.predict_proba(nocolor_trainx)\n",
    "\n",
    "fpr, tpr, thresholds=roc_curve(trainy,nocolor_proba_pre_trainy[:,1],pos_label=1)\n",
    "roc_auc=auc(fpr,tpr)\n",
    "\n",
    "\n",
    "plt.plot(fpr, tpr, color='darkorange',label='ROC curve (area = %0.2f)' % roc_auc)\n",
    "plt.plot([0, 1], [0, 1], color='navy',  linestyle='--')\n",
    "plt.xlim([-0.03, 1.0])\n",
    "plt.ylim([0.0, 1.05])\n",
    "plt.xlabel('False Positive Rate')\n",
    "plt.ylabel('True Positive Rate')\n",
    "plt.title('ROC and AUC')\n",
    "plt.legend(loc=\"lower right\")\n",
    "plt.show()"
   ]
  },
  {
   "cell_type": "code",
   "execution_count": 92,
   "id": "437e4da1",
   "metadata": {},
   "outputs": [
    {
     "name": "stdout",
     "output_type": "stream",
     "text": [
      "              precision    recall  f1-score   support\n",
      "\n",
      "           0       0.76      0.91      0.83     12308\n",
      "           1       0.66      0.37      0.47      5750\n",
      "\n",
      "    accuracy                           0.74     18058\n",
      "   macro avg       0.71      0.64      0.65     18058\n",
      "weighted avg       0.73      0.74      0.71     18058\n",
      "\n"
     ]
    }
   ],
   "source": [
    "con_mtrx=confusion_matrix(trainy,nocolor_pre_trainy,labels=[0,1])\n",
    "\n",
    "print(classification_report(trainy,nocolor_pre_trainy))"
   ]
  },
  {
   "cell_type": "code",
   "execution_count": 93,
   "id": "4b41e6cf",
   "metadata": {},
   "outputs": [
    {
     "data": {
      "text/plain": [
       "0.7410852713178294"
      ]
     },
     "execution_count": 93,
     "metadata": {},
     "output_type": "execute_result"
    }
   ],
   "source": [
    "nocolor_pre_testy=nocolor_clf.predict(nocolor_testx)\n",
    "nocolor_proba_pre_testy=nocolor_clf.predict_proba(nocolor_testx)\n",
    "con_mtrx=confusion_matrix(testy,nocolor_pre_testy,labels=[1,0])\n",
    "accuracy=(con_mtrx[0,0]+con_mtrx[1,1])/np.sum(con_mtrx)\n",
    "accuracy"
   ]
  },
  {
   "cell_type": "code",
   "execution_count": 94,
   "id": "87accaa9",
   "metadata": {},
   "outputs": [
    {
     "name": "stdout",
     "output_type": "stream",
     "text": [
      "              precision    recall  f1-score   support\n",
      "\n",
      "           0       0.76      0.92      0.83      5253\n",
      "           1       0.68      0.37      0.48      2487\n",
      "\n",
      "    accuracy                           0.74      7740\n",
      "   macro avg       0.72      0.64      0.65      7740\n",
      "weighted avg       0.73      0.74      0.72      7740\n",
      "\n"
     ]
    }
   ],
   "source": [
    "con_mtrx=confusion_matrix(testy,nocolor_pre_testy,labels=[0,1])\n",
    "\n",
    "print(classification_report(testy,nocolor_pre_testy))"
   ]
  },
  {
   "cell_type": "code",
   "execution_count": 95,
   "id": "67836b17",
   "metadata": {},
   "outputs": [
    {
     "name": "stdout",
     "output_type": "stream",
     "text": [
      "-0.039859241196239514 -0.08274434875133363\n"
     ]
    }
   ],
   "source": [
    "stat_p = stat_parity2(nocolor_pre_testy, testx['color_label'])\n",
    "eq_op = eq_oppo2(nocolor_pre_testy, testx['color_label'], testy)\n",
    "print( stat_p, eq_op)"
   ]
  },
  {
   "cell_type": "markdown",
   "id": "121eefc1",
   "metadata": {},
   "source": [
    "### SVM using no color column"
   ]
  },
  {
   "cell_type": "code",
   "execution_count": 98,
   "id": "2cb7784b",
   "metadata": {},
   "outputs": [
    {
     "name": "stdout",
     "output_type": "stream",
     "text": [
      "The parameter we choose for this SVM model is:\n",
      "{'C': 10.0, 'gamma': 0.1} \n",
      "\n",
      "              precision    recall  f1-score   support\n",
      "\n",
      "           0       0.82      0.91      0.86      5253\n",
      "           1       0.76      0.57      0.65      2487\n",
      "\n",
      "    accuracy                           0.80      7740\n",
      "   macro avg       0.79      0.74      0.76      7740\n",
      "weighted avg       0.80      0.80      0.80      7740\n",
      "\n"
     ]
    }
   ],
   "source": [
    "no_color_result= choosemodel(SVC(kernel='rbf'),nocolor_trainx, trainy, nocolor_testx, testy,param_grid,cv)"
   ]
  },
  {
   "cell_type": "code",
   "execution_count": 101,
   "id": "b5885804",
   "metadata": {},
   "outputs": [
    {
     "name": "stdout",
     "output_type": "stream",
     "text": [
      "-0.003906534413294305 -0.024555723042335442\n"
     ]
    }
   ],
   "source": [
    "svm_prediction = no_color_result.predict(nocolor_testx)\n",
    "svm_stat_p = stat_parity2(svm_prediction, testx['color_label'])\n",
    "svm_eq_op = eq_oppo2(svm_prediction, testx['color_label'], testy)\n",
    "print( svm_stat_p, svm_eq_op)"
   ]
  },
  {
   "cell_type": "markdown",
   "id": "e90a154a",
   "metadata": {},
   "source": [
    "# remove size"
   ]
  },
  {
   "cell_type": "code",
   "execution_count": 102,
   "id": "3233a9c0",
   "metadata": {},
   "outputs": [],
   "source": [
    "def stat_parity3(preds, sens):\n",
    "    '''\n",
    "    :preds: numpy array of the model predictions. Consisting of 0s and 1s\n",
    "    :sens: numpy array of the sensitive features. Consisting of 0s and 1s\n",
    "    :return: the statistical parity. no need to take the absolute value\n",
    "    '''\n",
    "    group1=0\n",
    "    group2=0\n",
    "    group3=0\n",
    "    count1=0\n",
    "    count2=0\n",
    "    count3=0\n",
    "    for i in range(len(sens)):\n",
    "        if sens[i]==0:\n",
    "            group1+=1\n",
    "            if preds[i]==1:\n",
    "                count1+=1\n",
    "        elif sens[i]==1:\n",
    "            group2+=1\n",
    "            if preds[i]==1:\n",
    "                count2+=1\n",
    "        else:\n",
    "            group3+=1\n",
    "            if preds[i]==1:\n",
    "                count3+=1\n",
    "    prob1=count1/group1 if group1!=0 else 0\n",
    "    prob2=count2/group2 if group2!=0 else 0\n",
    "    prob3=count3/group3 if group3!=0 else 0\n",
    "    return np.var([prob1,prob2,prob3])\n",
    "\n",
    "\n",
    "def eq_oppo3(preds, sens, labels):\n",
    "    '''\n",
    "    :preds: numpy array of the model predictions. Consisting of 0s and 1s\n",
    "    :sens: numpy array of the sensitive features. Consisting of 0s and 1s\n",
    "    :labels: numpy array of the ground truth labels of the outcome. Consisting of 0s and 1s\n",
    "    :return: the statistical parity. no need to take the absolute value\n",
    "    '''\n",
    "    \n",
    "    group1=0\n",
    "    group2=0\n",
    "    group3=0\n",
    "    count1=0\n",
    "    count2=0\n",
    "    count3=0\n",
    "    for i in range(len(sens)):\n",
    "        if (sens[i]==0) and (labels[i]==1):\n",
    "            group1+=1\n",
    "            if preds[i]==1:\n",
    "                count1+=1\n",
    "        elif (sens[i]==1) and (labels[i]==1):\n",
    "            group2+=1\n",
    "            if preds[i]==1:\n",
    "                count2+=1\n",
    "        elif (sens[i]==2) and (labels[i]==1):\n",
    "            group3+=1\n",
    "            if preds[i]==1:\n",
    "                count3+=1\n",
    "    prob1=count1/group1 if group1!=0 else 0\n",
    "    prob2=count2/group2 if group2!=0 else 0\n",
    "    prob3=count3/group3 if group3!=0 else 0\n",
    "    return np.var([prob1,prob2,prob3])\n"
   ]
  },
  {
   "cell_type": "code",
   "execution_count": 103,
   "id": "0b9c47f3",
   "metadata": {
    "scrolled": true
   },
   "outputs": [
    {
     "name": "stdout",
     "output_type": "stream",
     "text": [
      "0.006621581161820333 0.010087162053455598\n"
     ]
    }
   ],
   "source": [
    "stat_p = stat_parity3(pre_testy, testx['size_label'])\n",
    "eq_op = eq_oppo3(pre_testy, testx['size_label'], testy)\n",
    "print( stat_p, eq_op)"
   ]
  },
  {
   "cell_type": "code",
   "execution_count": 104,
   "id": "e9c89b7c",
   "metadata": {},
   "outputs": [],
   "source": [
    "nosize_trainx=trainx.drop(columns=['size_label'])\n",
    "nosize_testx=testx.drop(columns=['size_label'])"
   ]
  },
  {
   "cell_type": "code",
   "execution_count": 105,
   "id": "32644b16",
   "metadata": {},
   "outputs": [
    {
     "data": {
      "image/png": "[encoded data removed]",
      "text/plain": [
       "<Figure size 432x288 with 1 Axes>"
      ]
     },
     "metadata": {
      "needs_background": "light"
     },
     "output_type": "display_data"
    }
   ],
   "source": [
    "nosize_clf=LogisticRegression(solver='lbfgs',max_iter=300)\n",
    "nosize_clf.fit(nosize_trainx, trainy)\n",
    "\n",
    "nosize_pre_trainy=nosize_clf.predict(nosize_trainx)\n",
    "proba_nosize_pre_trainy=nosize_clf.predict_proba(nosize_trainx)\n",
    "\n",
    "fpr, tpr, thresholds=roc_curve(trainy,proba_nosize_pre_trainy[:,1],pos_label=1)\n",
    "roc_auc=auc(fpr,tpr)\n",
    "\n",
    "\n",
    "plt.plot(fpr, tpr, color='darkorange',label='ROC curve (area = %0.2f)' % roc_auc)\n",
    "plt.plot([0, 1], [0, 1], color='navy',  linestyle='--')\n",
    "plt.xlim([-0.03, 1.0])\n",
    "plt.ylim([0.0, 1.05])\n",
    "plt.xlabel('False Positive Rate')\n",
    "plt.ylabel('True Positive Rate')\n",
    "plt.title('ROC and AUC')\n",
    "plt.legend(loc=\"lower right\")\n",
    "plt.show()"
   ]
  },
  {
   "cell_type": "code",
   "execution_count": 107,
   "id": "f4c7e566",
   "metadata": {},
   "outputs": [
    {
     "name": "stdout",
     "output_type": "stream",
     "text": [
      "              precision    recall  f1-score   support\n",
      "\n",
      "           0       0.75      0.91      0.82      5253\n",
      "           1       0.66      0.37      0.48      2487\n",
      "\n",
      "    accuracy                           0.74      7740\n",
      "   macro avg       0.71      0.64      0.65      7740\n",
      "weighted avg       0.72      0.74      0.71      7740\n",
      "\n"
     ]
    }
   ],
   "source": [
    "#con_mtrx=confusion_matrix(trainy,nosize_pre_trainy,labels=[0,1])\n",
    "nosize_pre_testy=nosize_clf.predict(nosize_testx)\n",
    "print(classification_report(testy,nosize_pre_testy))"
   ]
  },
  {
   "cell_type": "code",
   "execution_count": 108,
   "id": "4af0e6b2",
   "metadata": {},
   "outputs": [
    {
     "data": {
      "text/plain": [
       "0.7366925064599483"
      ]
     },
     "execution_count": 108,
     "metadata": {},
     "output_type": "execute_result"
    }
   ],
   "source": [
    "nosize_pre_testy=nosize_clf.predict(nosize_testx)\n",
    "nosize_proba_pre_testy=nosize_clf.predict_proba(nosize_testx)\n",
    "con_mtrx=confusion_matrix(testy,nosize_pre_testy,labels=[1,0])\n",
    "accuracy=(con_mtrx[0,0]+con_mtrx[1,1])/np.sum(con_mtrx)\n",
    "accuracy"
   ]
  },
  {
   "cell_type": "code",
   "execution_count": 109,
   "id": "79b1eb70",
   "metadata": {
    "scrolled": false
   },
   "outputs": [
    {
     "name": "stdout",
     "output_type": "stream",
     "text": [
      "2.8729893975769922e-05 0.0012308579297140541\n"
     ]
    }
   ],
   "source": [
    "stat_p = stat_parity3(nosize_pre_testy, testx['size_label'])\n",
    "eq_op = eq_oppo3(nosize_pre_testy, testx['size_label'], testy)\n",
    "print( stat_p, eq_op)"
   ]
  },
  {
   "cell_type": "code",
   "execution_count": 110,
   "id": "bd3e49da",
   "metadata": {},
   "outputs": [
    {
     "name": "stdout",
     "output_type": "stream",
     "text": [
      "The parameter we choose for this SVM model is:\n",
      "{'C': 10.0, 'gamma': 0.1} \n",
      "\n",
      "              precision    recall  f1-score   support\n",
      "\n",
      "           0       0.82      0.91      0.86      5253\n",
      "           1       0.76      0.56      0.65      2487\n",
      "\n",
      "    accuracy                           0.80      7740\n",
      "   macro avg       0.79      0.74      0.75      7740\n",
      "weighted avg       0.80      0.80      0.79      7740\n",
      "\n"
     ]
    }
   ],
   "source": [
    "no_size_result= choosemodel(SVC(kernel='rbf'),nosize_trainx, trainy, nosize_testx, testy,param_grid,cv)"
   ]
  },
  {
   "cell_type": "code",
   "execution_count": 111,
   "id": "3ae48cb1",
   "metadata": {},
   "outputs": [
    {
     "name": "stdout",
     "output_type": "stream",
     "text": [
      "0.0003571009878177921 0.00018220758858951167\n"
     ]
    }
   ],
   "source": [
    "svm_prediction = no_size_result.predict(nosize_testx)\n",
    "svm_stat_p = stat_parity3(svm_prediction, testx['size_label'])\n",
    "svm_eq_op = eq_oppo3(svm_prediction, testx['size_label'], testy)\n",
    "print( svm_stat_p, svm_eq_op)"
   ]
  },
  {
   "cell_type": "code",
   "execution_count": null,
   "id": "cdd8b27c",
   "metadata": {},
   "outputs": [],
   "source": []
  },
  {
   "cell_type": "code",
   "execution_count": null,
   "id": "01176fe3",
   "metadata": {},
   "outputs": [],
   "source": []
  }
 ],
 "metadata": {
  "kernelspec": {
   "display_name": "Python 3",
   "language": "python",
   "name": "python3"
  },
  "language_info": {
   "codemirror_mode": {
    "name": "ipython",
    "version": 3
   },
   "file_extension": ".py",
   "mimetype": "text/x-python",
   "name": "python",
   "nbconvert_exporter": "python",
   "pygments_lexer": "ipython3",
   "version": "3.8.8"
  }
 },
 "nbformat": 4,
 "nbformat_minor": 5
}
